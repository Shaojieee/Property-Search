{
 "cells": [
  {
   "cell_type": "markdown",
   "metadata": {},
   "source": [
    "Notebook to extract location coordinate of all MRT/LRT Stations & Bus Stops\n"
   ]
  },
  {
   "cell_type": "code",
   "execution_count": 1,
   "metadata": {},
   "outputs": [],
   "source": [
    "import geopandas as gpd\n",
    "import pandas as pd\n",
    "import json"
   ]
  },
  {
   "cell_type": "markdown",
   "metadata": {},
   "source": [
    "# Train Station\n",
    "\n",
    "- Reading from static file uploaded in LTA Data MAll"
   ]
  },
  {
   "cell_type": "code",
   "execution_count": 2,
   "metadata": {},
   "outputs": [],
   "source": [
    "fp = 'static_data/TrainStation_Feb2023/RapidTransitSystemStation.shp'\n",
    "data = gpd.read_file(fp)\n",
    "data = data.to_crs(epsg=4326)"
   ]
  },
  {
   "cell_type": "code",
   "execution_count": 3,
   "metadata": {},
   "outputs": [],
   "source": [
    "# Retrueve the latitude and longitude\n",
    "data['Latitude'] = data.apply(lambda x:x.geometry.centroid.x,axis=1)\n",
    "data['Longitude'] = data.apply(lambda x:x.geometry.centroid.y,axis=1)"
   ]
  },
  {
   "cell_type": "code",
   "execution_count": 4,
   "metadata": {},
   "outputs": [],
   "source": [
    "# Remove duplicates & rename columns\n",
    "data = data.drop_duplicates(subset=['STN_NAM_DE'])\n",
    "data['Latlng'] = data.apply(lambda x: f\"{x['Latitude']},{x['Longitude']}\",axis=1)\n",
    "data.rename(columns={'STN_NAM_DE':'Station Name'},inplace=True)\n",
    "data.drop(columns=['TYP_CD','STN_NAM','geometry'],inplace=True)\n",
    "data = pd.DataFrame(data)"
   ]
  },
  {
   "cell_type": "code",
   "execution_count": 5,
   "metadata": {},
   "outputs": [],
   "source": [
    "results_list = []\n",
    "for idx, row in data.iterrows():\n",
    "    results_list.append(row.to_dict())"
   ]
  },
  {
   "cell_type": "code",
   "execution_count": 6,
   "metadata": {},
   "outputs": [],
   "source": [
    "json_dict = json.dumps(results_list)"
   ]
  },
  {
   "cell_type": "code",
   "execution_count": 7,
   "metadata": {},
   "outputs": [],
   "source": [
    "with open ('static_data/TrainStation_Feb2023/RapidTransitSystemStation.json','w') as f:\n",
    "    f.write(json_dict)"
   ]
  },
  {
   "cell_type": "code",
   "execution_count": 8,
   "metadata": {},
   "outputs": [],
   "source": [
    "with open ('static_data/TrainStation_Feb2023/RapidTransitSystemStation.json','r') as f:\n",
    "    response = json.load(f)"
   ]
  },
  {
   "cell_type": "markdown",
   "metadata": {},
   "source": [
    "# Bus Stops"
   ]
  },
  {
   "cell_type": "code",
   "execution_count": 58,
   "metadata": {},
   "outputs": [
    {
     "data": {
      "text/plain": [
       "True"
      ]
     },
     "execution_count": 58,
     "metadata": {},
     "output_type": "execute_result"
    }
   ],
   "source": [
    "from datamall_client import DataMallClient\n",
    "from dotenv import load_dotenv\n",
    "import os\n",
    "load_dotenv()"
   ]
  },
  {
   "cell_type": "code",
   "execution_count": 59,
   "metadata": {},
   "outputs": [
    {
     "name": "stdout",
     "output_type": "stream",
     "text": [
      "The autoreload extension is already loaded. To reload it, use:\n",
      "  %reload_ext autoreload\n"
     ]
    }
   ],
   "source": [
    "%load_ext autoreload\n",
    "%autoreload 2"
   ]
  },
  {
   "cell_type": "code",
   "execution_count": 60,
   "metadata": {},
   "outputs": [],
   "source": [
    "api_key = os.environ['DATA_MALL_API_KEY']\n",
    "client = DataMallClient(api_key=api_key)"
   ]
  },
  {
   "cell_type": "code",
   "execution_count": 62,
   "metadata": {},
   "outputs": [],
   "source": [
    "# 5090 bus stop in total\n",
    "bus_stops = []\n",
    "skip=0\n",
    "while True:\n",
    "    result = client.retrieve_bus_stops(skip=skip)['value']\n",
    "    bus_stops.extend(result)\n",
    "    if len(result)<500:\n",
    "        # Means last page already so break\n",
    "        break\n",
    "    else:\n",
    "        skip+=500\n"
   ]
  }
 ],
 "metadata": {
  "kernelspec": {
   "display_name": "CZ4125",
   "language": "python",
   "name": "python3"
  },
  "language_info": {
   "codemirror_mode": {
    "name": "ipython",
    "version": 3
   },
   "file_extension": ".py",
   "mimetype": "text/x-python",
   "name": "python",
   "nbconvert_exporter": "python",
   "pygments_lexer": "ipython3",
   "version": "3.9.17"
  }
 },
 "nbformat": 4,
 "nbformat_minor": 2
}
