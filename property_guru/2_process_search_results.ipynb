{
 "cells": [
  {
   "cell_type": "code",
   "execution_count": 1,
   "metadata": {},
   "outputs": [
    {
     "name": "stdout",
     "output_type": "stream",
     "text": [
      "INFO: Pandarallel will run on 10 workers.\n",
      "INFO: Pandarallel will use standard multiprocessing data transfer (pipe) to transfer data between the main process and workers.\n"
     ]
    }
   ],
   "source": [
    "import os\n",
    "from bs4 import BeautifulSoup\n",
    "import json\n",
    "from tqdm import tqdm\n",
    "import pandas as pd\n",
    "import re\n",
    "\n",
    "import sys\n",
    "sys.path.append('../')\n",
    "from onemap_client import OneMapClient\n",
    "import os\n",
    "from dotenv import load_dotenv\n",
    "load_dotenv()\n",
    "tqdm.pandas()\n",
    "\n",
    "from pandarallel import pandarallel\n",
    "pandarallel.initialize(progress_bar=True)"
   ]
  },
  {
   "cell_type": "code",
   "execution_count": 2,
   "metadata": {},
   "outputs": [],
   "source": [
    "with open('./search/processed/20231116/raw_extracted.json', 'r') as f:\n",
    "    store = json.load(f)"
   ]
  },
  {
   "cell_type": "code",
   "execution_count": 3,
   "metadata": {},
   "outputs": [],
   "source": [
    "store_df = {\n",
    "    'id': [],\n",
    "    'name': [], \n",
    "    'url': [], \n",
    "    'street_address': [], \n",
    "    'price': [], \n",
    "    'num_bedroom': [], \n",
    "    'num_bathroom': [], \n",
    "    'cost_psf': [], \n",
    "    'total_area': [],\n",
    "    'walk': [],\n",
    "    'tags': [],\n",
    "    'recency': [],\n",
    "}\n",
    "for key, value in store.items():\n",
    "    store_df['id'].append(key)\n",
    "    for i, j in value.items():\n",
    "        store_df[i].append(j)\n",
    "\n",
    "listings = pd.DataFrame(store_df)"
   ]
  },
  {
   "cell_type": "code",
   "execution_count": 4,
   "metadata": {},
   "outputs": [],
   "source": [
    "def clean_name(name):\n",
    "    if name is None:\n",
    "        return None\n",
    "    name = name.strip()\n",
    "    return name\n",
    "\n",
    "def clean_url(url):\n",
    "    if url is None:\n",
    "        return None\n",
    "    return url\n",
    "\n",
    "def clean_street_address(address):\n",
    "    if address is None:\n",
    "        return None\n",
    "    address = address.strip()\n",
    "    return address\n",
    "\n",
    "def clean_price(price):\n",
    "    if price is None:\n",
    "        return None\n",
    "    price = price.strip()\n",
    "    price = re.search(r'[\\d,]+(\\.\\d+)?',price)\n",
    "    if price:\n",
    "        price = float(price.group(0).replace(',','').strip())\n",
    "    else:\n",
    "        price = 'Price on ask'\n",
    "    return price\n",
    "\n",
    "def clean_num_bedroom(num_bedroom):\n",
    "    if num_bedroom is None:\n",
    "        return None\n",
    "    num_bedroom = int(num_bedroom.strip())\n",
    "    return num_bedroom\n",
    "\n",
    "def clean_num_bathroom(num_bathroom):\n",
    "    if num_bathroom is None:\n",
    "        return None\n",
    "    num_bathroom = int(num_bathroom.strip())\n",
    "    return num_bathroom\n",
    "\n",
    "def clean_cost_psf(cost_psf):\n",
    "    if cost_psf is None:\n",
    "        return None\n",
    "    cost_psf = cost_psf.strip()\n",
    "    pattern = r\"\\d{1,3}(?:,\\d{3})*(?:\\.\\d{2})?\"\n",
    "    cost_psf = re.search(pattern, cost_psf)\n",
    "    cost_psf = float(cost_psf.group(0).replace(',', ''))\n",
    "    return cost_psf\n",
    "\n",
    "def clean_total_area(total_area):\n",
    "    if total_area is None:\n",
    "        return None\n",
    "    total_area = total_area.strip()\n",
    "    if ',' in total_area:\n",
    "\n",
    "        cleaned = {'floor': None, 'land': None}\n",
    "        total_area = total_area.split(',')\n",
    "        for area in total_area:\n",
    "            keyword = re.search(r'\\((.*?)\\)', area).group(1).strip()\n",
    "            size = int(re.search(r'(\\d+)', area).group(0))\n",
    "\n",
    "            cleaned[keyword] = size\n",
    "    else:\n",
    "        cleaned = {\n",
    "            'floor': int(re.search(r'(\\d+)', total_area).group(0)),\n",
    "            'land': None\n",
    "        }\n",
    "    \n",
    "    return cleaned\n",
    "\n",
    "def clean_walk(walk):\n",
    "    results = {'destination': None, 'distance': None, 'time': None}\n",
    "    if walk is not None:\n",
    "        walk = walk.strip()\n",
    "        results['destination'] = re.search(r'to (.*)', walk).group(1).strip()\n",
    "        results['distance'] = re.search(r'\\((.*?)\\)', walk).group(1).strip()\n",
    "        results['time'] = re.search(r'(.*?)\\s*\\(', walk).group(1).strip()\n",
    "    \n",
    "    return results\n",
    "\n",
    "\n",
    "def clean_tags(tags):\n",
    "    if tags is None:\n",
    "        return None\n",
    "    for i in range(len(tags)):\n",
    "        tags[i] = tags[i].strip()\n",
    "    return tags\n",
    "\n",
    "\n",
    "def clean_recency(recency):\n",
    "    if recency is None:\n",
    "        return None\n",
    "    recency = recency.strip()\n",
    "    return recency\n"
   ]
  },
  {
   "cell_type": "code",
   "execution_count": 5,
   "metadata": {},
   "outputs": [
    {
     "name": "stderr",
     "output_type": "stream",
     "text": [
      "48729it [00:03, 13257.32it/s]\n"
     ]
    }
   ],
   "source": [
    "for i, row in tqdm(listings.iterrows()):\n",
    "    listings.at[i, 'name'] = clean_name(row['name'])\n",
    "    listings.at[i, 'url'] = clean_url(row['url'])\n",
    "    listings.at[i, 'street_address'] = clean_street_address(row['street_address'])\n",
    "    listings.at[i, 'price'] = clean_price(row['price'])\n",
    "    listings.at[i, 'num_bedroom'] = clean_num_bedroom(row['num_bedroom'])\n",
    "    listings.at[i, 'num_bathroom'] = clean_num_bathroom(row['num_bathroom'])\n",
    "    listings.at[i, 'cost_psf'] = clean_cost_psf(row['cost_psf'])\n",
    "    listings.at[i, 'total_area'] = clean_total_area(row['total_area'])\n",
    "    listings.at[i, 'walk'] = clean_walk(row['walk'])\n",
    "    listings.at[i, 'tags'] = clean_tags(row['tags'])\n",
    "    listings.at[i, 'recency'] = clean_recency(row['recency'])"
   ]
  },
  {
   "cell_type": "markdown",
   "metadata": {},
   "source": [
    "# Process"
   ]
  },
  {
   "cell_type": "code",
   "execution_count": 6,
   "metadata": {},
   "outputs": [
    {
     "name": "stdout",
     "output_type": "stream",
     "text": [
      "<class 'pandas.core.frame.DataFrame'>\n",
      "RangeIndex: 48729 entries, 0 to 48728\n",
      "Data columns (total 12 columns):\n",
      " #   Column          Non-Null Count  Dtype \n",
      "---  ------          --------------  ----- \n",
      " 0   id              48729 non-null  object\n",
      " 1   name            48729 non-null  object\n",
      " 2   url             48729 non-null  object\n",
      " 3   street_address  48729 non-null  object\n",
      " 4   price           48729 non-null  object\n",
      " 5   num_bedroom     48304 non-null  object\n",
      " 6   num_bathroom    48001 non-null  object\n",
      " 7   cost_psf        47955 non-null  object\n",
      " 8   total_area      48729 non-null  object\n",
      " 9   walk            48729 non-null  object\n",
      " 10  tags            48729 non-null  object\n",
      " 11  recency         48729 non-null  object\n",
      "dtypes: object(12)\n",
      "memory usage: 4.5+ MB\n"
     ]
    }
   ],
   "source": [
    "listings.info()"
   ]
  },
  {
   "cell_type": "code",
   "execution_count": 7,
   "metadata": {},
   "outputs": [],
   "source": [
    "email = os.environ['ONE_MAP_API_EMAIL']\n",
    "password = os.environ['ONE_MAP_API_PASSWORD']"
   ]
  },
  {
   "cell_type": "code",
   "execution_count": 10,
   "metadata": {},
   "outputs": [
    {
     "data": {
      "application/vnd.jupyter.widget-view+json": {
       "model_id": "1250ce81a3d944f1a0f28b23ee098895",
       "version_major": 2,
       "version_minor": 0
      },
      "text/plain": [
       "VBox(children=(HBox(children=(IntProgress(value=0, description='0.00%', max=4873), Label(value='0 / 4873'))), …"
      ]
     },
     "metadata": {},
     "output_type": "display_data"
    },
    {
     "name": "stderr",
     "output_type": "stream",
     "text": [
      "objc[5792]: +[__NSCFConstantString initialize] may have been in progress in another thread when fork() was called.\n",
      "objc[5792]: +[__NSCFConstantString initialize] may have been in progress in another thread when fork() was called. We cannot safely call it or ignore it in the fork() child process. Crashing instead. Set a breakpoint on objc_initializeAfterForkError to debug.\n",
      "objc[5791]: +[__NSCFConstantString initialize] may have been in progress in another thread when fork() was called.\n",
      "objc[5791]: +[__NSCFConstantString initialize] may have been in progress in another thread when fork() was called. We cannot safely call it or ignore it in the fork() child process. Crashing instead. Set a breakpoint on objc_initializeAfterForkError to debug.\n",
      "objc[5793]: +[__NSCFConstantString initialize] may have been in progress in another thread when fork() was called.\n",
      "objc[5793]: +[__NSCFConstantString initialize] may have been in progress in another thread when fork() was called. We cannot safely call it or ignore it in the fork() child process. Crashing instead. Set a breakpoint on objc_initializeAfterForkError to debug.\n",
      "objc[5794]: +[__NSCFConstantString initialize] may have been in progress in another thread when fork() was called.\n",
      "objc[5794]: +[__NSCFConstantString initialize] may have been in progress in another thread when fork() was called. We cannot safely call it or ignore it in the fork() child process. Crashing instead. Set a breakpoint on objc_initializeAfterForkError to debug.\n",
      "objc[5795]: +[__NSCFConstantString initialize] may have been in progress in another thread when fork() was called.\n",
      "objc[5795]: +[__NSCFConstantString initialize] may have been in progress in another thread when fork() was called. We cannot safely call it or ignore it in the fork() child process. Crashing instead. Set a breakpoint on objc_initializeAfterForkError to debug.\n",
      "objc[5796]: +[__NSCFConstantString initialize] may have been in progress in another thread when fork() was called.\n",
      "objc[5796]: +[__NSCFConstantString initialize] may have been in progress in another thread when fork() was called. We cannot safely call it or ignore it in the fork() child process. Crashing instead. Set a breakpoint on objc_initializeAfterForkError to debug.\n",
      "objc[5797]: +[__NSCFConstantString initialize] may have been in progress in another thread when fork() was called.\n",
      "objc[5797]: +[__NSCFConstantString initialize] may have been in progress in another thread when fork() was called. We cannot safely call it or ignore it in the fork() child process. Crashing instead. Set a breakpoint on objc_initializeAfterForkError to debug.\n",
      "objc[5798]: +[__NSCFConstantString initialize] may have been in progress in another thread when fork() was called.\n",
      "objc[5798]: +[__NSCFConstantString initialize] may have been in progress in another thread when fork() was called. We cannot safely call it or ignore it in the fork() child process. Crashing instead. Set a breakpoint on objc_initializeAfterForkError to debug.\n",
      "objc[5799]: +[__NSCFConstantString initialize] may have been in progress in another thread when fork() was called.\n",
      "objc[5799]: +[__NSCFConstantString initialize] may have been in progress in another thread when fork() was called. We cannot safely call it or ignore it in the fork() child process. Crashing instead. Set a breakpoint on objc_initializeAfterForkError to debug.\n",
      "objc[5800]: +[__NSCFConstantString initialize] may have been in progress in another thread when fork() was called.\n",
      "objc[5800]: +[__NSCFConstantString initialize] may have been in progress in another thread when fork() was called. We cannot safely call it or ignore it in the fork() child process. Crashing instead. Set a breakpoint on objc_initializeAfterForkError to debug.\n"
     ]
    },
    {
     "ename": "KeyboardInterrupt",
     "evalue": "",
     "output_type": "error",
     "traceback": [
      "\u001b[0;31m---------------------------------------------------------------------------\u001b[0m",
      "\u001b[0;31mKeyboardInterrupt\u001b[0m                         Traceback (most recent call last)",
      "\u001b[1;32m/Users/shaojieee/Desktop/data_products/project/CZ4125---Data-Product/property_guru/2_process_search_results.ipynb Cell 9\u001b[0m line \u001b[0;36m2\n\u001b[1;32m     <a href='vscode-notebook-cell:/Users/shaojieee/Desktop/data_products/project/CZ4125---Data-Product/property_guru/2_process_search_results.ipynb#X11sZmlsZQ%3D%3D?line=19'>20</a>\u001b[0m             \u001b[39mreturn\u001b[39;00m resp[\u001b[39m'\u001b[39m\u001b[39mresults\u001b[39m\u001b[39m'\u001b[39m]\n\u001b[1;32m     <a href='vscode-notebook-cell:/Users/shaojieee/Desktop/data_products/project/CZ4125---Data-Product/property_guru/2_process_search_results.ipynb#X11sZmlsZQ%3D%3D?line=20'>21</a>\u001b[0m     \u001b[39mreturn\u001b[39;00m \u001b[39mNone\u001b[39;00m\n\u001b[0;32m---> <a href='vscode-notebook-cell:/Users/shaojieee/Desktop/data_products/project/CZ4125---Data-Product/property_guru/2_process_search_results.ipynb#X11sZmlsZQ%3D%3D?line=22'>23</a>\u001b[0m listings[\u001b[39m'\u001b[39m\u001b[39mone_map_search\u001b[39m\u001b[39m'\u001b[39m] \u001b[39m=\u001b[39m listings[\u001b[39m'\u001b[39;49m\u001b[39mstreet_address\u001b[39;49m\u001b[39m'\u001b[39;49m]\u001b[39m.\u001b[39;49mparallel_apply(\u001b[39mlambda\u001b[39;49;00m x: process_street_address(x))\n",
      "File \u001b[0;32m~/.pyenv/versions/3.11.5/envs/housing_proj/lib/python3.11/site-packages/pandarallel/core.py:428\u001b[0m, in \u001b[0;36mparallelize_with_pipe.<locals>.closure\u001b[0;34m(data, user_defined_function, *user_defined_function_args, **user_defined_function_kwargs)\u001b[0m\n\u001b[1;32m    423\u001b[0m generation \u001b[39m=\u001b[39m count()\n\u001b[1;32m    425\u001b[0m \u001b[39mwhile\u001b[39;00m \u001b[39many\u001b[39m(\n\u001b[1;32m    426\u001b[0m     (worker_status \u001b[39m==\u001b[39m WorkerStatus\u001b[39m.\u001b[39mRunning \u001b[39mfor\u001b[39;00m worker_status \u001b[39min\u001b[39;00m workers_status)\n\u001b[1;32m    427\u001b[0m ):\n\u001b[0;32m--> 428\u001b[0m     message: Tuple[\u001b[39mint\u001b[39m, WorkerStatus, Any] \u001b[39m=\u001b[39m master_workers_queue\u001b[39m.\u001b[39;49mget()\n\u001b[1;32m    429\u001b[0m     worker_index, worker_status, payload \u001b[39m=\u001b[39m message\n\u001b[1;32m    430\u001b[0m     workers_status[worker_index] \u001b[39m=\u001b[39m worker_status\n",
      "File \u001b[0;32m<string>:2\u001b[0m, in \u001b[0;36mget\u001b[0;34m(self, *args, **kwds)\u001b[0m\n",
      "File \u001b[0;32m~/.pyenv/versions/3.11.5/lib/python3.11/multiprocessing/managers.py:822\u001b[0m, in \u001b[0;36mBaseProxy._callmethod\u001b[0;34m(self, methodname, args, kwds)\u001b[0m\n\u001b[1;32m    819\u001b[0m     conn \u001b[39m=\u001b[39m \u001b[39mself\u001b[39m\u001b[39m.\u001b[39m_tls\u001b[39m.\u001b[39mconnection\n\u001b[1;32m    821\u001b[0m conn\u001b[39m.\u001b[39msend((\u001b[39mself\u001b[39m\u001b[39m.\u001b[39m_id, methodname, args, kwds))\n\u001b[0;32m--> 822\u001b[0m kind, result \u001b[39m=\u001b[39m conn\u001b[39m.\u001b[39;49mrecv()\n\u001b[1;32m    824\u001b[0m \u001b[39mif\u001b[39;00m kind \u001b[39m==\u001b[39m \u001b[39m'\u001b[39m\u001b[39m#RETURN\u001b[39m\u001b[39m'\u001b[39m:\n\u001b[1;32m    825\u001b[0m     \u001b[39mreturn\u001b[39;00m result\n",
      "File \u001b[0;32m~/.pyenv/versions/3.11.5/lib/python3.11/multiprocessing/connection.py:249\u001b[0m, in \u001b[0;36m_ConnectionBase.recv\u001b[0;34m(self)\u001b[0m\n\u001b[1;32m    247\u001b[0m \u001b[39mself\u001b[39m\u001b[39m.\u001b[39m_check_closed()\n\u001b[1;32m    248\u001b[0m \u001b[39mself\u001b[39m\u001b[39m.\u001b[39m_check_readable()\n\u001b[0;32m--> 249\u001b[0m buf \u001b[39m=\u001b[39m \u001b[39mself\u001b[39;49m\u001b[39m.\u001b[39;49m_recv_bytes()\n\u001b[1;32m    250\u001b[0m \u001b[39mreturn\u001b[39;00m _ForkingPickler\u001b[39m.\u001b[39mloads(buf\u001b[39m.\u001b[39mgetbuffer())\n",
      "File \u001b[0;32m~/.pyenv/versions/3.11.5/lib/python3.11/multiprocessing/connection.py:413\u001b[0m, in \u001b[0;36mConnection._recv_bytes\u001b[0;34m(self, maxsize)\u001b[0m\n\u001b[1;32m    412\u001b[0m \u001b[39mdef\u001b[39;00m \u001b[39m_recv_bytes\u001b[39m(\u001b[39mself\u001b[39m, maxsize\u001b[39m=\u001b[39m\u001b[39mNone\u001b[39;00m):\n\u001b[0;32m--> 413\u001b[0m     buf \u001b[39m=\u001b[39m \u001b[39mself\u001b[39;49m\u001b[39m.\u001b[39;49m_recv(\u001b[39m4\u001b[39;49m)\n\u001b[1;32m    414\u001b[0m     size, \u001b[39m=\u001b[39m struct\u001b[39m.\u001b[39munpack(\u001b[39m\"\u001b[39m\u001b[39m!i\u001b[39m\u001b[39m\"\u001b[39m, buf\u001b[39m.\u001b[39mgetvalue())\n\u001b[1;32m    415\u001b[0m     \u001b[39mif\u001b[39;00m size \u001b[39m==\u001b[39m \u001b[39m-\u001b[39m\u001b[39m1\u001b[39m:\n",
      "File \u001b[0;32m~/.pyenv/versions/3.11.5/lib/python3.11/multiprocessing/connection.py:378\u001b[0m, in \u001b[0;36mConnection._recv\u001b[0;34m(self, size, read)\u001b[0m\n\u001b[1;32m    376\u001b[0m remaining \u001b[39m=\u001b[39m size\n\u001b[1;32m    377\u001b[0m \u001b[39mwhile\u001b[39;00m remaining \u001b[39m>\u001b[39m \u001b[39m0\u001b[39m:\n\u001b[0;32m--> 378\u001b[0m     chunk \u001b[39m=\u001b[39m read(handle, remaining)\n\u001b[1;32m    379\u001b[0m     n \u001b[39m=\u001b[39m \u001b[39mlen\u001b[39m(chunk)\n\u001b[1;32m    380\u001b[0m     \u001b[39mif\u001b[39;00m n \u001b[39m==\u001b[39m \u001b[39m0\u001b[39m:\n",
      "\u001b[0;31mKeyboardInterrupt\u001b[0m: "
     ]
    }
   ],
   "source": [
    "def process_street_address(address, name, retries=5):\n",
    "    searches = [address, name, f'{address} {name}']\n",
    "    for i in range(retries):\n",
    "        client = OneMapClient(email,password)\n",
    "        resp = client.search(searches[i%len(searches)], return_geom=True, get_addr_details=True, page_num=1)\n",
    "        if resp==None or 'error' in resp or resp['found']==0:\n",
    "            continue\n",
    "        else:\n",
    "            return resp['results']\n",
    "    return None\n",
    "\n",
    "listings['one_map_search'] = listings.parallel_apply(lambda x: process_street_address(x['street_address'], x['name']), axis=1)"
   ]
  },
  {
   "cell_type": "code",
   "execution_count": null,
   "metadata": {},
   "outputs": [],
   "source": [
    "def process_one_map_address(x):\n",
    "    if x is None:\n",
    "        return None, None, None, None, None\n",
    "    road_name = x['ROAD_NAME'] if 'ROAD_NAME' in x and x['ROAD_NAME']!='NIL' else None\n",
    "    building = x['BUILDING'] if 'BUILDING' in x and x['BUILDING']!='NIL' else None\n",
    "    postal_code = x['POSTAL'] if 'BUILDING' in x and x['POSTAL']!='NIL' else None\n",
    "    lat = x['LATITUDE'] if 'LATITUDE' in x and x['LATITUDE']!='NIL' else None\n",
    "    long = x['LONGITUDE'] if 'LONGITUDE' in x and x['LONGITUDE']!='NIL' else None\n",
    "    return road_name, building, postal_code, lat, long\n",
    "\n",
    "\n",
    "listings['road_name'], \\\n",
    "listings['building'], \\\n",
    "listings['postal_code'], \\\n",
    "listings['latitude'], \\\n",
    "listings['longitude'] = zip(*listings['one_map_search'].apply(lambda x: process_one_map_address(x)))"
   ]
  },
  {
   "cell_type": "code",
   "execution_count": null,
   "metadata": {},
   "outputs": [],
   "source": [
    "listings['floor_area'] = listings['total_area'].apply(lambda x: x['floor'])\n",
    "listings['land_area'] = listings['total_area'].apply(lambda x: x['land'])"
   ]
  },
  {
   "cell_type": "code",
   "execution_count": null,
   "metadata": {},
   "outputs": [],
   "source": [
    "def process_walk_distance(distance):\n",
    "    if distance is None:\n",
    "        return None\n",
    "    num, unit = distance.split(' ')\n",
    "    num = int(num)\n",
    "    if unit.lower()=='km':\n",
    "        num = num * 1000\n",
    "    return num\n",
    "\n",
    "def process_walk_time(time):\n",
    "    if time is None:\n",
    "        return None\n",
    "    num, unit = time.split(' ')\n",
    "    num = int(num)\n",
    "    return num\n",
    "\n",
    "listings['walk_destination'] = listings['walk'].apply(lambda x: x['destination'])\n",
    "listings['walk_distance_m'] = listings['walk'].apply(lambda x: process_walk_distance(x['distance']))\n",
    "listings['walk_time_mins'] = listings['walk'].apply(lambda x: process_walk_time(x['time']))"
   ]
  },
  {
   "cell_type": "code",
   "execution_count": null,
   "metadata": {},
   "outputs": [],
   "source": [
    "def process_tags(tags):\n",
    "    processed = {\n",
    "        'lease_duration': None,\n",
    "        'completion': None,\n",
    "        'type': None\n",
    "    }\n",
    "    for tag in tags:\n",
    "        string = tag.lower()\n",
    "        if 'freehold' in string:\n",
    "            processed['lease_duration'] = 'Freehold'\n",
    "        elif 'unknown tenure' in string:\n",
    "            pass\n",
    "        elif 'leasehold' in string:\n",
    "            processed['lease_duration'] = int(re.search(r'\\d+', tag).group(0))\n",
    "        elif 'built' in string or 'completion' in string:\n",
    "            processed['completion'] = int(re.search(r'\\d+', tag).group(0))\n",
    "        else:\n",
    "            processed['type'] = tag\n",
    "    \n",
    "    return processed['lease_duration'], processed['completion'], processed['type']\n",
    "    \n",
    "\n",
    "\n",
    "listings['lease_duration'], \\\n",
    "listings['completion'], \\\n",
    "listings['type'] = zip(*listings['tags'].apply(lambda x: process_tags(x)))"
   ]
  },
  {
   "cell_type": "code",
   "execution_count": null,
   "metadata": {},
   "outputs": [],
   "source": [
    "listings.to_csv('./search/processed/20231116/processed.csv')"
   ]
  },
  {
   "cell_type": "code",
   "execution_count": null,
   "metadata": {},
   "outputs": [],
   "source": []
  }
 ],
 "metadata": {
  "kernelspec": {
   "display_name": "housing_proj",
   "language": "python",
   "name": "python3"
  },
  "language_info": {
   "codemirror_mode": {
    "name": "ipython",
    "version": 3
   },
   "file_extension": ".py",
   "mimetype": "text/x-python",
   "name": "python",
   "nbconvert_exporter": "python",
   "pygments_lexer": "ipython3",
   "version": "3.11.5"
  }
 },
 "nbformat": 4,
 "nbformat_minor": 2
}
