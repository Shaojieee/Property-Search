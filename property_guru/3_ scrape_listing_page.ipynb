{
 "cells": [
  {
   "cell_type": "code",
   "execution_count": 4,
   "metadata": {},
   "outputs": [],
   "source": [
    "from bs4 import BeautifulSoup\n",
    "from selenium.webdriver.common.by import By\n",
    "from selenium.webdriver.common.action_chains import ActionChains\n",
    "from selenium.webdriver.support.wait import WebDriverWait\n",
    "from selenium.webdriver.support import expected_conditions as EC\n",
    "from selenium.common.exceptions import TimeoutException\n",
    "\n",
    "import pandas as pd\n",
    "from tqdm import tqdm\n",
    "\n",
    "import datetime\n",
    "from dateutil import tz\n",
    "import time\n",
    "import random\n",
    "import json\n",
    "import os\n",
    "\n",
    "import undetected_chromedriver as uc\n",
    "import requests"
   ]
  },
  {
   "cell_type": "code",
   "execution_count": 5,
   "metadata": {},
   "outputs": [],
   "source": [
    "listings = pd.read_csv('./search/processed/20231116/processed.csv')\n",
    "output_dir = './search/raw/20231116/listing_page'\n",
    "os.makedirs(output_dir, exist_ok=True)"
   ]
  },
  {
   "cell_type": "code",
   "execution_count": 7,
   "metadata": {},
   "outputs": [
    {
     "name": "stderr",
     "output_type": "stream",
     "text": [
      "336it [14:15,  2.55s/it]"
     ]
    }
   ],
   "source": [
    "driver = uc.Chrome(headless=False,use_subprocess=False)\n",
    "\n",
    "for i, row in tqdm(listings.iterrows()):\n",
    "    url = row['url']\n",
    "    id = row['id']\n",
    "    driver.get(url)\n",
    "    time.sleep(random.uniform(1,2))\n",
    "    page = BeautifulSoup(driver.page_source)\n",
    "    if page.find(name='body', attrs={'class': 'errorPage'}):\n",
    "        print(i)\n",
    "        driver.quit()\n",
    "        break\n",
    "    else:\n",
    "        with open(f\"{output_dir}/{id}.html\", \"w\") as file:\n",
    "            file.write(str(page.prettify()))\n"
   ]
  },
  {
   "cell_type": "code",
   "execution_count": null,
   "metadata": {},
   "outputs": [],
   "source": []
  }
 ],
 "metadata": {
  "kernelspec": {
   "display_name": "housing_proj",
   "language": "python",
   "name": "python3"
  },
  "language_info": {
   "codemirror_mode": {
    "name": "ipython",
    "version": 3
   },
   "file_extension": ".py",
   "mimetype": "text/x-python",
   "name": "python",
   "nbconvert_exporter": "python",
   "pygments_lexer": "ipython3",
   "version": "3.11.5"
  }
 },
 "nbformat": 4,
 "nbformat_minor": 2
}
