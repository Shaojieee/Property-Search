{
 "cells": [
  {
   "cell_type": "code",
   "execution_count": 5,
   "metadata": {},
   "outputs": [],
   "source": [
    "from bs4 import BeautifulSoup\n",
    "import json\n",
    "from tqdm import tqdm\n",
    "import pandas as pd\n",
    "import re\n",
    "\n",
    "import sys\n",
    "sys.path.append('../../')\n",
    "from onemap_client import OneMapClient\n",
    "import os\n",
    "from dotenv import load_dotenv\n",
    "load_dotenv()\n",
    "tqdm.pandas()"
   ]
  },
  {
   "cell_type": "code",
   "execution_count": 23,
   "metadata": {},
   "outputs": [
    {
     "name": "stderr",
     "output_type": "stream",
     "text": [
      "100%|██████████| 612/612 [00:29<00:00, 20.41it/s]\n"
     ]
    }
   ],
   "source": [
    "files = [x for x in os.listdir('./data/raw/20231116/listing_page') if x!='.DS_Store']\n",
    "store = {}\n",
    "dups = set()\n",
    "\n",
    "for file in tqdm(files):\n",
    "    try:\n",
    "        with open(f'./data/raw/20231116/listing_page/{file}', 'r') as f:\n",
    "            page = BeautifulSoup(f, 'html.parser')\n",
    "    except:\n",
    "        print(file)\n",
    "        break\n",
    "    \n",
    "    property_guru_id = file.strip('.html')\n",
    "\n",
    "    info = {\n",
    "        'listed_on': None, \n",
    "    }\n",
    "    id_on_page = None\n",
    "    try:\n",
    "        if page.find(name='div', attrs={'class':'error-page-view-root'}) or page.find(name='div', attrs={'class':'property-overview-section'})==None:\n",
    "            dups.add(file)\n",
    "            continue\n",
    "        more_details = page.find(name='section', attrs={'data-automation-id': 'more-details-widget'})\n",
    "        detail_rows = more_details.find_all(name='td')\n",
    "        for row in detail_rows:\n",
    "            label = row.find(name='div', attrs={'class':'meta-table__item__label'}).text.strip()\n",
    "            value = row.find(name='div', attrs={'class':'meta-table__item__value'}).text.strip()\n",
    "            if label=='Listed On':\n",
    "                info['listed_on'] = value\n",
    "            if label=='Listing ID':\n",
    "                id_on_page = value\n",
    "        \n",
    "        if id_on_page!=None and id_on_page!=property_guru_id:\n",
    "            print(property_guru_id)\n",
    "            break\n",
    "        store[property_guru_id] = info\n",
    "    except:\n",
    "        print(file)\n",
    "        break"
   ]
  },
  {
   "cell_type": "code",
   "execution_count": 29,
   "metadata": {},
   "outputs": [],
   "source": [
    "with open('./data/processed/20231116/raw_extracted_listing_page.json', 'w') as f:\n",
    "    json.dump(store, f)"
   ]
  }
 ],
 "metadata": {
  "kernelspec": {
   "display_name": "housing_proj",
   "language": "python",
   "name": "python3"
  },
  "language_info": {
   "codemirror_mode": {
    "name": "ipython",
    "version": 3
   },
   "file_extension": ".py",
   "mimetype": "text/x-python",
   "name": "python",
   "nbconvert_exporter": "python",
   "pygments_lexer": "ipython3",
   "version": "3.11.5"
  }
 },
 "nbformat": 4,
 "nbformat_minor": 2
}
