{
 "cells": [
  {
   "cell_type": "code",
   "execution_count": 4,
   "metadata": {},
   "outputs": [],
   "source": [
    "from bs4 import BeautifulSoup\n",
    "\n",
    "import pandas as pd\n",
    "from tqdm import tqdm\n",
    "\n",
    "import datetime\n",
    "import time\n",
    "import random\n",
    "import os\n",
    "\n",
    "import undetected_chromedriver as uc"
   ]
  },
  {
   "cell_type": "code",
   "execution_count": 5,
   "metadata": {},
   "outputs": [],
   "source": [
    "listings = pd.read_csv('../data/processed/20231116/processed.csv')\n",
    "output_dir = '../data/raw/20231116/listing_page'\n",
    "os.makedirs(output_dir, exist_ok=True)"
   ]
  },
  {
   "cell_type": "code",
   "execution_count": 7,
   "metadata": {},
   "outputs": [
    {
     "name": "stderr",
     "output_type": "stream",
     "text": [
      "612it [25:36,  2.51s/it]\n"
     ]
    },
    {
     "ename": "KeyboardInterrupt",
     "evalue": "",
     "output_type": "error",
     "traceback": [
      "\u001b[0;31m---------------------------------------------------------------------------\u001b[0m",
      "\u001b[0;31mKeyboardInterrupt\u001b[0m                         Traceback (most recent call last)",
      "\u001b[1;32m/Users/shaojieee/Desktop/data_products/project/CZ4125---Data-Product/property_guru/3_ scrape_listing_page.ipynb Cell 3\u001b[0m line \u001b[0;36m7\n\u001b[1;32m      <a href='vscode-notebook-cell:/Users/shaojieee/Desktop/data_products/project/CZ4125---Data-Product/property_guru/3_%20scrape_listing_page.ipynb#W2sZmlsZQ%3D%3D?line=4'>5</a>\u001b[0m \u001b[39mid\u001b[39m \u001b[39m=\u001b[39m row[\u001b[39m'\u001b[39m\u001b[39mid\u001b[39m\u001b[39m'\u001b[39m]\n\u001b[1;32m      <a href='vscode-notebook-cell:/Users/shaojieee/Desktop/data_products/project/CZ4125---Data-Product/property_guru/3_%20scrape_listing_page.ipynb#W2sZmlsZQ%3D%3D?line=5'>6</a>\u001b[0m driver\u001b[39m.\u001b[39mget(url)\n\u001b[0;32m----> <a href='vscode-notebook-cell:/Users/shaojieee/Desktop/data_products/project/CZ4125---Data-Product/property_guru/3_%20scrape_listing_page.ipynb#W2sZmlsZQ%3D%3D?line=6'>7</a>\u001b[0m time\u001b[39m.\u001b[39msleep(random\u001b[39m.\u001b[39muniform(\u001b[39m1\u001b[39m,\u001b[39m2\u001b[39m))\n\u001b[1;32m      <a href='vscode-notebook-cell:/Users/shaojieee/Desktop/data_products/project/CZ4125---Data-Product/property_guru/3_%20scrape_listing_page.ipynb#W2sZmlsZQ%3D%3D?line=7'>8</a>\u001b[0m page \u001b[39m=\u001b[39m BeautifulSoup(driver\u001b[39m.\u001b[39mpage_source)\n\u001b[1;32m      <a href='vscode-notebook-cell:/Users/shaojieee/Desktop/data_products/project/CZ4125---Data-Product/property_guru/3_%20scrape_listing_page.ipynb#W2sZmlsZQ%3D%3D?line=8'>9</a>\u001b[0m \u001b[39mif\u001b[39;00m page\u001b[39m.\u001b[39mfind(name\u001b[39m=\u001b[39m\u001b[39m'\u001b[39m\u001b[39mbody\u001b[39m\u001b[39m'\u001b[39m, attrs\u001b[39m=\u001b[39m{\u001b[39m'\u001b[39m\u001b[39mclass\u001b[39m\u001b[39m'\u001b[39m: \u001b[39m'\u001b[39m\u001b[39merrorPage\u001b[39m\u001b[39m'\u001b[39m}):\n",
      "\u001b[0;31mKeyboardInterrupt\u001b[0m: "
     ]
    }
   ],
   "source": [
    "driver = uc.Chrome(headless=False,use_subprocess=False)\n",
    "\n",
    "for i, row in tqdm(listings.iterrows()):\n",
    "    url = row['url']\n",
    "    id = row['id']\n",
    "    driver.get(url)\n",
    "    time.sleep(random.uniform(1,2))\n",
    "    page = BeautifulSoup(driver.page_source)\n",
    "    if page.find(name='body', attrs={'class': 'errorPage'}):\n",
    "        print(i)\n",
    "        driver.quit()\n",
    "        break\n",
    "    else:\n",
    "        with open(f\"{output_dir}/{id}.html\", \"w\") as file:\n",
    "            file.write(str(page.prettify()))\n"
   ]
  },
  {
   "cell_type": "code",
   "execution_count": null,
   "metadata": {},
   "outputs": [],
   "source": []
  }
 ],
 "metadata": {
  "kernelspec": {
   "display_name": "housing_proj",
   "language": "python",
   "name": "python3"
  },
  "language_info": {
   "codemirror_mode": {
    "name": "ipython",
    "version": 3
   },
   "file_extension": ".py",
   "mimetype": "text/x-python",
   "name": "python",
   "nbconvert_exporter": "python",
   "pygments_lexer": "ipython3",
   "version": "3.11.5"
  }
 },
 "nbformat": 4,
 "nbformat_minor": 2
}
