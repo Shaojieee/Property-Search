{
 "cells": [
  {
   "cell_type": "code",
   "execution_count": 1,
   "metadata": {},
   "outputs": [
    {
     "data": {
      "text/plain": [
       "True"
      ]
     },
     "execution_count": 1,
     "metadata": {},
     "output_type": "execute_result"
    }
   ],
   "source": [
    "import pandas as pd\n",
    "import numpy as np\n",
    "import psycopg2\n",
    "import psycopg2.extras as extras\n",
    "\n",
    "import os\n",
    "from dotenv import load_dotenv\n",
    "load_dotenv()\n"
   ]
  },
  {
   "cell_type": "code",
   "execution_count": 2,
   "metadata": {},
   "outputs": [],
   "source": [
    "def nan_to_null(f,\n",
    "        _NULL=psycopg2.extensions.AsIs('NULL'),\n",
    "        _Float=psycopg2.extensions.Float):\n",
    "    if not np.isnan(f):\n",
    "        return _Float(f)\n",
    "    return _NULL\n",
    "\n",
    "psycopg2.extensions.register_adapter(float, nan_to_null)"
   ]
  },
  {
   "cell_type": "code",
   "execution_count": 3,
   "metadata": {},
   "outputs": [],
   "source": [
    "conn = psycopg2.connect(\n",
    "    host=os.environ['POSTGRES_HOST'],\n",
    "    port=os.environ['POSTGRES_PORT'],\n",
    "    database=os.environ['OLAP_DB'],\n",
    "    user=os.environ['POSTGRES_USER'],\n",
    "    password=os.environ['POSTGRES_PASSWORD']\n",
    ")"
   ]
  },
  {
   "cell_type": "code",
   "execution_count": 4,
   "metadata": {},
   "outputs": [],
   "source": [
    "def execute_values(conn, df, table): \n",
    "  \n",
    "    tuples = [tuple(x) for x in df.to_numpy()] \n",
    "  \n",
    "    cols = ','.join(list(df.columns)) \n",
    "    # SQL query to execute \n",
    "    query = \"INSERT INTO %s(%s) VALUES %%s\" % (table, cols) \n",
    "    cursor = conn.cursor() \n",
    "    try: \n",
    "        extras.execute_values(cursor, query, tuples) \n",
    "        conn.commit() \n",
    "    except (Exception, psycopg2.DatabaseError) as error: \n",
    "        print(\"Error: %s\" % error) \n",
    "        conn.rollback() \n",
    "        cursor.close() \n",
    "        return 1\n",
    "    cursor.close() "
   ]
  },
  {
   "cell_type": "markdown",
   "metadata": {},
   "source": [
    "# Upload properties"
   ]
  },
  {
   "cell_type": "code",
   "execution_count": 6,
   "metadata": {},
   "outputs": [
    {
     "name": "stdout",
     "output_type": "stream",
     "text": [
      "<class 'pandas.core.frame.DataFrame'>\n",
      "RangeIndex: 48729 entries, 0 to 48728\n",
      "Data columns (total 21 columns):\n",
      " #   Column            Non-Null Count  Dtype  \n",
      "---  ------            --------------  -----  \n",
      " 0   id                48729 non-null  int64  \n",
      " 1   name              48729 non-null  object \n",
      " 2   url               48729 non-null  object \n",
      " 3   price             48657 non-null  float64\n",
      " 4   num_bedroom       48304 non-null  float64\n",
      " 5   num_bathroom      48001 non-null  float64\n",
      " 6   cost_psf          47955 non-null  float64\n",
      " 7   address           37597 non-null  object \n",
      " 8   road_name         37547 non-null  object \n",
      " 9   building          30414 non-null  object \n",
      " 10  postal_code       33697 non-null  float64\n",
      " 11  latitude          37597 non-null  float64\n",
      " 12  longitude         37597 non-null  float64\n",
      " 13  floor_area        48729 non-null  int64  \n",
      " 14  land_area         9166 non-null   float64\n",
      " 15  walk_destination  40209 non-null  object \n",
      " 16  walk_distance_m   40209 non-null  float64\n",
      " 17  walk_time_mins    40209 non-null  float64\n",
      " 18  lease_duration    47589 non-null  object \n",
      " 19  completion        31349 non-null  float64\n",
      " 20  type              48729 non-null  object \n",
      "dtypes: float64(11), int64(2), object(8)\n",
      "memory usage: 7.8+ MB\n"
     ]
    }
   ],
   "source": [
    "final = pd.read_csv('../data/processed/20231116/processed.csv')\n",
    "final.info()"
   ]
  },
  {
   "cell_type": "code",
   "execution_count": 7,
   "metadata": {},
   "outputs": [],
   "source": [
    "columns = [\n",
    "    'id','name','url','price','num_bedroom','num_bathroom','cost_psf',\n",
    "    'address','road_name','building','postal_code','latitude','longitude',\n",
    "    'floor_area','land_area','walk_destination','walk_distance_m','walk_time_mins',\n",
    "    'lease_duration','completion','type',\n",
    "]\n",
    "properties = final[columns]\n",
    "\n",
    "execute_values(conn, properties, 'properties')"
   ]
  },
  {
   "cell_type": "code",
   "execution_count": 10,
   "metadata": {},
   "outputs": [
    {
     "data": {
      "text/plain": [
       "[(48729,)]"
      ]
     },
     "execution_count": 10,
     "metadata": {},
     "output_type": "execute_result"
    }
   ],
   "source": [
    "cur = conn.cursor()\n",
    "cur.execute('select count(*) from properties')\n",
    "cur.fetchall()"
   ]
  },
  {
   "cell_type": "markdown",
   "metadata": {},
   "source": [
    "# Upload Amenities"
   ]
  },
  {
   "cell_type": "code",
   "execution_count": null,
   "metadata": {},
   "outputs": [],
   "source": [
    "! python ../pipeline_update_amenities/overall_pipeline.py"
   ]
  },
  {
   "cell_type": "code",
   "execution_count": 13,
   "metadata": {},
   "outputs": [
    {
     "data": {
      "text/plain": [
       "[(48729,)]"
      ]
     },
     "execution_count": 13,
     "metadata": {},
     "output_type": "execute_result"
    }
   ],
   "source": [
    "cur = conn.cursor()\n",
    "cur.execute('select count(*) from properties_w_amenities')\n",
    "cur.fetchall()"
   ]
  }
 ],
 "metadata": {
  "kernelspec": {
   "display_name": "housing_proj",
   "language": "python",
   "name": "python3"
  },
  "language_info": {
   "codemirror_mode": {
    "name": "ipython",
    "version": 3
   },
   "file_extension": ".py",
   "mimetype": "text/x-python",
   "name": "python",
   "nbconvert_exporter": "python",
   "pygments_lexer": "ipython3",
   "version": "3.11.5"
  }
 },
 "nbformat": 4,
 "nbformat_minor": 2
}
