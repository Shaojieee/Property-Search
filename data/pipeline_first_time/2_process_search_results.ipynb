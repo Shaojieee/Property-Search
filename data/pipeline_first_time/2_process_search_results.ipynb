{
 "cells": [
  {
   "cell_type": "code",
   "execution_count": 1,
   "metadata": {},
   "outputs": [],
   "source": [
    "from bs4 import BeautifulSoup\n",
    "import json\n",
    "from tqdm import tqdm\n",
    "import pandas as pd\n",
    "import re\n",
    "\n",
    "import sys\n",
    "sys.path.append('../../')\n",
    "from onemap_client import OneMapClient\n",
    "import os\n",
    "from dotenv import load_dotenv\n",
    "load_dotenv()\n",
    "tqdm.pandas()\n",
    "\n",
    "import asyncio\n",
    "import aiohttp"
   ]
  },
  {
   "cell_type": "code",
   "execution_count": 11,
   "metadata": {},
   "outputs": [],
   "source": [
    "with open('../data/raw/processed/20231116/raw_extracted.json', 'r') as f:\n",
    "    store = json.load(f)"
   ]
  },
  {
   "cell_type": "code",
   "execution_count": 12,
   "metadata": {},
   "outputs": [],
   "source": [
    "store_df = {\n",
    "    'id': [],\n",
    "    'name': [], \n",
    "    'url': [], \n",
    "    'street_address': [], \n",
    "    'price': [], \n",
    "    'num_bedroom': [], \n",
    "    'num_bathroom': [], \n",
    "    'cost_psf': [], \n",
    "    'total_area': [],\n",
    "    'walk': [],\n",
    "    'tags': [],\n",
    "    'recency': [],\n",
    "}\n",
    "for key, value in store.items():\n",
    "    store_df['id'].append(key)\n",
    "    for i, j in value.items():\n",
    "        store_df[i].append(j)\n",
    "\n",
    "listings = pd.DataFrame(store_df)"
   ]
  },
  {
   "cell_type": "markdown",
   "metadata": {},
   "source": [
    "# Clean"
   ]
  },
  {
   "cell_type": "code",
   "execution_count": 13,
   "metadata": {},
   "outputs": [],
   "source": [
    "def clean_name(name):\n",
    "    if name is None:\n",
    "        return None\n",
    "    name = name.strip()\n",
    "    return name\n",
    "\n",
    "def clean_url(url):\n",
    "    if url is None:\n",
    "        return None\n",
    "    return url\n",
    "\n",
    "def clean_street_address(address):\n",
    "    if address is None:\n",
    "        return None\n",
    "    address = address.strip()\n",
    "    return address\n",
    "\n",
    "def clean_price(price):\n",
    "    if price is None:\n",
    "        return None\n",
    "    price = price.strip()\n",
    "    price = re.search(r'[\\d,]+(\\.\\d+)?',price)\n",
    "    if price:\n",
    "        price = float(price.group(0).replace(',','').strip())\n",
    "    else:\n",
    "        print(price)\n",
    "        price = None\n",
    "    return price\n",
    "\n",
    "def clean_num_bedroom(num_bedroom):\n",
    "    if num_bedroom is None:\n",
    "        return None\n",
    "    num_bedroom = int(num_bedroom.strip())\n",
    "    return num_bedroom\n",
    "\n",
    "def clean_num_bathroom(num_bathroom):\n",
    "    if num_bathroom is None:\n",
    "        return None\n",
    "    num_bathroom = int(num_bathroom.strip())\n",
    "    return num_bathroom\n",
    "\n",
    "def clean_cost_psf(cost_psf):\n",
    "    if cost_psf is None:\n",
    "        return None\n",
    "    cost_psf = cost_psf.strip()\n",
    "    pattern = r\"\\d{1,3}(?:,\\d{3})*(?:\\.\\d{2})?\"\n",
    "    cost_psf = re.search(pattern, cost_psf)\n",
    "    cost_psf = float(cost_psf.group(0).replace(',', ''))\n",
    "    return cost_psf\n",
    "\n",
    "def clean_total_area(total_area):\n",
    "    if total_area is None:\n",
    "        return None\n",
    "    total_area = total_area.strip()\n",
    "    if ',' in total_area:\n",
    "\n",
    "        cleaned = {'floor': None, 'land': None}\n",
    "        total_area = total_area.split(',')\n",
    "        for area in total_area:\n",
    "            keyword = re.search(r'\\((.*?)\\)', area).group(1).strip()\n",
    "            size = int(re.search(r'(\\d+)', area).group(0))\n",
    "\n",
    "            cleaned[keyword] = size\n",
    "    else:\n",
    "        cleaned = {\n",
    "            'floor': int(re.search(r'(\\d+)', total_area).group(0)),\n",
    "            'land': None\n",
    "        }\n",
    "    \n",
    "    return cleaned\n",
    "\n",
    "def clean_walk(walk):\n",
    "    results = {'destination': None, 'distance': None, 'time': None}\n",
    "    if walk is not None:\n",
    "        walk = walk.strip()\n",
    "        results['destination'] = re.search(r'to (.*)', walk).group(1).strip()\n",
    "        results['distance'] = re.search(r'\\((.*?)\\)', walk).group(1).strip()\n",
    "        results['time'] = re.search(r'(.*?)\\s*\\(', walk).group(1).strip()\n",
    "    \n",
    "    return results\n",
    "\n",
    "\n",
    "def clean_tags(tags):\n",
    "    if tags is None:\n",
    "        return None\n",
    "    for i in range(len(tags)):\n",
    "        tags[i] = tags[i].strip()\n",
    "    return tags\n",
    "\n",
    "\n",
    "def clean_recency(recency):\n",
    "    if recency is None:\n",
    "        return None\n",
    "    recency = recency.strip()\n",
    "    return recency\n"
   ]
  },
  {
   "cell_type": "code",
   "execution_count": 14,
   "metadata": {},
   "outputs": [
    {
     "name": "stderr",
     "output_type": "stream",
     "text": [
      "3824it [00:00, 13123.79it/s]"
     ]
    },
    {
     "name": "stdout",
     "output_type": "stream",
     "text": [
      "None\n",
      "None\n",
      "None\n",
      "None\n",
      "None\n"
     ]
    },
    {
     "name": "stderr",
     "output_type": "stream",
     "text": [
      "7977it [00:00, 13544.89it/s]"
     ]
    },
    {
     "name": "stdout",
     "output_type": "stream",
     "text": [
      "None\n",
      "None\n",
      "None\n",
      "None\n"
     ]
    },
    {
     "name": "stderr",
     "output_type": "stream",
     "text": [
      "10708it [00:00, 13413.63it/s]"
     ]
    },
    {
     "name": "stdout",
     "output_type": "stream",
     "text": [
      "None\n",
      "None\n",
      "None\n",
      "None\n",
      "None\n",
      "None\n",
      "None\n",
      "None\n",
      "None\n",
      "None\n",
      "None\n"
     ]
    },
    {
     "name": "stderr",
     "output_type": "stream",
     "text": [
      "14747it [00:01, 13422.39it/s]"
     ]
    },
    {
     "name": "stdout",
     "output_type": "stream",
     "text": [
      "None\n",
      "None\n",
      "None\n",
      "None\n",
      "None\n",
      "None\n"
     ]
    },
    {
     "name": "stderr",
     "output_type": "stream",
     "text": [
      "18906it [00:01, 13726.86it/s]"
     ]
    },
    {
     "name": "stdout",
     "output_type": "stream",
     "text": [
      "None\n",
      "None\n",
      "None\n",
      "None\n",
      "None\n"
     ]
    },
    {
     "name": "stderr",
     "output_type": "stream",
     "text": [
      "24466it [00:01, 13819.07it/s]"
     ]
    },
    {
     "name": "stdout",
     "output_type": "stream",
     "text": [
      "None\n",
      "None\n",
      "None\n",
      "None\n"
     ]
    },
    {
     "name": "stderr",
     "output_type": "stream",
     "text": [
      "27260it [00:02, 13890.42it/s]"
     ]
    },
    {
     "name": "stdout",
     "output_type": "stream",
     "text": [
      "None\n",
      "None\n",
      "None\n",
      "None\n",
      "None\n",
      "None\n"
     ]
    },
    {
     "name": "stderr",
     "output_type": "stream",
     "text": [
      "31434it [00:02, 13751.30it/s]"
     ]
    },
    {
     "name": "stdout",
     "output_type": "stream",
     "text": [
      "None\n",
      "None\n",
      "None\n",
      "None\n",
      "None\n"
     ]
    },
    {
     "name": "stderr",
     "output_type": "stream",
     "text": [
      "37051it [00:02, 13675.56it/s]"
     ]
    },
    {
     "name": "stdout",
     "output_type": "stream",
     "text": [
      "None\n",
      "None\n",
      "None\n",
      "None\n",
      "None\n",
      "None\n",
      "None\n",
      "None\n",
      "None\n"
     ]
    },
    {
     "name": "stderr",
     "output_type": "stream",
     "text": [
      "39834it [00:02, 13720.70it/s]"
     ]
    },
    {
     "name": "stdout",
     "output_type": "stream",
     "text": [
      "None\n",
      "None\n",
      "None\n",
      "None\n",
      "None\n",
      "None\n"
     ]
    },
    {
     "name": "stderr",
     "output_type": "stream",
     "text": [
      "44035it [00:03, 13898.99it/s]"
     ]
    },
    {
     "name": "stdout",
     "output_type": "stream",
     "text": [
      "None\n",
      "None\n",
      "None\n",
      "None\n"
     ]
    },
    {
     "name": "stderr",
     "output_type": "stream",
     "text": [
      "46829it [00:03, 13925.26it/s]"
     ]
    },
    {
     "name": "stdout",
     "output_type": "stream",
     "text": [
      "None\n",
      "None\n",
      "None\n",
      "None\n",
      "None\n"
     ]
    },
    {
     "name": "stderr",
     "output_type": "stream",
     "text": [
      "48729it [00:03, 13593.49it/s]"
     ]
    },
    {
     "name": "stdout",
     "output_type": "stream",
     "text": [
      "None\n",
      "None\n"
     ]
    },
    {
     "name": "stderr",
     "output_type": "stream",
     "text": [
      "\n"
     ]
    }
   ],
   "source": [
    "for i, row in tqdm(listings.iterrows()):\n",
    "    listings.at[i, 'name'] = clean_name(row['name'])\n",
    "    listings.at[i, 'url'] = clean_url(row['url'])\n",
    "    listings.at[i, 'street_address'] = clean_street_address(row['street_address'])\n",
    "    listings.at[i, 'price'] = clean_price(row['price'])\n",
    "    listings.at[i, 'num_bedroom'] = clean_num_bedroom(row['num_bedroom'])\n",
    "    listings.at[i, 'num_bathroom'] = clean_num_bathroom(row['num_bathroom'])\n",
    "    listings.at[i, 'cost_psf'] = clean_cost_psf(row['cost_psf'])\n",
    "    listings.at[i, 'total_area'] = clean_total_area(row['total_area'])\n",
    "    listings.at[i, 'walk'] = clean_walk(row['walk'])\n",
    "    listings.at[i, 'tags'] = clean_tags(row['tags'])\n",
    "    listings.at[i, 'recency'] = clean_recency(row['recency'])"
   ]
  },
  {
   "cell_type": "code",
   "execution_count": 15,
   "metadata": {},
   "outputs": [
    {
     "name": "stdout",
     "output_type": "stream",
     "text": [
      "<class 'pandas.core.frame.DataFrame'>\n",
      "RangeIndex: 48729 entries, 0 to 48728\n",
      "Data columns (total 12 columns):\n",
      " #   Column          Non-Null Count  Dtype \n",
      "---  ------          --------------  ----- \n",
      " 0   id              48729 non-null  object\n",
      " 1   name            48729 non-null  object\n",
      " 2   url             48729 non-null  object\n",
      " 3   street_address  48729 non-null  object\n",
      " 4   price           48657 non-null  object\n",
      " 5   num_bedroom     48304 non-null  object\n",
      " 6   num_bathroom    48001 non-null  object\n",
      " 7   cost_psf        47955 non-null  object\n",
      " 8   total_area      48729 non-null  object\n",
      " 9   walk            48729 non-null  object\n",
      " 10  tags            48729 non-null  object\n",
      " 11  recency         48729 non-null  object\n",
      "dtypes: object(12)\n",
      "memory usage: 4.5+ MB\n"
     ]
    }
   ],
   "source": [
    "listings.info()"
   ]
  },
  {
   "cell_type": "markdown",
   "metadata": {},
   "source": [
    "# Process"
   ]
  },
  {
   "cell_type": "code",
   "execution_count": 17,
   "metadata": {},
   "outputs": [],
   "source": [
    "listings['price'] = listings['price'].astype(float)\n",
    "listings['cost_psf'] = listings['cost_psf'].astype(float)"
   ]
  },
  {
   "cell_type": "code",
   "execution_count": 35,
   "metadata": {},
   "outputs": [],
   "source": [
    "search_phrases = listings[listings['street_address'].notna()]['street_address'].values.tolist()\n",
    "\n",
    "with open('./temp.json', 'w') as f:\n",
    "    json.dump(search_phrases, f)"
   ]
  },
  {
   "cell_type": "code",
   "execution_count": 38,
   "metadata": {},
   "outputs": [],
   "source": [
    "!python 2_process_address.py"
   ]
  },
  {
   "cell_type": "code",
   "execution_count": 7,
   "metadata": {},
   "outputs": [],
   "source": [
    "with open('../data/one_map_search_results_db.json', 'r') as f:\n",
    "    search_db = json.load(f)"
   ]
  },
  {
   "cell_type": "code",
   "execution_count": 8,
   "metadata": {},
   "outputs": [],
   "source": [
    "def process_street_address(address, search_db):\n",
    "    if address is None or address not in search_db:\n",
    "        return None, None, None, None, None, None\n",
    "    elif len(search_db[address])==1:\n",
    "        x = search_db[address][0]\n",
    "        add = x['ADDRESS'] if 'ADDRESS' in x and x['ADDRESS']!='NIL' else None\n",
    "        road_name = x['ROAD_NAME'] if 'ROAD_NAME' in x and x['ROAD_NAME']!='NIL' else None\n",
    "        building = x['BUILDING'] if 'BUILDING' in x and x['BUILDING']!='NIL' else None\n",
    "        postal_code = x['POSTAL'] if 'BUILDING' in x and x['POSTAL']!='NIL' else None\n",
    "        lat = x['LATITUDE'] if 'LATITUDE' in x and x['LATITUDE']!='NIL' else None\n",
    "        long = x['LONGITUDE'] if 'LONGITUDE' in x and x['LONGITUDE']!='NIL' else None\n",
    "        return add, road_name, building, postal_code, lat, long\n",
    "\n",
    "    return None, None, None, None, None, None\n",
    "\n",
    "listings['address'], \\\n",
    "listings['road_name'], \\\n",
    "listings['building'], \\\n",
    "listings['postal_code'], \\\n",
    "listings['latitude'], \\\n",
    "listings['longitude'] = zip(*listings['street_address'].apply(lambda x: process_street_address(x, search_db)))"
   ]
  },
  {
   "cell_type": "code",
   "execution_count": 10,
   "metadata": {},
   "outputs": [],
   "source": [
    "search_phrases = listings[listings['latitude'].isna()]['name'].values.tolist()\n",
    "\n",
    "with open('./temp.json', 'w') as f:\n",
    "    json.dump(search_phrases, f)"
   ]
  },
  {
   "cell_type": "code",
   "execution_count": 60,
   "metadata": {},
   "outputs": [],
   "source": [
    "!python 2_process_address.py"
   ]
  },
  {
   "cell_type": "code",
   "execution_count": 11,
   "metadata": {},
   "outputs": [
    {
     "data": {
      "text/plain": [
       "11112"
      ]
     },
     "execution_count": 11,
     "metadata": {},
     "output_type": "execute_result"
    }
   ],
   "source": [
    "with open('./temp.json', 'r') as f:\n",
    "    search_db = json.load(f)\n",
    "len(search_db)"
   ]
  },
  {
   "cell_type": "code",
   "execution_count": 13,
   "metadata": {},
   "outputs": [],
   "source": [
    "def process_street_address(address, search_db):\n",
    "    if address is None or address not in search_db:\n",
    "        return None, None, None, None, None, None\n",
    "    elif len(search_db[address])==1:\n",
    "        x = search_db[address][0]\n",
    "        add = x['ADDRESS'] if 'ADDRESS' in x and x['ADDRESS']!='NIL' else None\n",
    "        road_name = x['ROAD_NAME'] if 'ROAD_NAME' in x and x['ROAD_NAME']!='NIL' else None\n",
    "        building = x['BUILDING'] if 'BUILDING' in x and x['BUILDING']!='NIL' else None\n",
    "        postal_code = x['POSTAL'] if 'BUILDING' in x and x['POSTAL']!='NIL' else None\n",
    "        lat = x['LATITUDE'] if 'LATITUDE' in x and x['LATITUDE']!='NIL' else None\n",
    "        long = x['LONGITUDE'] if 'LONGITUDE' in x and x['LONGITUDE']!='NIL' else None\n",
    "        return add, road_name, building, postal_code, lat, long\n",
    "\n",
    "    return None, None, None, None, None, None\n",
    "\n",
    "empty_rows = listings.loc[listings['latitude'].isna(),:].index\n",
    "\n",
    "listings.loc[empty_rows,'address'], \\\n",
    "listings.loc[empty_rows,'road_name'], \\\n",
    "listings.loc[empty_rows,'building'], \\\n",
    "listings.loc[empty_rows,'postal_code'], \\\n",
    "listings.loc[empty_rows,'latitude'], \\\n",
    "listings.loc[empty_rows,'longitude'] = zip(*listings.loc[empty_rows,'name'].apply(lambda x: process_street_address(x, search_db)))"
   ]
  },
  {
   "cell_type": "code",
   "execution_count": 15,
   "metadata": {},
   "outputs": [],
   "source": [
    "listings['floor_area'] = listings['total_area'].apply(lambda x: x['floor'])\n",
    "listings['land_area'] = listings['total_area'].apply(lambda x: x['land'])"
   ]
  },
  {
   "cell_type": "code",
   "execution_count": 16,
   "metadata": {},
   "outputs": [],
   "source": [
    "def process_walk_distance(distance):\n",
    "    if distance is None:\n",
    "        return None\n",
    "    num, unit = distance.split(' ')\n",
    "    num = int(num)\n",
    "    if unit.lower()=='km':\n",
    "        num = num * 1000\n",
    "    return num\n",
    "\n",
    "def process_walk_time(time):\n",
    "    if time is None:\n",
    "        return None\n",
    "    num, unit = time.split(' ')\n",
    "    num = int(num)\n",
    "    return num\n",
    "\n",
    "listings['walk_destination'] = listings['walk'].apply(lambda x: x['destination'])\n",
    "listings['walk_distance_m'] = listings['walk'].apply(lambda x: process_walk_distance(x['distance']))\n",
    "listings['walk_time_mins'] = listings['walk'].apply(lambda x: process_walk_time(x['time']))"
   ]
  },
  {
   "cell_type": "code",
   "execution_count": 17,
   "metadata": {},
   "outputs": [],
   "source": [
    "def process_tags(tags):\n",
    "    processed = {\n",
    "        'lease_duration': None,\n",
    "        'completion': None,\n",
    "        'type': None\n",
    "    }\n",
    "    for tag in tags:\n",
    "        string = tag.lower()\n",
    "        if 'freehold' in string:\n",
    "            processed['lease_duration'] = 'Freehold'\n",
    "        elif 'unknown tenure' in string:\n",
    "            pass\n",
    "        elif 'leasehold' in string:\n",
    "            processed['lease_duration'] = int(re.search(r'\\d+', tag).group(0))\n",
    "        elif 'built' in string or 'completion' in string:\n",
    "            processed['completion'] = int(re.search(r'\\d+', tag).group(0))\n",
    "        else:\n",
    "            processed['type'] = tag\n",
    "    \n",
    "    return processed['lease_duration'], processed['completion'], processed['type']\n",
    "    \n",
    "\n",
    "\n",
    "listings['lease_duration'], \\\n",
    "listings['completion'], \\\n",
    "listings['type'] = zip(*listings['tags'].apply(lambda x: process_tags(x)))"
   ]
  },
  {
   "cell_type": "code",
   "execution_count": 21,
   "metadata": {},
   "outputs": [],
   "source": [
    "listings = listings.drop(columns=['street_address', 'total_area', 'walk', 'tags', 'recency'])"
   ]
  },
  {
   "cell_type": "code",
   "execution_count": 22,
   "metadata": {},
   "outputs": [
    {
     "name": "stdout",
     "output_type": "stream",
     "text": [
      "<class 'pandas.core.frame.DataFrame'>\n",
      "RangeIndex: 48729 entries, 0 to 48728\n",
      "Data columns (total 21 columns):\n",
      " #   Column            Non-Null Count  Dtype  \n",
      "---  ------            --------------  -----  \n",
      " 0   id                48729 non-null  object \n",
      " 1   name              48729 non-null  object \n",
      " 2   url               48729 non-null  object \n",
      " 3   price             48729 non-null  object \n",
      " 4   num_bedroom       48304 non-null  object \n",
      " 5   num_bathroom      48001 non-null  object \n",
      " 6   cost_psf          47955 non-null  object \n",
      " 7   address           37597 non-null  object \n",
      " 8   road_name         37547 non-null  object \n",
      " 9   building          30414 non-null  object \n",
      " 10  postal_code       33697 non-null  object \n",
      " 11  latitude          37597 non-null  object \n",
      " 12  longitude         37597 non-null  object \n",
      " 13  floor_area        48729 non-null  int64  \n",
      " 14  land_area         9166 non-null   float64\n",
      " 15  walk_destination  40209 non-null  object \n",
      " 16  walk_distance_m   40209 non-null  float64\n",
      " 17  walk_time_mins    40209 non-null  float64\n",
      " 18  lease_duration    47589 non-null  object \n",
      " 19  completion        31349 non-null  float64\n",
      " 20  type              48729 non-null  object \n",
      "dtypes: float64(4), int64(1), object(16)\n",
      "memory usage: 7.8+ MB\n"
     ]
    }
   ],
   "source": [
    "listings.info()"
   ]
  },
  {
   "cell_type": "code",
   "execution_count": 23,
   "metadata": {},
   "outputs": [],
   "source": [
    "listings.to_csv('../data/processed/20231116/processed.csv', index=False)"
   ]
  }
 ],
 "metadata": {
  "kernelspec": {
   "display_name": "housing_proj",
   "language": "python",
   "name": "python3"
  },
  "language_info": {
   "codemirror_mode": {
    "name": "ipython",
    "version": 3
   },
   "file_extension": ".py",
   "mimetype": "text/x-python",
   "name": "python",
   "nbconvert_exporter": "python",
   "pygments_lexer": "ipython3",
   "version": "3.11.5"
  }
 },
 "nbformat": 4,
 "nbformat_minor": 2
}
