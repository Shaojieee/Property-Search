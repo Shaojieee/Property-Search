{
 "cells": [
  {
   "cell_type": "code",
   "execution_count": 32,
   "metadata": {},
   "outputs": [
    {
     "data": {
      "text/plain": [
       "True"
      ]
     },
     "execution_count": 32,
     "metadata": {},
     "output_type": "execute_result"
    }
   ],
   "source": [
    "import pandas as pd\n",
    "import numpy as np\n",
    "import psycopg2\n",
    "import psycopg2.extras as extras\n",
    "\n",
    "import os\n",
    "from dotenv import load_dotenv\n",
    "load_dotenv()\n"
   ]
  },
  {
   "cell_type": "code",
   "execution_count": 33,
   "metadata": {},
   "outputs": [],
   "source": [
    "def nan_to_null(f,\n",
    "        _NULL=psycopg2.extensions.AsIs('NULL'),\n",
    "        _Float=psycopg2.extensions.Float):\n",
    "    if not np.isnan(f):\n",
    "        return _Float(f)\n",
    "    return _NULL\n",
    "\n",
    "psycopg2.extensions.register_adapter(float, nan_to_null)"
   ]
  },
  {
   "cell_type": "code",
   "execution_count": 34,
   "metadata": {},
   "outputs": [],
   "source": [
    "conn = psycopg2.connect(\n",
    "    host=os.environ['POSTGRES_HOST'],\n",
    "    port=os.environ['POSTGRES_PORT'],\n",
    "    database=os.environ['OLAP_DB'],\n",
    "    user=os.environ['POSTGRES_USER'],\n",
    "    password=os.environ['POSTGRES_PASSWORD']\n",
    ")"
   ]
  },
  {
   "cell_type": "code",
   "execution_count": 35,
   "metadata": {},
   "outputs": [],
   "source": [
    "def execute_values(conn, df, table): \n",
    "  \n",
    "    tuples = [tuple(x) for x in df.to_numpy()] \n",
    "  \n",
    "    cols = ','.join(list(df.columns)) \n",
    "    # SQL query to execute \n",
    "    query = \"INSERT INTO %s(%s) VALUES %%s\" % (table, cols) \n",
    "    cursor = conn.cursor() \n",
    "    try: \n",
    "        extras.execute_values(cursor, query, tuples) \n",
    "        conn.commit() \n",
    "    except (Exception, psycopg2.DatabaseError) as error: \n",
    "        print(\"Error: %s\" % error) \n",
    "        conn.rollback() \n",
    "        cursor.close() \n",
    "        return 1\n",
    "    cursor.close() "
   ]
  },
  {
   "cell_type": "markdown",
   "metadata": {},
   "source": [
    "# Upload properties"
   ]
  },
  {
   "cell_type": "code",
   "execution_count": null,
   "metadata": {},
   "outputs": [],
   "source": [
    "final = pd.read_csv('../data/processed/20231116/processed.csv')\n",
    "final.info()"
   ]
  },
  {
   "cell_type": "code",
   "execution_count": 40,
   "metadata": {},
   "outputs": [],
   "source": [
    "columns = [\n",
    "    'id','name','url','price','num_bedroom','num_bathroom','cost_psf',\n",
    "    'address','road_name','building','postal_code','latitude','longitude',\n",
    "    'floor_area','land_area','walk_destination','walk_distance_m','walk_time_mins',\n",
    "    'lease_duration','completion','type',\n",
    "]\n",
    "properties = final[columns]\n",
    "\n",
    "execute_values(conn, properties, 'properties')"
   ]
  },
  {
   "cell_type": "markdown",
   "metadata": {},
   "source": [
    "# Upload Amenities"
   ]
  },
  {
   "cell_type": "code",
   "execution_count": 53,
   "metadata": {},
   "outputs": [
    {
     "name": "stdout",
     "output_type": "stream",
     "text": [
      "<class 'pandas.core.frame.DataFrame'>\n",
      "RangeIndex: 22758189 entries, 0 to 22758188\n",
      "Data columns (total 6 columns):\n",
      " #   Column        Dtype  \n",
      "---  ------        -----  \n",
      " 0   property_id   int64  \n",
      " 1   amenity_type  object \n",
      " 2   amenity_name  object \n",
      " 3   latitude      float64\n",
      " 4   longitude     float64\n",
      " 5   distance_km   float64\n",
      "dtypes: float64(3), int64(1), object(2)\n",
      "memory usage: 1.0+ GB\n"
     ]
    }
   ],
   "source": [
    "final = pd.read_csv('../data/processed/20231116/property_amenities.csv')\n",
    "final.info()"
   ]
  },
  {
   "cell_type": "code",
   "execution_count": 46,
   "metadata": {},
   "outputs": [],
   "source": [
    "columns = [\n",
    "    'property_id', 'amenity_type', 'amenity_name','latitude','longitude','distance_km'\n",
    "]\n",
    "properties_amenities = final[columns]\n",
    "\n",
    "execute_values(conn, properties_amenities, 'property_amenities')"
   ]
  }
 ],
 "metadata": {
  "kernelspec": {
   "display_name": "housing_proj",
   "language": "python",
   "name": "python3"
  },
  "language_info": {
   "codemirror_mode": {
    "name": "ipython",
    "version": 3
   },
   "file_extension": ".py",
   "mimetype": "text/x-python",
   "name": "python",
   "nbconvert_exporter": "python",
   "pygments_lexer": "ipython3",
   "version": "3.11.5"
  }
 },
 "nbformat": 4,
 "nbformat_minor": 2
}
