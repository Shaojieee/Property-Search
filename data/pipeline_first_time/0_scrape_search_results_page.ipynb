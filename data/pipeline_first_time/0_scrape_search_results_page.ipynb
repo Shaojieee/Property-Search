{
 "cells": [
  {
   "cell_type": "code",
   "execution_count": 6,
   "metadata": {},
   "outputs": [],
   "source": [
    "from bs4 import BeautifulSoup\n",
    "from selenium.webdriver.common.by import By\n",
    "from selenium.webdriver.common.action_chains import ActionChains\n",
    "from selenium.webdriver.support.wait import WebDriverWait\n",
    "from selenium.webdriver.support import expected_conditions as EC\n",
    "from selenium.common.exceptions import TimeoutException\n",
    "\n",
    "\n",
    "import datetime\n",
    "from dateutil import tz\n",
    "import time\n",
    "import random\n",
    "import json\n",
    "import os\n",
    "\n",
    "import undetected_chromedriver as uc"
   ]
  },
  {
   "cell_type": "code",
   "execution_count": 7,
   "metadata": {},
   "outputs": [],
   "source": [
    "cur_date = datetime.datetime.now(tz=tz.gettz('Asia/Singapore')).strftime('%Y%m%d')\n",
    "output_dir = f'../data/raw/{cur_date}'\n",
    "retries = 10\n",
    "\n",
    "os.makedirs(output_dir, exist_ok=True)"
   ]
  },
  {
   "cell_type": "code",
   "execution_count": null,
   "metadata": {},
   "outputs": [],
   "source": [
    "url = 'https://www.propertyguru.com.sg'\n",
    "driver = uc.Chrome(headless=False,use_subprocess=False)\n",
    "driver.get(url)\n",
    "time.sleep(random.uniform(3,5))\n",
    "buy_btn = driver.find_element(By.XPATH, \"//a[@data-automation-id='main-nav-buy-lnk']\")\n",
    "buy_btn.click()\n",
    "time.sleep(random.uniform(3,5))\n",
    "\n",
    "page_count = 1\n",
    "while True:\n",
    "    time.sleep(random.uniform(2, 3))\n",
    "    page = BeautifulSoup(driver.page_source)\n",
    "    with open(f\"{output_dir}/{page_count}_listings.html\", \"w\") as file:\n",
    "        file.write(str(page.prettify()))\n",
    "\n",
    "    pagination = driver.find_element(By.XPATH, \"//div[@data-automation-id='listing-pagination']\")\n",
    "    actions = ActionChains(driver)\n",
    "    actions.move_to_element(pagination).perform()\n",
    "    time.sleep(random.uniform(1,2))\n",
    "    \n",
    "    next_page = pagination.find_element(By.CLASS_NAME, 'pagination-next')\n",
    "    next_page = next_page.find_elements(By.TAG_NAME,'a')\n",
    "\n",
    "    if len(next_page)==0:\n",
    "        break\n",
    "    else:\n",
    "        next_page = next_page[0]\n",
    "        next_page.click()\n",
    "        if len(driver.find_elements(By.CLASS_NAME, 'errorPage'))>0:\n",
    "            break\n",
    "        page_count += 1\n",
    "            \n",
    "driver.quit()\n"
   ]
  },
  {
   "cell_type": "code",
   "execution_count": 192,
   "metadata": {},
   "outputs": [],
   "source": [
    "page_count=2430"
   ]
  },
  {
   "cell_type": "code",
   "execution_count": 193,
   "metadata": {},
   "outputs": [],
   "source": [
    "url = 'https://www.propertyguru.com.sg'\n",
    "driver = uc.Chrome(headless=False,use_subprocess=False)\n",
    "driver.get(f\"{url}/property-for-sale/{page_count+1}?\")"
   ]
  },
  {
   "cell_type": "code",
   "execution_count": 194,
   "metadata": {},
   "outputs": [],
   "source": [
    "driver.switch_to.window(driver.window_handles[0])"
   ]
  },
  {
   "cell_type": "code",
   "execution_count": 195,
   "metadata": {},
   "outputs": [],
   "source": [
    "page_count = page_count+1\n",
    "while True:\n",
    "    time.sleep(random.uniform(2, 3))\n",
    "    page = BeautifulSoup(driver.page_source)\n",
    "    with open(f\"{output_dir}/{page_count}_listings.html\", \"w\") as file:\n",
    "        file.write(str(page.prettify()))\n",
    "\n",
    "    pagination = driver.find_element(By.XPATH, \"//div[@data-automation-id='listing-pagination']\")\n",
    "    actions = ActionChains(driver)\n",
    "    actions.move_to_element(pagination).perform()\n",
    "    time.sleep(random.uniform(1,2))\n",
    "    \n",
    "    next_page = pagination.find_element(By.CLASS_NAME, 'pagination-next')\n",
    "    next_page = next_page.find_elements(By.TAG_NAME,'a')\n",
    "\n",
    "    if len(next_page)==0:\n",
    "        break\n",
    "    else:\n",
    "        next_page = next_page[0]\n",
    "        next_page.click()\n",
    "        if len(driver.find_elements(By.CLASS_NAME, 'errorPage'))>0:\n",
    "            break\n",
    "        page_count+=1\n",
    "            \n",
    "driver.quit()\n"
   ]
  }
 ],
 "metadata": {
  "kernelspec": {
   "display_name": "housing_proj",
   "language": "python",
   "name": "python3"
  },
  "language_info": {
   "codemirror_mode": {
    "name": "ipython",
    "version": 3
   },
   "file_extension": ".py",
   "mimetype": "text/x-python",
   "name": "python",
   "nbconvert_exporter": "python",
   "pygments_lexer": "ipython3",
   "version": "3.11.5"
  }
 },
 "nbformat": 4,
 "nbformat_minor": 2
}
