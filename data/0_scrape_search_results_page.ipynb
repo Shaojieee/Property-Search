{
 "cells": [
  {
   "cell_type": "code",
   "execution_count": 6,
   "metadata": {},
   "outputs": [],
   "source": [
    "from bs4 import BeautifulSoup\n",
    "from selenium.webdriver.common.by import By\n",
    "from selenium.webdriver.common.action_chains import ActionChains\n",
    "from selenium.webdriver.support.wait import WebDriverWait\n",
    "from selenium.webdriver.support import expected_conditions as EC\n",
    "from selenium.common.exceptions import TimeoutException\n",
    "\n",
    "\n",
    "import datetime\n",
    "from dateutil import tz\n",
    "import time\n",
    "import random\n",
    "import json\n",
    "import os\n",
    "\n",
    "import undetected_chromedriver as uc"
   ]
  },
  {
   "cell_type": "code",
   "execution_count": 7,
   "metadata": {},
   "outputs": [],
   "source": [
    "cur_date = datetime.datetime.now(tz=tz.gettz('Asia/Singapore')).strftime('%Y%m%d')\n",
    "output_dir = f'./data/raw/{cur_date}'\n",
    "retries = 10\n",
    "\n",
    "os.makedirs(output_dir, exist_ok=True)"
   ]
  },
  {
   "cell_type": "code",
   "execution_count": 147,
   "metadata": {},
   "outputs": [
    {
     "ename": "NoSuchElementException",
     "evalue": "Message: no such element: Unable to locate element: {\"method\":\"xpath\",\"selector\":\"//div[@data-automation-id='listing-pagination']\"}\n  (Session info: chrome=119.0.6045.159); For documentation on this error, please visit: https://www.selenium.dev/documentation/webdriver/troubleshooting/errors#no-such-element-exception\nStacktrace:\n0   undetected_chromedriver             0x000000010139cd28 undetected_chromedriver + 4795688\n1   undetected_chromedriver             0x00000001013942b3 undetected_chromedriver + 4760243\n2   undetected_chromedriver             0x0000000100f6d88d undetected_chromedriver + 407693\n3   undetected_chromedriver             0x0000000100fbc3d9 undetected_chromedriver + 730073\n4   undetected_chromedriver             0x0000000100fbc591 undetected_chromedriver + 730513\n5   undetected_chromedriver             0x00000001010027e4 undetected_chromedriver + 1017828\n6   undetected_chromedriver             0x0000000100fe3ccd undetected_chromedriver + 892109\n7   undetected_chromedriver             0x0000000100fffb2b undetected_chromedriver + 1006379\n8   undetected_chromedriver             0x0000000100fe3a73 undetected_chromedriver + 891507\n9   undetected_chromedriver             0x0000000100fae143 undetected_chromedriver + 672067\n10  undetected_chromedriver             0x0000000100faf31e undetected_chromedriver + 676638\n11  undetected_chromedriver             0x000000010135d795 undetected_chromedriver + 4536213\n12  undetected_chromedriver             0x0000000101362853 undetected_chromedriver + 4556883\n13  undetected_chromedriver             0x0000000101343001 undetected_chromedriver + 4427777\n14  undetected_chromedriver             0x000000010136359d undetected_chromedriver + 4560285\n15  undetected_chromedriver             0x000000010133448c undetected_chromedriver + 4367500\n16  undetected_chromedriver             0x00000001013830e8 undetected_chromedriver + 4690152\n17  undetected_chromedriver             0x000000010138329e undetected_chromedriver + 4690590\n18  undetected_chromedriver             0x0000000101393eee undetected_chromedriver + 4759278\n19  libsystem_pthread.dylib             0x00007ff8123d5202 _pthread_start + 99\n20  libsystem_pthread.dylib             0x00007ff8123d0bab thread_start + 15\n",
     "output_type": "error",
     "traceback": [
      "\u001b[0;31m---------------------------------------------------------------------------\u001b[0m",
      "\u001b[0;31mNoSuchElementException\u001b[0m                    Traceback (most recent call last)",
      "\u001b[1;32m/Users/shaojieee/Desktop/data_products/project/CZ4125---Data-Product/property_guru/search_results_page.ipynb Cell 3\u001b[0m line \u001b[0;36m1\n\u001b[1;32m     <a href='vscode-notebook-cell:/Users/shaojieee/Desktop/data_products/project/CZ4125---Data-Product/property_guru/search_results_page.ipynb#W1sZmlsZQ%3D%3D?line=12'>13</a>\u001b[0m \u001b[39mwith\u001b[39;00m \u001b[39mopen\u001b[39m(\u001b[39mf\u001b[39m\u001b[39m\"\u001b[39m\u001b[39m{\u001b[39;00moutput_dir\u001b[39m}\u001b[39;00m\u001b[39m/\u001b[39m\u001b[39m{\u001b[39;00mpage_count\u001b[39m}\u001b[39;00m\u001b[39m_listings.html\u001b[39m\u001b[39m\"\u001b[39m, \u001b[39m\"\u001b[39m\u001b[39mw\u001b[39m\u001b[39m\"\u001b[39m) \u001b[39mas\u001b[39;00m file:\n\u001b[1;32m     <a href='vscode-notebook-cell:/Users/shaojieee/Desktop/data_products/project/CZ4125---Data-Product/property_guru/search_results_page.ipynb#W1sZmlsZQ%3D%3D?line=13'>14</a>\u001b[0m     file\u001b[39m.\u001b[39mwrite(\u001b[39mstr\u001b[39m(page\u001b[39m.\u001b[39mprettify()))\n\u001b[0;32m---> <a href='vscode-notebook-cell:/Users/shaojieee/Desktop/data_products/project/CZ4125---Data-Product/property_guru/search_results_page.ipynb#W1sZmlsZQ%3D%3D?line=15'>16</a>\u001b[0m pagination \u001b[39m=\u001b[39m driver\u001b[39m.\u001b[39;49mfind_element(By\u001b[39m.\u001b[39;49mXPATH, \u001b[39m\"\u001b[39;49m\u001b[39m//div[@data-automation-id=\u001b[39;49m\u001b[39m'\u001b[39;49m\u001b[39mlisting-pagination\u001b[39;49m\u001b[39m'\u001b[39;49m\u001b[39m]\u001b[39;49m\u001b[39m\"\u001b[39;49m)\n\u001b[1;32m     <a href='vscode-notebook-cell:/Users/shaojieee/Desktop/data_products/project/CZ4125---Data-Product/property_guru/search_results_page.ipynb#W1sZmlsZQ%3D%3D?line=16'>17</a>\u001b[0m actions \u001b[39m=\u001b[39m ActionChains(driver)\n\u001b[1;32m     <a href='vscode-notebook-cell:/Users/shaojieee/Desktop/data_products/project/CZ4125---Data-Product/property_guru/search_results_page.ipynb#W1sZmlsZQ%3D%3D?line=17'>18</a>\u001b[0m actions\u001b[39m.\u001b[39mmove_to_element(pagination)\u001b[39m.\u001b[39mperform()\n",
      "File \u001b[0;32m~/.pyenv/versions/3.11.5/envs/housing_proj/lib/python3.11/site-packages/selenium/webdriver/remote/webdriver.py:741\u001b[0m, in \u001b[0;36mWebDriver.find_element\u001b[0;34m(self, by, value)\u001b[0m\n\u001b[1;32m    738\u001b[0m     by \u001b[39m=\u001b[39m By\u001b[39m.\u001b[39mCSS_SELECTOR\n\u001b[1;32m    739\u001b[0m     value \u001b[39m=\u001b[39m \u001b[39mf\u001b[39m\u001b[39m'\u001b[39m\u001b[39m[name=\u001b[39m\u001b[39m\"\u001b[39m\u001b[39m{\u001b[39;00mvalue\u001b[39m}\u001b[39;00m\u001b[39m\"\u001b[39m\u001b[39m]\u001b[39m\u001b[39m'\u001b[39m\n\u001b[0;32m--> 741\u001b[0m \u001b[39mreturn\u001b[39;00m \u001b[39mself\u001b[39;49m\u001b[39m.\u001b[39;49mexecute(Command\u001b[39m.\u001b[39;49mFIND_ELEMENT, {\u001b[39m\"\u001b[39;49m\u001b[39musing\u001b[39;49m\u001b[39m\"\u001b[39;49m: by, \u001b[39m\"\u001b[39;49m\u001b[39mvalue\u001b[39;49m\u001b[39m\"\u001b[39;49m: value})[\u001b[39m\"\u001b[39m\u001b[39mvalue\u001b[39m\u001b[39m\"\u001b[39m]\n",
      "File \u001b[0;32m~/.pyenv/versions/3.11.5/envs/housing_proj/lib/python3.11/site-packages/selenium/webdriver/remote/webdriver.py:347\u001b[0m, in \u001b[0;36mWebDriver.execute\u001b[0;34m(self, driver_command, params)\u001b[0m\n\u001b[1;32m    345\u001b[0m response \u001b[39m=\u001b[39m \u001b[39mself\u001b[39m\u001b[39m.\u001b[39mcommand_executor\u001b[39m.\u001b[39mexecute(driver_command, params)\n\u001b[1;32m    346\u001b[0m \u001b[39mif\u001b[39;00m response:\n\u001b[0;32m--> 347\u001b[0m     \u001b[39mself\u001b[39;49m\u001b[39m.\u001b[39;49merror_handler\u001b[39m.\u001b[39;49mcheck_response(response)\n\u001b[1;32m    348\u001b[0m     response[\u001b[39m\"\u001b[39m\u001b[39mvalue\u001b[39m\u001b[39m\"\u001b[39m] \u001b[39m=\u001b[39m \u001b[39mself\u001b[39m\u001b[39m.\u001b[39m_unwrap_value(response\u001b[39m.\u001b[39mget(\u001b[39m\"\u001b[39m\u001b[39mvalue\u001b[39m\u001b[39m\"\u001b[39m, \u001b[39mNone\u001b[39;00m))\n\u001b[1;32m    349\u001b[0m     \u001b[39mreturn\u001b[39;00m response\n",
      "File \u001b[0;32m~/.pyenv/versions/3.11.5/envs/housing_proj/lib/python3.11/site-packages/selenium/webdriver/remote/errorhandler.py:229\u001b[0m, in \u001b[0;36mErrorHandler.check_response\u001b[0;34m(self, response)\u001b[0m\n\u001b[1;32m    227\u001b[0m         alert_text \u001b[39m=\u001b[39m value[\u001b[39m\"\u001b[39m\u001b[39malert\u001b[39m\u001b[39m\"\u001b[39m]\u001b[39m.\u001b[39mget(\u001b[39m\"\u001b[39m\u001b[39mtext\u001b[39m\u001b[39m\"\u001b[39m)\n\u001b[1;32m    228\u001b[0m     \u001b[39mraise\u001b[39;00m exception_class(message, screen, stacktrace, alert_text)  \u001b[39m# type: ignore[call-arg]  # mypy is not smart enough here\u001b[39;00m\n\u001b[0;32m--> 229\u001b[0m \u001b[39mraise\u001b[39;00m exception_class(message, screen, stacktrace)\n",
      "\u001b[0;31mNoSuchElementException\u001b[0m: Message: no such element: Unable to locate element: {\"method\":\"xpath\",\"selector\":\"//div[@data-automation-id='listing-pagination']\"}\n  (Session info: chrome=119.0.6045.159); For documentation on this error, please visit: https://www.selenium.dev/documentation/webdriver/troubleshooting/errors#no-such-element-exception\nStacktrace:\n0   undetected_chromedriver             0x000000010139cd28 undetected_chromedriver + 4795688\n1   undetected_chromedriver             0x00000001013942b3 undetected_chromedriver + 4760243\n2   undetected_chromedriver             0x0000000100f6d88d undetected_chromedriver + 407693\n3   undetected_chromedriver             0x0000000100fbc3d9 undetected_chromedriver + 730073\n4   undetected_chromedriver             0x0000000100fbc591 undetected_chromedriver + 730513\n5   undetected_chromedriver             0x00000001010027e4 undetected_chromedriver + 1017828\n6   undetected_chromedriver             0x0000000100fe3ccd undetected_chromedriver + 892109\n7   undetected_chromedriver             0x0000000100fffb2b undetected_chromedriver + 1006379\n8   undetected_chromedriver             0x0000000100fe3a73 undetected_chromedriver + 891507\n9   undetected_chromedriver             0x0000000100fae143 undetected_chromedriver + 672067\n10  undetected_chromedriver             0x0000000100faf31e undetected_chromedriver + 676638\n11  undetected_chromedriver             0x000000010135d795 undetected_chromedriver + 4536213\n12  undetected_chromedriver             0x0000000101362853 undetected_chromedriver + 4556883\n13  undetected_chromedriver             0x0000000101343001 undetected_chromedriver + 4427777\n14  undetected_chromedriver             0x000000010136359d undetected_chromedriver + 4560285\n15  undetected_chromedriver             0x000000010133448c undetected_chromedriver + 4367500\n16  undetected_chromedriver             0x00000001013830e8 undetected_chromedriver + 4690152\n17  undetected_chromedriver             0x000000010138329e undetected_chromedriver + 4690590\n18  undetected_chromedriver             0x0000000101393eee undetected_chromedriver + 4759278\n19  libsystem_pthread.dylib             0x00007ff8123d5202 _pthread_start + 99\n20  libsystem_pthread.dylib             0x00007ff8123d0bab thread_start + 15\n"
     ]
    }
   ],
   "source": [
    "url = 'https://www.propertyguru.com.sg'\n",
    "driver = uc.Chrome(headless=False,use_subprocess=False)\n",
    "driver.get(url)\n",
    "time.sleep(random.uniform(3,5))\n",
    "buy_btn = driver.find_element(By.XPATH, \"//a[@data-automation-id='main-nav-buy-lnk']\")\n",
    "buy_btn.click()\n",
    "time.sleep(random.uniform(3,5))\n",
    "\n",
    "page_count = 1\n",
    "while True:\n",
    "    time.sleep(random.uniform(2, 3))\n",
    "    page = BeautifulSoup(driver.page_source)\n",
    "    with open(f\"{output_dir}/{page_count}_listings.html\", \"w\") as file:\n",
    "        file.write(str(page.prettify()))\n",
    "\n",
    "    pagination = driver.find_element(By.XPATH, \"//div[@data-automation-id='listing-pagination']\")\n",
    "    actions = ActionChains(driver)\n",
    "    actions.move_to_element(pagination).perform()\n",
    "    time.sleep(random.uniform(1,2))\n",
    "    \n",
    "    next_page = pagination.find_element(By.CLASS_NAME, 'pagination-next')\n",
    "    next_page = next_page.find_elements(By.TAG_NAME,'a')\n",
    "\n",
    "    if len(next_page)==0:\n",
    "        break\n",
    "    else:\n",
    "        next_page = next_page[0]\n",
    "        next_page.click()\n",
    "        if len(driver.find_elements(By.CLASS_NAME, 'errorPage'))>0:\n",
    "            break\n",
    "        page_count += 1\n",
    "            \n",
    "driver.quit()\n"
   ]
  },
  {
   "cell_type": "code",
   "execution_count": 192,
   "metadata": {},
   "outputs": [],
   "source": [
    "page_count=2430"
   ]
  },
  {
   "cell_type": "code",
   "execution_count": 193,
   "metadata": {},
   "outputs": [],
   "source": [
    "url = 'https://www.propertyguru.com.sg'\n",
    "driver = uc.Chrome(headless=False,use_subprocess=False)\n",
    "driver.get(f\"{url}/property-for-sale/{page_count+1}?\")"
   ]
  },
  {
   "cell_type": "code",
   "execution_count": 194,
   "metadata": {},
   "outputs": [],
   "source": [
    "driver.switch_to.window(driver.window_handles[0])"
   ]
  },
  {
   "cell_type": "code",
   "execution_count": 195,
   "metadata": {},
   "outputs": [],
   "source": [
    "page_count = page_count+1\n",
    "while True:\n",
    "    time.sleep(random.uniform(2, 3))\n",
    "    page = BeautifulSoup(driver.page_source)\n",
    "    with open(f\"{output_dir}/{page_count}_listings.html\", \"w\") as file:\n",
    "        file.write(str(page.prettify()))\n",
    "\n",
    "    pagination = driver.find_element(By.XPATH, \"//div[@data-automation-id='listing-pagination']\")\n",
    "    actions = ActionChains(driver)\n",
    "    actions.move_to_element(pagination).perform()\n",
    "    time.sleep(random.uniform(1,2))\n",
    "    \n",
    "    next_page = pagination.find_element(By.CLASS_NAME, 'pagination-next')\n",
    "    next_page = next_page.find_elements(By.TAG_NAME,'a')\n",
    "\n",
    "    if len(next_page)==0:\n",
    "        break\n",
    "    else:\n",
    "        next_page = next_page[0]\n",
    "        next_page.click()\n",
    "        if len(driver.find_elements(By.CLASS_NAME, 'errorPage'))>0:\n",
    "            break\n",
    "        page_count+=1\n",
    "            \n",
    "driver.quit()\n"
   ]
  }
 ],
 "metadata": {
  "kernelspec": {
   "display_name": "housing_proj",
   "language": "python",
   "name": "python3"
  },
  "language_info": {
   "codemirror_mode": {
    "name": "ipython",
    "version": 3
   },
   "file_extension": ".py",
   "mimetype": "text/x-python",
   "name": "python",
   "nbconvert_exporter": "python",
   "pygments_lexer": "ipython3",
   "version": "3.11.5"
  }
 },
 "nbformat": 4,
 "nbformat_minor": 2
}
