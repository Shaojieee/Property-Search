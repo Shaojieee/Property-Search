{
 "cells": [
  {
   "cell_type": "code",
   "execution_count": 1,
   "metadata": {},
   "outputs": [],
   "source": [
    "import json\n",
    "import os\n",
    "\n",
    "import pandas as pd"
   ]
  },
  {
   "cell_type": "code",
   "execution_count": 2,
   "metadata": {},
   "outputs": [],
   "source": [
    "with open('./data/processed/20231116/raw_extracted_listing_page.json', 'r') as f:\n",
    "    store = json.load(f)"
   ]
  },
  {
   "cell_type": "code",
   "execution_count": 4,
   "metadata": {},
   "outputs": [],
   "source": [
    "store_df = {\n",
    "    'id': [],\n",
    "    'listed_on': [],\n",
    "}\n",
    "for key, value in store.items():\n",
    "    store_df['id'].append(key)\n",
    "    for i, j in value.items():\n",
    "        store_df[i].append(j)\n",
    "\n",
    "listings = pd.DataFrame(store_df)"
   ]
  },
  {
   "cell_type": "code",
   "execution_count": 7,
   "metadata": {},
   "outputs": [],
   "source": [
    "listings['listed_on'] = pd.to_datetime(listings['listed_on'])"
   ]
  },
  {
   "cell_type": "code",
   "execution_count": 12,
   "metadata": {},
   "outputs": [],
   "source": [
    "listings.to_csv('./data/processed/20231116/processed_listing_page.csv')"
   ]
  }
 ],
 "metadata": {
  "kernelspec": {
   "display_name": "housing_proj",
   "language": "python",
   "name": "python3"
  },
  "language_info": {
   "codemirror_mode": {
    "name": "ipython",
    "version": 3
   },
   "file_extension": ".py",
   "mimetype": "text/x-python",
   "name": "python",
   "nbconvert_exporter": "python",
   "pygments_lexer": "ipython3",
   "version": "3.11.5"
  }
 },
 "nbformat": 4,
 "nbformat_minor": 2
}
