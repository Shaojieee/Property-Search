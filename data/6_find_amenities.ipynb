{
 "cells": [
  {
   "cell_type": "code",
   "execution_count": 1,
   "metadata": {},
   "outputs": [],
   "source": [
    "import pandas as pd\n",
    "import json\n",
    "from tqdm import tqdm\n",
    "import math\n",
    "\n",
    "from return_nearby_amenities import search_nearby_amenities, valid_amenities"
   ]
  },
  {
   "cell_type": "code",
   "execution_count": 2,
   "metadata": {},
   "outputs": [
    {
     "data": {
      "text/html": [
       "<div>\n",
       "<style scoped>\n",
       "    .dataframe tbody tr th:only-of-type {\n",
       "        vertical-align: middle;\n",
       "    }\n",
       "\n",
       "    .dataframe tbody tr th {\n",
       "        vertical-align: top;\n",
       "    }\n",
       "\n",
       "    .dataframe thead th {\n",
       "        text-align: right;\n",
       "    }\n",
       "</style>\n",
       "<table border=\"1\" class=\"dataframe\">\n",
       "  <thead>\n",
       "    <tr style=\"text-align: right;\">\n",
       "      <th></th>\n",
       "      <th>id</th>\n",
       "      <th>name</th>\n",
       "      <th>url</th>\n",
       "      <th>price</th>\n",
       "      <th>num_bedroom</th>\n",
       "      <th>num_bathroom</th>\n",
       "      <th>cost_psf</th>\n",
       "      <th>address</th>\n",
       "      <th>road_name</th>\n",
       "      <th>building</th>\n",
       "      <th>...</th>\n",
       "      <th>latitude</th>\n",
       "      <th>longitude</th>\n",
       "      <th>floor_area</th>\n",
       "      <th>land_area</th>\n",
       "      <th>walk_destination</th>\n",
       "      <th>walk_distance_m</th>\n",
       "      <th>walk_time_mins</th>\n",
       "      <th>lease_duration</th>\n",
       "      <th>completion</th>\n",
       "      <th>type</th>\n",
       "    </tr>\n",
       "  </thead>\n",
       "  <tbody>\n",
       "    <tr>\n",
       "      <th>0</th>\n",
       "      <td>24243973</td>\n",
       "      <td>Affinity At Serangoon</td>\n",
       "      <td>https://www.propertyguru.com.sg/listing/for-sa...</td>\n",
       "      <td>820000</td>\n",
       "      <td>1.0</td>\n",
       "      <td>1.0</td>\n",
       "      <td>1729.96</td>\n",
       "      <td>32 SERANGOON NORTH AVENUE 1 AFFINITY AT SERANG...</td>\n",
       "      <td>SERANGOON NORTH AVENUE 1</td>\n",
       "      <td>AFFINITY AT SERANGOON</td>\n",
       "      <td>...</td>\n",
       "      <td>1.365970</td>\n",
       "      <td>103.874442</td>\n",
       "      <td>474</td>\n",
       "      <td>NaN</td>\n",
       "      <td>CR9 Serangoon North MRT</td>\n",
       "      <td>590.0</td>\n",
       "      <td>8.0</td>\n",
       "      <td>99</td>\n",
       "      <td>NaN</td>\n",
       "      <td>Condominium</td>\n",
       "    </tr>\n",
       "    <tr>\n",
       "      <th>1</th>\n",
       "      <td>24685653</td>\n",
       "      <td>Parc Komo</td>\n",
       "      <td>https://www.propertyguru.com.sg/listing/for-sa...</td>\n",
       "      <td>1499999</td>\n",
       "      <td>2.0</td>\n",
       "      <td>2.0</td>\n",
       "      <td>2080.44</td>\n",
       "      <td>961 UPPER CHANGI ROAD NORTH PARC KOMO SINGAPOR...</td>\n",
       "      <td>UPPER CHANGI ROAD NORTH</td>\n",
       "      <td>PARC KOMO</td>\n",
       "      <td>...</td>\n",
       "      <td>1.360923</td>\n",
       "      <td>103.969804</td>\n",
       "      <td>721</td>\n",
       "      <td>NaN</td>\n",
       "      <td>NaN</td>\n",
       "      <td>NaN</td>\n",
       "      <td>NaN</td>\n",
       "      <td>Freehold</td>\n",
       "      <td>NaN</td>\n",
       "      <td>Condominium</td>\n",
       "    </tr>\n",
       "    <tr>\n",
       "      <th>2</th>\n",
       "      <td>24567031</td>\n",
       "      <td>Sentosa Cove</td>\n",
       "      <td>https://www.propertyguru.com.sg/listing/for-sa...</td>\n",
       "      <td>36800000</td>\n",
       "      <td>7.0</td>\n",
       "      <td>6.0</td>\n",
       "      <td>3808.74</td>\n",
       "      <td>OCEAN DRIVE</td>\n",
       "      <td>OCEAN DRIVE</td>\n",
       "      <td>NaN</td>\n",
       "      <td>...</td>\n",
       "      <td>1.249586</td>\n",
       "      <td>103.841621</td>\n",
       "      <td>11200</td>\n",
       "      <td>9662.0</td>\n",
       "      <td>NaN</td>\n",
       "      <td>NaN</td>\n",
       "      <td>NaN</td>\n",
       "      <td>99</td>\n",
       "      <td>2011.0</td>\n",
       "      <td>Detached House</td>\n",
       "    </tr>\n",
       "    <tr>\n",
       "      <th>3</th>\n",
       "      <td>24567141</td>\n",
       "      <td>Sentosa Cove</td>\n",
       "      <td>https://www.propertyguru.com.sg/listing/for-sa...</td>\n",
       "      <td>27500000</td>\n",
       "      <td>7.0</td>\n",
       "      <td>6.0</td>\n",
       "      <td>3709.70</td>\n",
       "      <td>COVE WAY</td>\n",
       "      <td>COVE WAY</td>\n",
       "      <td>NaN</td>\n",
       "      <td>...</td>\n",
       "      <td>1.241634</td>\n",
       "      <td>103.839074</td>\n",
       "      <td>9480</td>\n",
       "      <td>7413.0</td>\n",
       "      <td>NaN</td>\n",
       "      <td>NaN</td>\n",
       "      <td>NaN</td>\n",
       "      <td>99</td>\n",
       "      <td>2011.0</td>\n",
       "      <td>Bungalow House</td>\n",
       "    </tr>\n",
       "    <tr>\n",
       "      <th>4</th>\n",
       "      <td>24705902</td>\n",
       "      <td>The Landmark</td>\n",
       "      <td>https://www.propertyguru.com.sg/listing/for-sa...</td>\n",
       "      <td>2954507</td>\n",
       "      <td>4.0</td>\n",
       "      <td>3.0</td>\n",
       "      <td>2589.40</td>\n",
       "      <td>173 CHIN SWEE ROAD THE LANDMARK SINGAPORE 169878</td>\n",
       "      <td>CHIN SWEE ROAD</td>\n",
       "      <td>THE LANDMARK</td>\n",
       "      <td>...</td>\n",
       "      <td>1.286163</td>\n",
       "      <td>103.839554</td>\n",
       "      <td>1141</td>\n",
       "      <td>NaN</td>\n",
       "      <td>NE4 Chinatown MRT</td>\n",
       "      <td>500.0</td>\n",
       "      <td>7.0</td>\n",
       "      <td>99</td>\n",
       "      <td>NaN</td>\n",
       "      <td>Condominium</td>\n",
       "    </tr>\n",
       "  </tbody>\n",
       "</table>\n",
       "<p>5 rows × 21 columns</p>\n",
       "</div>"
      ],
      "text/plain": [
       "         id                   name  \\\n",
       "0  24243973  Affinity At Serangoon   \n",
       "1  24685653              Parc Komo   \n",
       "2  24567031           Sentosa Cove   \n",
       "3  24567141           Sentosa Cove   \n",
       "4  24705902           The Landmark   \n",
       "\n",
       "                                                 url     price  num_bedroom  \\\n",
       "0  https://www.propertyguru.com.sg/listing/for-sa...    820000          1.0   \n",
       "1  https://www.propertyguru.com.sg/listing/for-sa...   1499999          2.0   \n",
       "2  https://www.propertyguru.com.sg/listing/for-sa...  36800000          7.0   \n",
       "3  https://www.propertyguru.com.sg/listing/for-sa...  27500000          7.0   \n",
       "4  https://www.propertyguru.com.sg/listing/for-sa...   2954507          4.0   \n",
       "\n",
       "   num_bathroom  cost_psf                                            address  \\\n",
       "0           1.0   1729.96  32 SERANGOON NORTH AVENUE 1 AFFINITY AT SERANG...   \n",
       "1           2.0   2080.44  961 UPPER CHANGI ROAD NORTH PARC KOMO SINGAPOR...   \n",
       "2           6.0   3808.74                                        OCEAN DRIVE   \n",
       "3           6.0   3709.70                                           COVE WAY   \n",
       "4           3.0   2589.40   173 CHIN SWEE ROAD THE LANDMARK SINGAPORE 169878   \n",
       "\n",
       "                  road_name               building  ...  latitude   longitude  \\\n",
       "0  SERANGOON NORTH AVENUE 1  AFFINITY AT SERANGOON  ...  1.365970  103.874442   \n",
       "1   UPPER CHANGI ROAD NORTH              PARC KOMO  ...  1.360923  103.969804   \n",
       "2               OCEAN DRIVE                    NaN  ...  1.249586  103.841621   \n",
       "3                  COVE WAY                    NaN  ...  1.241634  103.839074   \n",
       "4            CHIN SWEE ROAD           THE LANDMARK  ...  1.286163  103.839554   \n",
       "\n",
       "   floor_area  land_area         walk_destination walk_distance_m  \\\n",
       "0         474        NaN  CR9 Serangoon North MRT           590.0   \n",
       "1         721        NaN                      NaN             NaN   \n",
       "2       11200     9662.0                      NaN             NaN   \n",
       "3        9480     7413.0                      NaN             NaN   \n",
       "4        1141        NaN        NE4 Chinatown MRT           500.0   \n",
       "\n",
       "   walk_time_mins  lease_duration completion            type  \n",
       "0             8.0              99        NaN     Condominium  \n",
       "1             NaN        Freehold        NaN     Condominium  \n",
       "2             NaN              99     2011.0  Detached House  \n",
       "3             NaN              99     2011.0  Bungalow House  \n",
       "4             7.0              99        NaN     Condominium  \n",
       "\n",
       "[5 rows x 21 columns]"
      ]
     },
     "execution_count": 2,
     "metadata": {},
     "output_type": "execute_result"
    }
   ],
   "source": [
    "listings = pd.read_csv('./data/processed/20231116/processed.csv')\n",
    "listings.head()"
   ]
  },
  {
   "cell_type": "code",
   "execution_count": 5,
   "metadata": {},
   "outputs": [
    {
     "name": "stdout",
     "output_type": "stream",
     "text": [
      "disability_service\n"
     ]
    },
    {
     "name": "stderr",
     "output_type": "stream",
     "text": [
      "48729it [00:09, 5116.62it/s]\n"
     ]
    },
    {
     "name": "stdout",
     "output_type": "stream",
     "text": [
      "sport_facility\n"
     ]
    },
    {
     "name": "stderr",
     "output_type": "stream",
     "text": [
      "48729it [00:03, 14122.29it/s]\n"
     ]
    },
    {
     "name": "stdout",
     "output_type": "stream",
     "text": [
      "hawker\n"
     ]
    },
    {
     "name": "stderr",
     "output_type": "stream",
     "text": [
      "48729it [00:04, 10874.68it/s]\n"
     ]
    },
    {
     "name": "stdout",
     "output_type": "stream",
     "text": [
      "childcare\n"
     ]
    },
    {
     "name": "stderr",
     "output_type": "stream",
     "text": [
      "48729it [01:33, 523.54it/s]\n"
     ]
    },
    {
     "name": "stdout",
     "output_type": "stream",
     "text": [
      "cycling_path\n"
     ]
    },
    {
     "name": "stderr",
     "output_type": "stream",
     "text": [
      "48729it [2:13:58,  6.06it/s]\n"
     ]
    },
    {
     "name": "stdout",
     "output_type": "stream",
     "text": [
      "college\n"
     ]
    },
    {
     "name": "stderr",
     "output_type": "stream",
     "text": [
      "48729it [00:02, 23337.18it/s]\n"
     ]
    },
    {
     "name": "stdout",
     "output_type": "stream",
     "text": [
      "secondary_school\n"
     ]
    },
    {
     "name": "stderr",
     "output_type": "stream",
     "text": [
      "48729it [00:08, 5934.73it/s]\n"
     ]
    },
    {
     "name": "stdout",
     "output_type": "stream",
     "text": [
      "mall\n"
     ]
    },
    {
     "name": "stderr",
     "output_type": "stream",
     "text": [
      "48729it [00:04, 10782.98it/s]\n"
     ]
    },
    {
     "name": "stdout",
     "output_type": "stream",
     "text": [
      "kindergarten\n"
     ]
    },
    {
     "name": "stderr",
     "output_type": "stream",
     "text": [
      "48729it [00:23, 2079.37it/s]\n"
     ]
    },
    {
     "name": "stdout",
     "output_type": "stream",
     "text": [
      "eldercare\n"
     ]
    },
    {
     "name": "stderr",
     "output_type": "stream",
     "text": [
      "48729it [00:08, 5856.99it/s]\n"
     ]
    },
    {
     "name": "stdout",
     "output_type": "stream",
     "text": [
      "preschool\n"
     ]
    },
    {
     "name": "stderr",
     "output_type": "stream",
     "text": [
      "48729it [02:09, 375.88it/s]\n"
     ]
    },
    {
     "name": "stdout",
     "output_type": "stream",
     "text": [
      "npark\n"
     ]
    },
    {
     "name": "stderr",
     "output_type": "stream",
     "text": [
      "48729it [00:22, 2152.77it/s]\n"
     ]
    },
    {
     "name": "stdout",
     "output_type": "stream",
     "text": [
      "primary_school\n"
     ]
    },
    {
     "name": "stderr",
     "output_type": "stream",
     "text": [
      "48729it [00:09, 5282.80it/s]\n"
     ]
    }
   ],
   "source": [
    "amenities = {\n",
    "    'property_id': [],\n",
    "    'amenity_type': [],\n",
    "    'amenity_name': [],\n",
    "    'latitude': [],\n",
    "    'longitude': [],\n",
    "    'distance_km': [],\n",
    "}\n",
    "\n",
    "for amenity in valid_amenities:\n",
    "    print(amenity)\n",
    "    listings[f'has_{amenity}'] = False\n",
    "    for i, row in tqdm(listings.iterrows()):\n",
    "        if math.isnan(row['latitude']):\n",
    "            continue\n",
    "        \n",
    "        results = search_nearby_amenities(\n",
    "            lat1=row['latitude'],\n",
    "            long1=row['longitude'],\n",
    "            type=amenity,\n",
    "            threshold=3\n",
    "        )\n",
    "\n",
    "        listings.at[i, f'has_{amenity}'] = (len(result)>0)\n",
    "        for result in results:\n",
    "            amenities['property_id'].append(row['id'])\n",
    "            amenities['amenity_type'].append(amenity)\n",
    "            amenities['amenity_name'].append(result['name'])\n",
    "            amenities['latitude'].append(result['lat'])\n",
    "            amenities['longitude'].append(result['long'])\n",
    "            amenities['distance_km'].append(result['distance_km'])"
   ]
  },
  {
   "cell_type": "code",
   "execution_count": 8,
   "metadata": {},
   "outputs": [
    {
     "name": "stdout",
     "output_type": "stream",
     "text": [
      "<class 'pandas.core.frame.DataFrame'>\n",
      "RangeIndex: 23748654 entries, 0 to 23748653\n",
      "Data columns (total 6 columns):\n",
      " #   Column        Dtype  \n",
      "---  ------        -----  \n",
      " 0   property_id   int64  \n",
      " 1   amenity_type  object \n",
      " 2   amenity_name  object \n",
      " 3   latitude      float64\n",
      " 4   longitude     float64\n",
      " 5   distance_km   object \n",
      "dtypes: float64(2), int64(1), object(3)\n",
      "memory usage: 1.1+ GB\n"
     ]
    }
   ],
   "source": [
    "amenities_df = pd.DataFrame(amenities)\n",
    "amenities_df['latitude'] = amenities_df['latitude'].astype(float)\n",
    "amenities_df['longitude'] = amenities_df['longitude'].astype(float)\n",
    "amenities_df['distance_km'] = amenities_df['distance_km'].astype(float)\n",
    "amenities_df.info()"
   ]
  },
  {
   "cell_type": "code",
   "execution_count": 10,
   "metadata": {},
   "outputs": [],
   "source": [
    "amenities_df.to_csv('./data/processed/20231116/property_amenities.csv', index=False)"
   ]
  },
  {
   "cell_type": "code",
   "execution_count": 11,
   "metadata": {},
   "outputs": [
    {
     "name": "stdout",
     "output_type": "stream",
     "text": [
      "<class 'pandas.core.frame.DataFrame'>\n",
      "RangeIndex: 48729 entries, 0 to 48728\n",
      "Data columns (total 34 columns):\n",
      " #   Column                  Non-Null Count  Dtype  \n",
      "---  ------                  --------------  -----  \n",
      " 0   id                      48729 non-null  int64  \n",
      " 1   name                    48729 non-null  object \n",
      " 2   url                     48729 non-null  object \n",
      " 3   price                   48729 non-null  object \n",
      " 4   num_bedroom             48304 non-null  float64\n",
      " 5   num_bathroom            48001 non-null  float64\n",
      " 6   cost_psf                47955 non-null  float64\n",
      " 7   address                 37597 non-null  object \n",
      " 8   road_name               37547 non-null  object \n",
      " 9   building                30414 non-null  object \n",
      " 10  postal_code             33697 non-null  float64\n",
      " 11  latitude                37597 non-null  float64\n",
      " 12  longitude               37597 non-null  float64\n",
      " 13  floor_area              48729 non-null  int64  \n",
      " 14  land_area               9166 non-null   float64\n",
      " 15  walk_destination        40209 non-null  object \n",
      " 16  walk_distance_m         40209 non-null  float64\n",
      " 17  walk_time_mins          40209 non-null  float64\n",
      " 18  lease_duration          47589 non-null  object \n",
      " 19  completion              31349 non-null  float64\n",
      " 20  type                    48729 non-null  object \n",
      " 21  has_disability_service  48729 non-null  bool   \n",
      " 22  has_sport_facility      48729 non-null  bool   \n",
      " 23  has_hawker              48729 non-null  bool   \n",
      " 24  has_childcare           48729 non-null  bool   \n",
      " 25  has_cycling_path        48729 non-null  bool   \n",
      " 26  has_college             48729 non-null  bool   \n",
      " 27  has_secondary_school    48729 non-null  bool   \n",
      " 28  has_mall                48729 non-null  bool   \n",
      " 29  has_kindergarten        48729 non-null  bool   \n",
      " 30  has_eldercare           48729 non-null  bool   \n",
      " 31  has_preschool           48729 non-null  bool   \n",
      " 32  has_npark               48729 non-null  bool   \n",
      " 33  has_primary_school      48729 non-null  bool   \n",
      "dtypes: bool(13), float64(10), int64(2), object(9)\n",
      "memory usage: 8.4+ MB\n"
     ]
    }
   ],
   "source": [
    "listings.info()"
   ]
  },
  {
   "cell_type": "code",
   "execution_count": 12,
   "metadata": {},
   "outputs": [],
   "source": [
    "listings.to_csv('./data/processed/20231116/processed.csv', index=False)"
   ]
  },
  {
   "cell_type": "code",
   "execution_count": 15,
   "metadata": {},
   "outputs": [
    {
     "data": {
      "text/plain": [
       "45939.3442883239"
      ]
     },
     "execution_count": 15,
     "metadata": {},
     "output_type": "execute_result"
    }
   ],
   "source": [
    "import pyproj\n",
    "\n",
    "geodesic = pyproj.Geod(ellps='WGS84')\n",
    "fwd_azimuth,back_azimuth,distance = geodesic.inv(\n",
    "    lats1=1.2781251110441687, \n",
    "    lons1=103.621789825727, \n",
    "    lats2=1.3562087840892174,\n",
    "    lons2=104.0272222394134,\n",
    ")\n",
    "distance"
   ]
  },
  {
   "cell_type": "code",
   "execution_count": null,
   "metadata": {},
   "outputs": [],
   "source": []
  }
 ],
 "metadata": {
  "kernelspec": {
   "display_name": "housing_proj",
   "language": "python",
   "name": "python3"
  },
  "language_info": {
   "codemirror_mode": {
    "name": "ipython",
    "version": 3
   },
   "file_extension": ".py",
   "mimetype": "text/x-python",
   "name": "python",
   "nbconvert_exporter": "python",
   "pygments_lexer": "ipython3",
   "version": "3.11.5"
  }
 },
 "nbformat": 4,
 "nbformat_minor": 2
}
