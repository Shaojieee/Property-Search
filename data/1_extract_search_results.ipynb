{
 "cells": [
  {
   "cell_type": "code",
   "execution_count": 1,
   "metadata": {},
   "outputs": [],
   "source": [
    "import os\n",
    "from bs4 import BeautifulSoup\n",
    "import json\n",
    "from tqdm import tqdm\n",
    "import pandas as pd\n",
    "import re"
   ]
  },
  {
   "cell_type": "code",
   "execution_count": 3,
   "metadata": {},
   "outputs": [
    {
     "name": "stderr",
     "output_type": "stream",
     "text": [
      "  3%|▎         | 78/2496 [00:10<05:11,  7.76it/s]"
     ]
    },
    {
     "name": "stdout",
     "output_type": "stream",
     "text": [
      "2430_listings.html\n"
     ]
    },
    {
     "name": "stderr",
     "output_type": "stream",
     "text": [
      "\n"
     ]
    }
   ],
   "source": [
    "files = [x for x in os.listdir('./data/raw/20231116/search_results') if x!='.DS_Store']\n",
    "store = {}\n",
    "dups = set()\n",
    "for file in tqdm(files):\n",
    "    try:\n",
    "        with open(f'./data/raw/20231116/search_results/{file}', 'r') as f:\n",
    "            page = BeautifulSoup(f, 'html.parser')\n",
    "    except:\n",
    "        print(file)\n",
    "        break\n",
    "    listings = page.find_all(name='div', attrs={'class': 'listing-card'})\n",
    "    for listing in listings:\n",
    "        info = {\n",
    "            'name': None, \n",
    "            'url': None, \n",
    "            'street_address': None, \n",
    "            'price': None, \n",
    "            'num_bedroom': None, \n",
    "            'num_bathroom': None, \n",
    "            'cost_psf': None, \n",
    "            'total_area': None,\n",
    "            'walk': None,\n",
    "            'tags': None,\n",
    "            'recency': None,\n",
    "        }\n",
    "        property_guru_id = listing.get('data-listing-id')\n",
    "\n",
    "        listing = listing.find(name='div', attrs={'class':'listing-description'})\n",
    "\n",
    "        info['name'] = listing.find(name='a', attrs={'itemprop':'url'}).text\n",
    "        info['url'] = listing.find(name='a', attrs={'itemprop':'url'}).get('href')\n",
    "\n",
    "        info['street_address'] = listing.find(name='span', attrs={'itemprop':'streetAddress'}).text\n",
    "\n",
    "        info['price'] = listing.find(name='li', attrs={'data-automation-id': 'listing-card-price-txt'}).text\n",
    "\n",
    "        other_details = listing.find(name='ul', attrs={'data-automation-id': 'listing-card-other-details-txt'})\n",
    "\n",
    "        num_bedroom = other_details.find(name='span', attrs={'class':'bed'})\n",
    "        if num_bedroom:\n",
    "            info['num_bedroom'] = num_bedroom.text\n",
    "        \n",
    "        num_bathroom = other_details.find(name='span', attrs={'class':'bath'})\n",
    "        if num_bathroom:\n",
    "            info['num_bathroom'] = num_bathroom.text\n",
    "\n",
    "        floor_details = other_details.find_all(name='li', attrs={'class': 'listing-floorarea'})\n",
    "\n",
    "        for floor in floor_details:\n",
    "            text = floor.text.strip()\n",
    "            if 'psf' in text:\n",
    "                info['cost_psf'] = text\n",
    "            elif 'sqft' in text:\n",
    "                info['total_area'] = text\n",
    "        \n",
    "        walk = listing.find(name='ul', attrs={'data-automation-id':'listing-card-features-walk'})\n",
    "        if walk:\n",
    "            info['walk'] = walk.text\n",
    "\n",
    "        section = listing.find(name='div', attrs={'data-automation-id':'listing-card-tags'})\n",
    "        tags = section.find(name='ul', attrs={'class': 'listing-property-type'})\n",
    "        tags = tags.find_all(name='li')\n",
    "        info['tags'] = [x.text for x in tags]\n",
    "\n",
    "        info['recency'] = section.find(name='div', attrs={'class': 'listing-recency'}).text\n",
    "        \n",
    "\n",
    "        if property_guru_id in store:\n",
    "            if info['url']!=store[property_guru_id]['url']:\n",
    "                dups.add(property_guru_id)\n",
    "        else:\n",
    "            store[property_guru_id] = info"
   ]
  },
  {
   "cell_type": "code",
   "execution_count": 36,
   "metadata": {},
   "outputs": [],
   "source": [
    "with open('./data/processed/20231116/raw_extracted.json', 'w') as f:\n",
    "    json.dump(store, f)"
   ]
  }
 ],
 "metadata": {
  "kernelspec": {
   "display_name": "housing_proj",
   "language": "python",
   "name": "python3"
  },
  "language_info": {
   "codemirror_mode": {
    "name": "ipython",
    "version": 3
   },
   "file_extension": ".py",
   "mimetype": "text/x-python",
   "name": "python",
   "nbconvert_exporter": "python",
   "pygments_lexer": "ipython3",
   "version": "3.11.5"
  }
 },
 "nbformat": 4,
 "nbformat_minor": 2
}
