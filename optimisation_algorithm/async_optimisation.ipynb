{
 "cells": [
  {
   "cell_type": "code",
   "execution_count": 5,
   "metadata": {},
   "outputs": [],
   "source": [
    "import numpy as np\n",
    "import pyproj"
   ]
  },
  {
   "cell_type": "code",
   "execution_count": 14,
   "metadata": {},
   "outputs": [
    {
     "data": {
      "text/plain": [
       "array([[  1.41146201, 103.83320769],\n",
       "       [  1.32102558, 103.83320769],\n",
       "       [  1.3662438 , 103.83320769]])"
      ]
     },
     "execution_count": 14,
     "metadata": {},
     "output_type": "execute_result"
    }
   ],
   "source": [
    "mid_point = [1.3662438032069444, 103.83320768517596]\n",
    "num_points = 2\n",
    "bearing = 0\n",
    "bearings = np.arange(0, 360, 360/num_points)\n",
    "\n",
    "geodesic = pyproj.Geod(ellps='WGS84')\n",
    "\n",
    "grid_points = [mid_point]\n",
    "\n",
    "longs, lats, fwd_az = geodesic.fwd(lons=[mid_point[1]]*num_points, lats=[mid_point[0]]*num_points, az=bearings, dist=[5*1000]*num_points)\n",
    "\n",
    "longs.append(mid_point[1])\n",
    "lats.append(mid_point[0])\n",
    "grid_points = np.vstack((lats,longs)).transpose()\n",
    "\n",
    "\n",
    "grid_points\n",
    "\n",
    " "
   ]
  },
  {
   "cell_type": "code",
   "execution_count": 16,
   "metadata": {},
   "outputs": [
    {
     "data": {
      "text/plain": [
       "array([[1, 2],\n",
       "       [3, 4],\n",
       "       [1, 2],\n",
       "       [3, 4]])"
      ]
     },
     "execution_count": 16,
     "metadata": {},
     "output_type": "execute_result"
    }
   ],
   "source": [
    "array1 = np.array([[1, 2], [3, 4]])\n",
    "array2 = np.array([[5, 6], [7, 8]])\n",
    "result = np.tile(array1, (len(array2), 1))\n",
    "result"
   ]
  },
  {
   "cell_type": "code",
   "execution_count": 17,
   "metadata": {},
   "outputs": [
    {
     "data": {
      "text/plain": [
       "array([[5, 6],\n",
       "       [7, 8],\n",
       "       [5, 6],\n",
       "       [7, 8]])"
      ]
     },
     "execution_count": 17,
     "metadata": {},
     "output_type": "execute_result"
    }
   ],
   "source": [
    "for i in range(len(array2)):\n",
    "   result[i::len(array2)] = array2[i]\n",
    "result"
   ]
  },
  {
   "cell_type": "code",
   "execution_count": 4,
   "metadata": {},
   "outputs": [
    {
     "name": "stdout",
     "output_type": "stream",
     "text": [
      "[[1 2]\n",
      " [1 2]\n",
      " [3 4]\n",
      " [3 4]]\n"
     ]
    }
   ],
   "source": [
    "a = np.array([[1, 2], [3, 4]])\n",
    "\n",
    "# Repeat each row twice\n",
    "result = np.repeat(a, 2, axis=0)\n",
    "\n",
    "print(result)"
   ]
  },
  {
   "cell_type": "code",
   "execution_count": 83,
   "metadata": {},
   "outputs": [],
   "source": [
    "locations = [\n",
    "    {'coor': [1,2], 'freq': 1, 'travel_type': 1},\n",
    "    {'coor': [3,4], 'freq': 2, 'travel_type': 2}\n",
    "]\n",
    "\n",
    "\n",
    "travel_location = np.array([[x['coor'][0], x['coor'][1]] for x in locations])\n",
    "travel_frequency = np.array([[x['freq']]for x in locations])\n",
    "travel_type = np.array([[x['travel_type'] ]for x in locations])\n",
    "\n",
    "search_locations = np.array([\n",
    "    [1,2],\n",
    "    [3,4]\n",
    "])\n",
    "\n",
    "num_search_location = len(search_locations)\n",
    "num_locations = len(locations)\n"
   ]
  },
  {
   "cell_type": "code",
   "execution_count": 84,
   "metadata": {},
   "outputs": [
    {
     "data": {
      "text/plain": [
       "array([[1],\n",
       "       [2]])"
      ]
     },
     "execution_count": 84,
     "metadata": {},
     "output_type": "execute_result"
    }
   ],
   "source": [
    "travel_type"
   ]
  },
  {
   "cell_type": "code",
   "execution_count": 85,
   "metadata": {},
   "outputs": [],
   "source": [
    "travel_location = np.tile(travel_location, (num_search_location,1))\n",
    "travel_frequency = np.tile(travel_frequency, (num_search_location,1))\n",
    "travel_type = np.tile(travel_type, (num_search_location,1))\n",
    "\n",
    "expand_search_array = np.repeat(search_locations, num_locations, axis=0)"
   ]
  },
  {
   "cell_type": "code",
   "execution_count": 86,
   "metadata": {},
   "outputs": [
    {
     "data": {
      "text/plain": [
       "array([[1, 2],\n",
       "       [3, 4],\n",
       "       [1, 2],\n",
       "       [3, 4]])"
      ]
     },
     "execution_count": 86,
     "metadata": {},
     "output_type": "execute_result"
    }
   ],
   "source": [
    "travel_location"
   ]
  },
  {
   "cell_type": "code",
   "execution_count": 87,
   "metadata": {},
   "outputs": [
    {
     "data": {
      "text/plain": [
       "array([[1],\n",
       "       [2],\n",
       "       [1],\n",
       "       [2]])"
      ]
     },
     "execution_count": 87,
     "metadata": {},
     "output_type": "execute_result"
    }
   ],
   "source": [
    "travel_type"
   ]
  },
  {
   "cell_type": "code",
   "execution_count": 88,
   "metadata": {},
   "outputs": [
    {
     "data": {
      "text/plain": [
       "array([[1, 2],\n",
       "       [1, 2],\n",
       "       [3, 4],\n",
       "       [3, 4]])"
      ]
     },
     "execution_count": 88,
     "metadata": {},
     "output_type": "execute_result"
    }
   ],
   "source": [
    "expand_search_array"
   ]
  },
  {
   "cell_type": "code",
   "execution_count": 115,
   "metadata": {},
   "outputs": [
    {
     "data": {
      "text/plain": [
       "array([[2.71828183],\n",
       "       [5.43656366],\n",
       "       [2.71828183],\n",
       "       [5.43656366]])"
      ]
     },
     "execution_count": 115,
     "metadata": {},
     "output_type": "execute_result"
    }
   ],
   "source": [
    "travel_time = np.array([[1],[1],[1],[1]])\n",
    "\n",
    "costs = np.exp(travel_time)*travel_frequency\n",
    "costs"
   ]
  },
  {
   "cell_type": "code",
   "execution_count": 116,
   "metadata": {},
   "outputs": [
    {
     "data": {
      "text/plain": [
       "array([[1, 2],\n",
       "       [1, 2],\n",
       "       [3, 4],\n",
       "       [3, 4]])"
      ]
     },
     "execution_count": 116,
     "metadata": {},
     "output_type": "execute_result"
    }
   ],
   "source": [
    "expand_search_array"
   ]
  },
  {
   "cell_type": "code",
   "execution_count": 126,
   "metadata": {},
   "outputs": [],
   "source": [
    "cost_vectors = np.array([[1,2],[3,4],[5,6],[7,8]])"
   ]
  },
  {
   "cell_type": "code",
   "execution_count": 130,
   "metadata": {},
   "outputs": [
    {
     "data": {
      "text/plain": [
       "array([[ 4,  6],\n",
       "       [12, 14]])"
      ]
     },
     "execution_count": 130,
     "metadata": {},
     "output_type": "execute_result"
    }
   ],
   "source": [
    "\n",
    "result = np.array([np.sum(cost_vectors[np.all(expand_search_array==val, axis=1)],axis=0) for val in search_locations])\n",
    "result\n"
   ]
  },
  {
   "cell_type": "code",
   "execution_count": 122,
   "metadata": {},
   "outputs": [
    {
     "name": "stdout",
     "output_type": "stream",
     "text": [
      "[ True  True False False]\n",
      "[False False  True  True]\n"
     ]
    }
   ],
   "source": [
    "for val in search_locations:\n",
    "    print(np.all(expand_search_array==val, axis=1))"
   ]
  },
  {
   "cell_type": "code",
   "execution_count": 91,
   "metadata": {},
   "outputs": [
    {
     "data": {
      "text/plain": [
       "array([[1, 2],\n",
       "       [3, 4]])"
      ]
     },
     "execution_count": 91,
     "metadata": {},
     "output_type": "execute_result"
    }
   ],
   "source": [
    "search_locations"
   ]
  },
  {
   "cell_type": "code",
   "execution_count": 95,
   "metadata": {},
   "outputs": [
    {
     "data": {
      "text/plain": [
       "array([2, 4])"
      ]
     },
     "execution_count": 95,
     "metadata": {},
     "output_type": "execute_result"
    }
   ],
   "source": [
    "search_locations[:,1]"
   ]
  },
  {
   "cell_type": "code",
   "execution_count": 96,
   "metadata": {},
   "outputs": [],
   "source": [
    "geodesic = pyproj.Geod(ellps='WGS84')\n",
    "fwd_azimuth,back_azimuth,distance = geodesic.inv(\n",
    "    lats1=expand_search_array[:,0], \n",
    "    lons1=expand_search_array[:,1], \n",
    "    lats2=travel_location[:,0], \n",
    "    lons2=travel_location[:,1]\n",
    ")"
   ]
  },
  {
   "cell_type": "code",
   "execution_count": 98,
   "metadata": {},
   "outputs": [
    {
     "data": {
      "text/plain": [
       "array([[ 180.        ],\n",
       "       [  45.14416881],\n",
       "       [-134.78601439],\n",
       "       [ 180.        ]])"
      ]
     },
     "execution_count": 98,
     "metadata": {},
     "output_type": "execute_result"
    }
   ],
   "source": [
    "fwd_azimuth.reshape(4,1)"
   ]
  },
  {
   "cell_type": "code",
   "execution_count": 105,
   "metadata": {},
   "outputs": [
    {
     "data": {
      "text/plain": [
       "array([[1, 2],\n",
       "       [3, 4]])"
      ]
     },
     "execution_count": 105,
     "metadata": {},
     "output_type": "execute_result"
    }
   ],
   "source": [
    "unqiue = np.unique(expand_search_array, axis=0)"
   ]
  },
  {
   "cell_type": "code",
   "execution_count": 106,
   "metadata": {},
   "outputs": [
    {
     "data": {
      "text/plain": [
       "array([[1, 2],\n",
       "       [1, 2],\n",
       "       [3, 4],\n",
       "       [3, 4]])"
      ]
     },
     "execution_count": 106,
     "metadata": {},
     "output_type": "execute_result"
    }
   ],
   "source": [
    "expand_search_array"
   ]
  },
  {
   "cell_type": "code",
   "execution_count": 109,
   "metadata": {},
   "outputs": [
    {
     "data": {
      "text/plain": [
       "[[array([[ True,  True],\n",
       "         [ True,  True],\n",
       "         [False, False],\n",
       "         [False, False]])],\n",
       " [array([[False, False],\n",
       "         [False, False],\n",
       "         [ True,  True],\n",
       "         [ True,  True]])]]"
      ]
     },
     "execution_count": 109,
     "metadata": {},
     "output_type": "execute_result"
    }
   ],
   "source": [
    "[[expand_search_array == val] for val in search_locations]"
   ]
  },
  {
   "cell_type": "code",
   "execution_count": 140,
   "metadata": {},
   "outputs": [
    {
     "name": "stdout",
     "output_type": "stream",
     "text": [
      "[[116.56505118]\n",
      " [ 53.13010235]]\n"
     ]
    }
   ],
   "source": [
    "a = np.array([[1,2],[-3,4]])\n",
    "\n",
    "# Calculate the bearing for each element in the array\n",
    "bearings = np.degrees(np.arctan2(a[:,0], a[:,1])).reshape(-1,1)+90\n",
    "\n",
    "print(bearings)"
   ]
  },
  {
   "cell_type": "code",
   "execution_count": 132,
   "metadata": {},
   "outputs": [
    {
     "data": {
      "text/plain": [
       "array([[2.71828183],\n",
       "       [5.43656366],\n",
       "       [2.71828183],\n",
       "       [5.43656366]])"
      ]
     },
     "execution_count": 132,
     "metadata": {},
     "output_type": "execute_result"
    }
   ],
   "source": [
    "costs"
   ]
  },
  {
   "cell_type": "code",
   "execution_count": 133,
   "metadata": {},
   "outputs": [],
   "source": [
    "azimuth = np.array([[-1],[-1],[1],[1]])"
   ]
  },
  {
   "cell_type": "code",
   "execution_count": 135,
   "metadata": {},
   "outputs": [
    {
     "data": {
      "text/plain": [
       "array([[ 2.71828183, -2.71828183],\n",
       "       [ 5.43656366, -5.43656366],\n",
       "       [-2.71828183,  2.71828183],\n",
       "       [-5.43656366,  5.43656366]])"
      ]
     },
     "execution_count": 135,
     "metadata": {},
     "output_type": "execute_result"
    }
   ],
   "source": [
    "v_cost_vectors =  costs * -1*azimuth\n",
    "h_cost_vectors = costs * azimuth\n",
    "cost_vectors = np.hstack([v_cost_vectors, h_cost_vectors])\n",
    "cost_vectors"
   ]
  },
  {
   "cell_type": "code",
   "execution_count": 141,
   "metadata": {},
   "outputs": [
    {
     "data": {
      "text/plain": [
       "(103.78717321670398, 1.3614189134670607, 89.99893254652814)"
      ]
     },
     "execution_count": 141,
     "metadata": {},
     "output_type": "execute_result"
    }
   ],
   "source": [
    "geodesic.fwd(lats=1.36141933468784, lons=103.83210157865061, az=-90, dist=5*1000)"
   ]
  },
  {
   "cell_type": "code",
   "execution_count": 142,
   "metadata": {},
   "outputs": [
    {
     "ename": "ModuleNotFoundError",
     "evalue": "No module named 'onemap_client'",
     "output_type": "error",
     "traceback": [
      "\u001b[0;31m---------------------------------------------------------------------------\u001b[0m",
      "\u001b[0;31mModuleNotFoundError\u001b[0m                       Traceback (most recent call last)",
      "\u001b[1;32m/Users/shaojieee/Desktop/data_products/project/CZ4125---Data-Product/optimisation_algorithm/async_optimisation.ipynb Cell 29\u001b[0m line \u001b[0;36m1\n\u001b[0;32m----> <a href='vscode-notebook-cell:/Users/shaojieee/Desktop/data_products/project/CZ4125---Data-Product/optimisation_algorithm/async_optimisation.ipynb#X43sZmlsZQ%3D%3D?line=0'>1</a>\u001b[0m \u001b[39mfrom\u001b[39;00m \u001b[39monemap_client\u001b[39;00m \u001b[39mimport\u001b[39;00m OneMapClient\n\u001b[1;32m      <a href='vscode-notebook-cell:/Users/shaojieee/Desktop/data_products/project/CZ4125---Data-Product/optimisation_algorithm/async_optimisation.ipynb#X43sZmlsZQ%3D%3D?line=2'>3</a>\u001b[0m \u001b[39mfrom\u001b[39;00m \u001b[39mdotenv\u001b[39;00m \u001b[39mimport\u001b[39;00m load_dotenv\n\u001b[1;32m      <a href='vscode-notebook-cell:/Users/shaojieee/Desktop/data_products/project/CZ4125---Data-Product/optimisation_algorithm/async_optimisation.ipynb#X43sZmlsZQ%3D%3D?line=3'>4</a>\u001b[0m load_dotenv()\n",
      "\u001b[0;31mModuleNotFoundError\u001b[0m: No module named 'onemap_client'"
     ]
    }
   ],
   "source": [
    "from onemap_client import OneMapClient\n",
    "\n",
    "from dotenv import load_dotenv\n",
    "load_dotenv()\n",
    "\n",
    "email = os.environ['ONE_MAP_API_EMAIL']\n",
    "password = os.environ['ONE_MAP_API_PASSWORD']\n",
    "\n",
    "Client = OneMapClient(email, password)\n",
    "token = Client.get_token(email, password)\n",
    "print(token)"
   ]
  },
  {
   "cell_type": "code",
   "execution_count": 144,
   "metadata": {},
   "outputs": [],
   "source": [
    "resultant_cost_vectors = np.array([[-1.19523865,0.66428467]])"
   ]
  },
  {
   "cell_type": "code",
   "execution_count": 145,
   "metadata": {},
   "outputs": [
    {
     "data": {
      "text/plain": [
       "array([[29.06424436]])"
      ]
     },
     "execution_count": 145,
     "metadata": {},
     "output_type": "execute_result"
    }
   ],
   "source": [
    "np.degrees(np.arctan2(resultant_cost_vectors[:,0], resultant_cost_vectors[:,1])).reshape(-1,1)+90"
   ]
  },
  {
   "cell_type": "code",
   "execution_count": 151,
   "metadata": {},
   "outputs": [
    {
     "data": {
      "text/plain": [
       "array([[-60.93575564]])"
      ]
     },
     "execution_count": 151,
     "metadata": {},
     "output_type": "execute_result"
    }
   ],
   "source": [
    "np.degrees(np.arctan2(resultant_cost_vectors[:,0], resultant_cost_vectors[:,1])).reshape(-1,1)+90"
   ]
  },
  {
   "cell_type": "code",
   "execution_count": 160,
   "metadata": {},
   "outputs": [],
   "source": [
    "v = -1.19523865\n",
    "h = -0.66428467"
   ]
  },
  {
   "cell_type": "code",
   "execution_count": 161,
   "metadata": {},
   "outputs": [
    {
     "data": {
      "text/plain": [
       "-150.93575564031786"
      ]
     },
     "execution_count": 161,
     "metadata": {},
     "output_type": "execute_result"
    }
   ],
   "source": [
    "np.degrees(np.arctan2(h, v))"
   ]
  },
  {
   "cell_type": "code",
   "execution_count": 162,
   "metadata": {},
   "outputs": [],
   "source": [
    "import folium"
   ]
  },
  {
   "cell_type": "code",
   "execution_count": 202,
   "metadata": {},
   "outputs": [
    {
     "data": {
      "text/html": [
       "<div style=\"width:100%;\"><div style=\"position:relative;width:100%;height:0;padding-bottom:60%;\"><span style=\"color:#565656\">Make this Notebook Trusted to load map: File -> Trust Notebook</span><iframe srcdoc=\"&lt;!DOCTYPE html&gt;\n",
       "&lt;html&gt;\n",
       "&lt;head&gt;\n",
       "    \n",
       "    &lt;meta http-equiv=&quot;content-type&quot; content=&quot;text/html; charset=UTF-8&quot; /&gt;\n",
       "    \n",
       "        &lt;script&gt;\n",
       "            L_NO_TOUCH = false;\n",
       "            L_DISABLE_3D = false;\n",
       "        &lt;/script&gt;\n",
       "    \n",
       "    &lt;style&gt;html, body {width: 100%;height: 100%;margin: 0;padding: 0;}&lt;/style&gt;\n",
       "    &lt;style&gt;#map {position:absolute;top:0;bottom:0;right:0;left:0;}&lt;/style&gt;\n",
       "    &lt;script src=&quot;https://cdn.jsdelivr.net/npm/leaflet@1.9.3/dist/leaflet.js&quot;&gt;&lt;/script&gt;\n",
       "    &lt;script src=&quot;https://code.jquery.com/jquery-1.12.4.min.js&quot;&gt;&lt;/script&gt;\n",
       "    &lt;script src=&quot;https://cdn.jsdelivr.net/npm/bootstrap@5.2.2/dist/js/bootstrap.bundle.min.js&quot;&gt;&lt;/script&gt;\n",
       "    &lt;script src=&quot;https://cdnjs.cloudflare.com/ajax/libs/Leaflet.awesome-markers/2.0.2/leaflet.awesome-markers.js&quot;&gt;&lt;/script&gt;\n",
       "    &lt;link rel=&quot;stylesheet&quot; href=&quot;https://cdn.jsdelivr.net/npm/leaflet@1.9.3/dist/leaflet.css&quot;/&gt;\n",
       "    &lt;link rel=&quot;stylesheet&quot; href=&quot;https://cdn.jsdelivr.net/npm/bootstrap@5.2.2/dist/css/bootstrap.min.css&quot;/&gt;\n",
       "    &lt;link rel=&quot;stylesheet&quot; href=&quot;https://netdna.bootstrapcdn.com/bootstrap/3.0.0/css/bootstrap.min.css&quot;/&gt;\n",
       "    &lt;link rel=&quot;stylesheet&quot; href=&quot;https://cdn.jsdelivr.net/npm/@fortawesome/fontawesome-free@6.2.0/css/all.min.css&quot;/&gt;\n",
       "    &lt;link rel=&quot;stylesheet&quot; href=&quot;https://cdnjs.cloudflare.com/ajax/libs/Leaflet.awesome-markers/2.0.2/leaflet.awesome-markers.css&quot;/&gt;\n",
       "    &lt;link rel=&quot;stylesheet&quot; href=&quot;https://cdn.jsdelivr.net/gh/python-visualization/folium/folium/templates/leaflet.awesome.rotate.min.css&quot;/&gt;\n",
       "    \n",
       "            &lt;meta name=&quot;viewport&quot; content=&quot;width=device-width,\n",
       "                initial-scale=1.0, maximum-scale=1.0, user-scalable=no&quot; /&gt;\n",
       "            &lt;style&gt;\n",
       "                #map_dab9d5b03ed0a35d9f3e3c412803b83e {\n",
       "                    position: relative;\n",
       "                    width: 100.0%;\n",
       "                    height: 100.0%;\n",
       "                    left: 0.0%;\n",
       "                    top: 0.0%;\n",
       "                }\n",
       "                .leaflet-container { font-size: 1rem; }\n",
       "            &lt;/style&gt;\n",
       "        \n",
       "&lt;/head&gt;\n",
       "&lt;body&gt;\n",
       "    \n",
       "    \n",
       "            &lt;div class=&quot;folium-map&quot; id=&quot;map_dab9d5b03ed0a35d9f3e3c412803b83e&quot; &gt;&lt;/div&gt;\n",
       "        \n",
       "&lt;/body&gt;\n",
       "&lt;script&gt;\n",
       "    \n",
       "    \n",
       "            var map_dab9d5b03ed0a35d9f3e3c412803b83e = L.map(\n",
       "                &quot;map_dab9d5b03ed0a35d9f3e3c412803b83e&quot;,\n",
       "                {\n",
       "                    center: [1.3674754117016408, 103.81093951150724],\n",
       "                    crs: L.CRS.EPSG3857,\n",
       "                    zoom: 11,\n",
       "                    zoomControl: true,\n",
       "                    preferCanvas: false,\n",
       "                }\n",
       "            );\n",
       "\n",
       "            \n",
       "\n",
       "        \n",
       "    \n",
       "            var tile_layer_45b4975be8f3d72ad17c2d2dbe9dcc33 = L.tileLayer(\n",
       "                &quot;https://{s}.tile.openstreetmap.org/{z}/{x}/{y}.png&quot;,\n",
       "                {&quot;attribution&quot;: &quot;Data by \\u0026copy; \\u003ca target=\\&quot;_blank\\&quot; href=\\&quot;http://openstreetmap.org\\&quot;\\u003eOpenStreetMap\\u003c/a\\u003e, under \\u003ca target=\\&quot;_blank\\&quot; href=\\&quot;http://www.openstreetmap.org/copyright\\&quot;\\u003eODbL\\u003c/a\\u003e.&quot;, &quot;detectRetina&quot;: false, &quot;maxNativeZoom&quot;: 18, &quot;maxZoom&quot;: 18, &quot;minZoom&quot;: 11, &quot;noWrap&quot;: false, &quot;opacity&quot;: 1, &quot;subdomains&quot;: &quot;abc&quot;, &quot;tms&quot;: false}\n",
       "            ).addTo(map_dab9d5b03ed0a35d9f3e3c412803b83e);\n",
       "        \n",
       "    \n",
       "            var marker_b7e12e77930f99c04214322ac318145d = L.marker(\n",
       "                [1.3193790935628127, 103.82903068459888],\n",
       "                {}\n",
       "            ).addTo(map_dab9d5b03ed0a35d9f3e3c412803b83e);\n",
       "        \n",
       "    \n",
       "            marker_b7e12e77930f99c04214322ac318145d.bindTooltip(\n",
       "                `&lt;div&gt;\n",
       "                     0\n",
       "                 &lt;/div&gt;`,\n",
       "                {&quot;sticky&quot;: true}\n",
       "            );\n",
       "        \n",
       "    \n",
       "            var marker_59214c96fedc67d5f152c8446cacf0f2 = L.marker(\n",
       "                [1.356772075222052, 103.79696381492978],\n",
       "                {}\n",
       "            ).addTo(map_dab9d5b03ed0a35d9f3e3c412803b83e);\n",
       "        \n",
       "    \n",
       "            marker_59214c96fedc67d5f152c8446cacf0f2.bindTooltip(\n",
       "                `&lt;div&gt;\n",
       "                     1\n",
       "                 &lt;/div&gt;`,\n",
       "                {&quot;sticky&quot;: true}\n",
       "            );\n",
       "        \n",
       "    \n",
       "            var marker_a7043424775b4faa77e08843252b832f = L.marker(\n",
       "                [1.3577535204191273, 103.8689502597439],\n",
       "                {}\n",
       "            ).addTo(map_dab9d5b03ed0a35d9f3e3c412803b83e);\n",
       "        \n",
       "    \n",
       "            marker_a7043424775b4faa77e08843252b832f.bindTooltip(\n",
       "                `&lt;div&gt;\n",
       "                     2\n",
       "                 &lt;/div&gt;`,\n",
       "                {&quot;sticky&quot;: true}\n",
       "            );\n",
       "        \n",
       "    \n",
       "            var marker_5fa3ba734b345a79a85c963a70bb7bfb = L.marker(\n",
       "                [1.3585991366700532, 103.82418638183557],\n",
       "                {}\n",
       "            ).addTo(map_dab9d5b03ed0a35d9f3e3c412803b83e);\n",
       "        \n",
       "    \n",
       "            marker_5fa3ba734b345a79a85c963a70bb7bfb.bindTooltip(\n",
       "                `&lt;div&gt;\n",
       "                     3\n",
       "                 &lt;/div&gt;`,\n",
       "                {&quot;sticky&quot;: true}\n",
       "            );\n",
       "        \n",
       "    \n",
       "            var marker_2f4a6f633edd092502a45036216c5c0d = L.marker(\n",
       "                [1.3978697200051884, 103.82475361410458],\n",
       "                {}\n",
       "            ).addTo(map_dab9d5b03ed0a35d9f3e3c412803b83e);\n",
       "        \n",
       "    \n",
       "            marker_2f4a6f633edd092502a45036216c5c0d.bindTooltip(\n",
       "                `&lt;div&gt;\n",
       "                     4\n",
       "                 &lt;/div&gt;`,\n",
       "                {&quot;sticky&quot;: true}\n",
       "            );\n",
       "        \n",
       "    \n",
       "            var marker_40202d7104a18e47c8253fa5fb1282bd = L.marker(\n",
       "                [1.327586913808211, 103.82525781941514],\n",
       "                {}\n",
       "            ).addTo(map_dab9d5b03ed0a35d9f3e3c412803b83e);\n",
       "        \n",
       "    \n",
       "            marker_40202d7104a18e47c8253fa5fb1282bd.bindTooltip(\n",
       "                `&lt;div&gt;\n",
       "                     5\n",
       "                 &lt;/div&gt;`,\n",
       "                {&quot;sticky&quot;: true}\n",
       "            );\n",
       "        \n",
       "    \n",
       "            var marker_9cc7e62c9125aee042467ae84e687cf0 = L.marker(\n",
       "                [1.356088080540262, 103.80592373172115],\n",
       "                {}\n",
       "            ).addTo(map_dab9d5b03ed0a35d9f3e3c412803b83e);\n",
       "        \n",
       "    \n",
       "            marker_9cc7e62c9125aee042467ae84e687cf0.bindTooltip(\n",
       "                `&lt;div&gt;\n",
       "                     6\n",
       "                 &lt;/div&gt;`,\n",
       "                {&quot;sticky&quot;: true}\n",
       "            );\n",
       "        \n",
       "    \n",
       "            var marker_d94968de4e5f6ca0d53d6244fa9c5726 = L.marker(\n",
       "                [1.3590184107441585, 103.86005292254282],\n",
       "                {}\n",
       "            ).addTo(map_dab9d5b03ed0a35d9f3e3c412803b83e);\n",
       "        \n",
       "    \n",
       "            marker_d94968de4e5f6ca0d53d6244fa9c5726.bindTooltip(\n",
       "                `&lt;div&gt;\n",
       "                     7\n",
       "                 &lt;/div&gt;`,\n",
       "                {&quot;sticky&quot;: true}\n",
       "            );\n",
       "        \n",
       "    \n",
       "            var marker_518f24e4252ea086557fb018ad557289 = L.marker(\n",
       "                [1.3607951911598795, 103.81546966369723],\n",
       "                {}\n",
       "            ).addTo(map_dab9d5b03ed0a35d9f3e3c412803b83e);\n",
       "        \n",
       "    \n",
       "            marker_518f24e4252ea086557fb018ad557289.bindTooltip(\n",
       "                `&lt;div&gt;\n",
       "                     8\n",
       "                 &lt;/div&gt;`,\n",
       "                {&quot;sticky&quot;: true}\n",
       "            );\n",
       "        \n",
       "    \n",
       "            var marker_52ab2b9b04911bb52730b35debb7c647 = L.marker(\n",
       "                [1.3940769179579147, 103.81659624290974],\n",
       "                {}\n",
       "            ).addTo(map_dab9d5b03ed0a35d9f3e3c412803b83e);\n",
       "        \n",
       "    \n",
       "            marker_52ab2b9b04911bb52730b35debb7c647.bindTooltip(\n",
       "                `&lt;div&gt;\n",
       "                     9\n",
       "                 &lt;/div&gt;`,\n",
       "                {&quot;sticky&quot;: true}\n",
       "            );\n",
       "        \n",
       "    \n",
       "            var marker_69bf20b9083f4ce762f84112875a36f8 = L.marker(\n",
       "                [1.3332066585391096, 103.81821771090041],\n",
       "                {}\n",
       "            ).addTo(map_dab9d5b03ed0a35d9f3e3c412803b83e);\n",
       "        \n",
       "    \n",
       "            marker_69bf20b9083f4ce762f84112875a36f8.bindTooltip(\n",
       "                `&lt;div&gt;\n",
       "                     10\n",
       "                 &lt;/div&gt;`,\n",
       "                {&quot;sticky&quot;: true}\n",
       "            );\n",
       "        \n",
       "    \n",
       "            var marker_6aba697b56d88080990bef1bf6127e21 = L.marker(\n",
       "                [1.3552965488240303, 103.8148749000832],\n",
       "                {}\n",
       "            ).addTo(map_dab9d5b03ed0a35d9f3e3c412803b83e);\n",
       "        \n",
       "    \n",
       "            marker_6aba697b56d88080990bef1bf6127e21.bindTooltip(\n",
       "                `&lt;div&gt;\n",
       "                     11\n",
       "                 &lt;/div&gt;`,\n",
       "                {&quot;sticky&quot;: true}\n",
       "            );\n",
       "        \n",
       "    \n",
       "            var marker_fac4e8b326dbd6649b2e985879252c84 = L.marker(\n",
       "                [1.3603196561478315, 103.85116075784266],\n",
       "                {}\n",
       "            ).addTo(map_dab9d5b03ed0a35d9f3e3c412803b83e);\n",
       "        \n",
       "    \n",
       "            marker_fac4e8b326dbd6649b2e985879252c84.bindTooltip(\n",
       "                `&lt;div&gt;\n",
       "                     12\n",
       "                 &lt;/div&gt;`,\n",
       "                {&quot;sticky&quot;: true}\n",
       "            );\n",
       "        \n",
       "    \n",
       "            var marker_079af4154b6b9903f37b417edb7d756c = L.marker(\n",
       "                [1.3629866158545918, 103.80675178747822],\n",
       "                {}\n",
       "            ).addTo(map_dab9d5b03ed0a35d9f3e3c412803b83e);\n",
       "        \n",
       "    \n",
       "            marker_079af4154b6b9903f37b417edb7d756c.bindTooltip(\n",
       "                `&lt;div&gt;\n",
       "                     13\n",
       "                 &lt;/div&gt;`,\n",
       "                {&quot;sticky&quot;: true}\n",
       "            );\n",
       "        \n",
       "    \n",
       "            var marker_fa20adf4dbf2e898d64572498e2cb9e7 = L.marker(\n",
       "                [1.3866605022617986, 103.8217384793293],\n",
       "                {}\n",
       "            ).addTo(map_dab9d5b03ed0a35d9f3e3c412803b83e);\n",
       "        \n",
       "    \n",
       "            marker_fa20adf4dbf2e898d64572498e2cb9e7.bindTooltip(\n",
       "                `&lt;div&gt;\n",
       "                     14\n",
       "                 &lt;/div&gt;`,\n",
       "                {&quot;sticky&quot;: true}\n",
       "            );\n",
       "        \n",
       "    \n",
       "            var marker_e4daa536056d8c1c7fcb99bba8bac1eb = L.marker(\n",
       "                [1.3385783484574036, 103.81098895418192],\n",
       "                {}\n",
       "            ).addTo(map_dab9d5b03ed0a35d9f3e3c412803b83e);\n",
       "        \n",
       "    \n",
       "            marker_e4daa536056d8c1c7fcb99bba8bac1eb.bindTooltip(\n",
       "                `&lt;div&gt;\n",
       "                     15\n",
       "                 &lt;/div&gt;`,\n",
       "                {&quot;sticky&quot;: true}\n",
       "            );\n",
       "        \n",
       "    \n",
       "            var marker_bd0415871f36283aff77aae367f16fb3 = L.marker(\n",
       "                [1.3585678272897057, 103.80649769643551],\n",
       "                {}\n",
       "            ).addTo(map_dab9d5b03ed0a35d9f3e3c412803b83e);\n",
       "        \n",
       "    \n",
       "            marker_bd0415871f36283aff77aae367f16fb3.bindTooltip(\n",
       "                `&lt;div&gt;\n",
       "                     16\n",
       "                 &lt;/div&gt;`,\n",
       "                {&quot;sticky&quot;: true}\n",
       "            );\n",
       "        \n",
       "    \n",
       "            var marker_bceac02e42cc1649beaf2829343a694b = L.marker(\n",
       "                [1.3615289376958002, 103.84225578159628],\n",
       "                {}\n",
       "            ).addTo(map_dab9d5b03ed0a35d9f3e3c412803b83e);\n",
       "        \n",
       "    \n",
       "            marker_bceac02e42cc1649beaf2829343a694b.bindTooltip(\n",
       "                `&lt;div&gt;\n",
       "                     17\n",
       "                 &lt;/div&gt;`,\n",
       "                {&quot;sticky&quot;: true}\n",
       "            );\n",
       "        \n",
       "    \n",
       "            var marker_3026e94e7345a6f2131ca7feb974ee24 = L.marker(\n",
       "                [1.3651581015632206, 103.79802897927871],\n",
       "                {}\n",
       "            ).addTo(map_dab9d5b03ed0a35d9f3e3c412803b83e);\n",
       "        \n",
       "    \n",
       "            marker_3026e94e7345a6f2131ca7feb974ee24.bindTooltip(\n",
       "                `&lt;div&gt;\n",
       "                     18\n",
       "                 &lt;/div&gt;`,\n",
       "                {&quot;sticky&quot;: true}\n",
       "            );\n",
       "        \n",
       "    \n",
       "            var marker_e36f451559a7c9eb57f12a5e6ff1dcbe = L.marker(\n",
       "                [1.3843686983916998, 103.81304603572472],\n",
       "                {}\n",
       "            ).addTo(map_dab9d5b03ed0a35d9f3e3c412803b83e);\n",
       "        \n",
       "    \n",
       "            marker_e36f451559a7c9eb57f12a5e6ff1dcbe.bindTooltip(\n",
       "                `&lt;div&gt;\n",
       "                     19\n",
       "                 &lt;/div&gt;`,\n",
       "                {&quot;sticky&quot;: true}\n",
       "            );\n",
       "        \n",
       "    \n",
       "            var marker_73387c536c9d5b902e38d67f934bd032 = L.marker(\n",
       "                [1.3458650335840432, 103.80566686604716],\n",
       "                {}\n",
       "            ).addTo(map_dab9d5b03ed0a35d9f3e3c412803b83e);\n",
       "        \n",
       "    \n",
       "            marker_73387c536c9d5b902e38d67f934bd032.bindTooltip(\n",
       "                `&lt;div&gt;\n",
       "                     20\n",
       "                 &lt;/div&gt;`,\n",
       "                {&quot;sticky&quot;: true}\n",
       "            );\n",
       "        \n",
       "    \n",
       "            var marker_1f165bae661a99776cd37eb22c662b07 = L.marker(\n",
       "                [1.3626205126416155, 103.83333580164654],\n",
       "                {}\n",
       "            ).addTo(map_dab9d5b03ed0a35d9f3e3c412803b83e);\n",
       "        \n",
       "    \n",
       "            marker_1f165bae661a99776cd37eb22c662b07.bindTooltip(\n",
       "                `&lt;div&gt;\n",
       "                     21\n",
       "                 &lt;/div&gt;`,\n",
       "                {&quot;sticky&quot;: true}\n",
       "            );\n",
       "        \n",
       "    \n",
       "            var marker_4a9338549e40cfd29a5e22d5dc734afe = L.marker(\n",
       "                [1.3672856792096468, 103.78929548800059],\n",
       "                {}\n",
       "            ).addTo(map_dab9d5b03ed0a35d9f3e3c412803b83e);\n",
       "        \n",
       "    \n",
       "            marker_4a9338549e40cfd29a5e22d5dc734afe.bindTooltip(\n",
       "                `&lt;div&gt;\n",
       "                     22\n",
       "                 &lt;/div&gt;`,\n",
       "                {&quot;sticky&quot;: true}\n",
       "            );\n",
       "        \n",
       "    \n",
       "            var marker_7bb885d07a2296da0a8a77ba66386dd3 = L.marker(\n",
       "                [1.3825272587474529, 103.80424852719037],\n",
       "                {}\n",
       "            ).addTo(map_dab9d5b03ed0a35d9f3e3c412803b83e);\n",
       "        \n",
       "    \n",
       "            marker_7bb885d07a2296da0a8a77ba66386dd3.bindTooltip(\n",
       "                `&lt;div&gt;\n",
       "                     23\n",
       "                 &lt;/div&gt;`,\n",
       "                {&quot;sticky&quot;: true}\n",
       "            );\n",
       "        \n",
       "    \n",
       "            var marker_e69c492a2512abe0e126861a744a0de6 = L.marker(\n",
       "                [1.3524265119206746, 103.79948308747836],\n",
       "                {}\n",
       "            ).addTo(map_dab9d5b03ed0a35d9f3e3c412803b83e);\n",
       "        \n",
       "    \n",
       "            marker_e69c492a2512abe0e126861a744a0de6.bindTooltip(\n",
       "                `&lt;div&gt;\n",
       "                     24\n",
       "                 &lt;/div&gt;`,\n",
       "                {&quot;sticky&quot;: true}\n",
       "            );\n",
       "        \n",
       "    \n",
       "            var marker_22cd3f94a1e51c6d69e1ee43af603a4e = L.marker(\n",
       "                [1.3636914793516919, 103.82441335187363],\n",
       "                {}\n",
       "            ).addTo(map_dab9d5b03ed0a35d9f3e3c412803b83e);\n",
       "        \n",
       "    \n",
       "            marker_22cd3f94a1e51c6d69e1ee43af603a4e.bindTooltip(\n",
       "                `&lt;div&gt;\n",
       "                     25\n",
       "                 &lt;/div&gt;`,\n",
       "                {&quot;sticky&quot;: true}\n",
       "            );\n",
       "        \n",
       "    \n",
       "            var marker_0a5df5f577281fb79217efee92f9a25c = L.marker(\n",
       "                [1.3655897082659072, 103.79812175960559],\n",
       "                {}\n",
       "            ).addTo(map_dab9d5b03ed0a35d9f3e3c412803b83e);\n",
       "        \n",
       "    \n",
       "            marker_0a5df5f577281fb79217efee92f9a25c.bindTooltip(\n",
       "                `&lt;div&gt;\n",
       "                     26\n",
       "                 &lt;/div&gt;`,\n",
       "                {&quot;sticky&quot;: true}\n",
       "            );\n",
       "        \n",
       "    \n",
       "            var marker_f2c8fc319ebffd9a998cf7cf41603276 = L.marker(\n",
       "                [1.3811527070080543, 103.79536717608906],\n",
       "                {}\n",
       "            ).addTo(map_dab9d5b03ed0a35d9f3e3c412803b83e);\n",
       "        \n",
       "    \n",
       "            marker_f2c8fc319ebffd9a998cf7cf41603276.bindTooltip(\n",
       "                `&lt;div&gt;\n",
       "                     27\n",
       "                 &lt;/div&gt;`,\n",
       "                {&quot;sticky&quot;: true}\n",
       "            );\n",
       "        \n",
       "    \n",
       "            var marker_34b54e4104d22b0d151db6dc0cf01de3 = L.marker(\n",
       "                [1.3521432440109575, 103.80846431723309],\n",
       "                {}\n",
       "            ).addTo(map_dab9d5b03ed0a35d9f3e3c412803b83e);\n",
       "        \n",
       "    \n",
       "            marker_34b54e4104d22b0d151db6dc0cf01de3.bindTooltip(\n",
       "                `&lt;div&gt;\n",
       "                     28\n",
       "                 &lt;/div&gt;`,\n",
       "                {&quot;sticky&quot;: true}\n",
       "            );\n",
       "        \n",
       "    \n",
       "            var marker_47f3e570608e9b2be3d11f76c38b50d8 = L.marker(\n",
       "                [1.364879173235534, 103.81550549547346],\n",
       "                {}\n",
       "            ).addTo(map_dab9d5b03ed0a35d9f3e3c412803b83e);\n",
       "        \n",
       "    \n",
       "            marker_47f3e570608e9b2be3d11f76c38b50d8.bindTooltip(\n",
       "                `&lt;div&gt;\n",
       "                     29\n",
       "                 &lt;/div&gt;`,\n",
       "                {&quot;sticky&quot;: true}\n",
       "            );\n",
       "        \n",
       "    \n",
       "            var marker_24f5b03420f25eb112f0609c73e48f16 = L.marker(\n",
       "                [1.3676320717777737, 103.7893682064449],\n",
       "                {}\n",
       "            ).addTo(map_dab9d5b03ed0a35d9f3e3c412803b83e);\n",
       "        \n",
       "    \n",
       "            marker_24f5b03420f25eb112f0609c73e48f16.bindTooltip(\n",
       "                `&lt;div&gt;\n",
       "                     30\n",
       "                 &lt;/div&gt;`,\n",
       "                {&quot;sticky&quot;: true}\n",
       "            );\n",
       "        \n",
       "    \n",
       "            var marker_f856e74a7d2382a7b206b8f3d3b5da6f = L.marker(\n",
       "                [1.3662387384020143, 103.80662192740253],\n",
       "                {}\n",
       "            ).addTo(map_dab9d5b03ed0a35d9f3e3c412803b83e);\n",
       "        \n",
       "    \n",
       "            marker_f856e74a7d2382a7b206b8f3d3b5da6f.bindTooltip(\n",
       "                `&lt;div&gt;\n",
       "                     31\n",
       "                 &lt;/div&gt;`,\n",
       "                {&quot;sticky&quot;: true}\n",
       "            );\n",
       "        \n",
       "    \n",
       "            var marker_bd9a82ab79d661ad99bf9189ce402e4e = L.marker(\n",
       "                [1.3658959731067113, 103.7981867737696],\n",
       "                {}\n",
       "            ).addTo(map_dab9d5b03ed0a35d9f3e3c412803b83e);\n",
       "        \n",
       "    \n",
       "            marker_bd9a82ab79d661ad99bf9189ce402e4e.bindTooltip(\n",
       "                `&lt;div&gt;\n",
       "                     32\n",
       "                 &lt;/div&gt;`,\n",
       "                {&quot;sticky&quot;: true}\n",
       "            );\n",
       "        \n",
       "    \n",
       "            var marker_67b7c5251e8a6da5448f7f3838defb67 = L.marker(\n",
       "                [1.3678777718587944, 103.78941948688252],\n",
       "                {}\n",
       "            ).addTo(map_dab9d5b03ed0a35d9f3e3c412803b83e);\n",
       "        \n",
       "    \n",
       "            marker_67b7c5251e8a6da5448f7f3838defb67.bindTooltip(\n",
       "                `&lt;div&gt;\n",
       "                     33\n",
       "                 &lt;/div&gt;`,\n",
       "                {&quot;sticky&quot;: true}\n",
       "            );\n",
       "        \n",
       "    \n",
       "            var marker_74fd906a37b38671fb3fb9411230eb25 = L.marker(\n",
       "                [1.3678310150991506, 103.79777660516429],\n",
       "                {}\n",
       "            ).addTo(map_dab9d5b03ed0a35d9f3e3c412803b83e);\n",
       "        \n",
       "    \n",
       "            marker_74fd906a37b38671fb3fb9411230eb25.bindTooltip(\n",
       "                `&lt;div&gt;\n",
       "                     34\n",
       "                 &lt;/div&gt;`,\n",
       "                {&quot;sticky&quot;: true}\n",
       "            );\n",
       "        \n",
       "    \n",
       "            var marker_2dd818f5f79fff68401649f41f2f9b94 = L.marker(\n",
       "                [1.3694599110490622, 103.78893786206866],\n",
       "                {}\n",
       "            ).addTo(map_dab9d5b03ed0a35d9f3e3c412803b83e);\n",
       "        \n",
       "    \n",
       "            marker_2dd818f5f79fff68401649f41f2f9b94.bindTooltip(\n",
       "                `&lt;div&gt;\n",
       "                     35\n",
       "                 &lt;/div&gt;`,\n",
       "                {&quot;sticky&quot;: true}\n",
       "            );\n",
       "        \n",
       "    \n",
       "            var marker_6f32ef70660af1f727ffed8757ed9aab = L.marker(\n",
       "                [1.3661132349693432, 103.79823248095015],\n",
       "                {}\n",
       "            ).addTo(map_dab9d5b03ed0a35d9f3e3c412803b83e);\n",
       "        \n",
       "    \n",
       "            marker_6f32ef70660af1f727ffed8757ed9aab.bindTooltip(\n",
       "                `&lt;div&gt;\n",
       "                     36\n",
       "                 &lt;/div&gt;`,\n",
       "                {&quot;sticky&quot;: true}\n",
       "            );\n",
       "        \n",
       "&lt;/script&gt;\n",
       "&lt;/html&gt;\" style=\"position:absolute;width:100%;height:100%;left:0;top:0;border:none !important;\" allowfullscreen webkitallowfullscreen mozallowfullscreen></iframe></div></div>"
      ],
      "text/plain": [
       "<folium.folium.Map at 0x1559a8290>"
      ]
     },
     "execution_count": 202,
     "metadata": {},
     "output_type": "execute_result"
    }
   ],
   "source": [
    "coors =  [[1.3193790935628127, 103.82903068459888], [1.356772075222052, 103.79696381492978], [1.3577535204191273, 103.8689502597439], [1.3585991366700532, 103.82418638183557], [1.3978697200051884, 103.82475361410458], [1.327586913808211, 103.82525781941514], [1.356088080540262, 103.80592373172115], [1.3590184107441585, 103.86005292254282], [1.3607951911598795, 103.81546966369723], [1.3940769179579147, 103.81659624290974], [1.3332066585391096, 103.81821771090041], [1.3552965488240303, 103.8148749000832], [1.3603196561478315, 103.85116075784266], [1.3629866158545918, 103.80675178747822], [1.3866605022617986, 103.8217384793293], [1.3385783484574036, 103.81098895418192], [1.3585678272897057, 103.80649769643551], [1.3615289376958002, 103.84225578159628], [1.3651581015632206, 103.79802897927871], [1.3843686983916998, 103.81304603572472], [1.3458650335840432, 103.80566686604716], [1.3626205126416155, 103.83333580164654], [1.3672856792096468, 103.78929548800059], [1.3825272587474529, 103.80424852719037], [1.3524265119206746, 103.79948308747836], [1.3636914793516919, 103.82441335187363], [1.3655897082659072, 103.79812175960559], [1.3811527070080543, 103.79536717608906], [1.3521432440109575, 103.80846431723309], [1.364879173235534, 103.81550549547346], [1.3676320717777737, 103.7893682064449], [1.3662387384020143, 103.80662192740253], [1.3658959731067113, 103.7981867737696], [1.3678777718587944, 103.78941948688252], [1.3678310150991506, 103.79777660516429], [1.3694599110490622, 103.78893786206866], [1.3661132349693432, 103.79823248095015]]\n",
    "\n",
    "m = folium.Map(\n",
    "    location=(1.3674754117016408, 103.81093951150724), \n",
    "    zoom_start=11,\n",
    "    min_zoom=11\n",
    ")\n",
    "\n",
    "for i, coor in enumerate(coors):\n",
    "    m.add_child(\n",
    "        folium.Marker(\n",
    "            location = coor,\n",
    "            tooltip=i\n",
    "        )\n",
    "    )\n",
    "m"
   ]
  },
  {
   "cell_type": "code",
   "execution_count": 192,
   "metadata": {},
   "outputs": [
    {
     "name": "stdout",
     "output_type": "stream",
     "text": [
      "[]\n"
     ]
    }
   ],
   "source": [
    "import numpy as np\n",
    "\n",
    "a = np.array([[-1],[-1],[-1],[-1]])\n",
    "b = np.array([[0],[1],[2],[3]])\n",
    "\n",
    "# Create a boolean mask where True corresponds to elements in 'a' that are not -1\n",
    "mask = a != [-1]\n",
    "\n",
    "mask = np.all(mask, axis=1)\n",
    "# Use the mask to index into 'b'\n",
    "result = b[mask]\n",
    "\n",
    "print(result)"
   ]
  },
  {
   "cell_type": "code",
   "execution_count": 193,
   "metadata": {},
   "outputs": [
    {
     "data": {
      "text/plain": [
       "array([False, False, False, False])"
      ]
     },
     "execution_count": 193,
     "metadata": {},
     "output_type": "execute_result"
    }
   ],
   "source": [
    "mask"
   ]
  },
  {
   "cell_type": "code",
   "execution_count": 194,
   "metadata": {},
   "outputs": [
    {
     "data": {
      "text/plain": [
       "False"
      ]
     },
     "execution_count": 194,
     "metadata": {},
     "output_type": "execute_result"
    }
   ],
   "source": [
    "np.any(mask)"
   ]
  },
  {
   "cell_type": "code",
   "execution_count": 177,
   "metadata": {},
   "outputs": [
    {
     "data": {
      "text/plain": [
       "array([[1, 2],\n",
       "       [3, 4]])"
      ]
     },
     "execution_count": 177,
     "metadata": {},
     "output_type": "execute_result"
    }
   ],
   "source": [
    "np.unique(expand_search_array, axis=0)"
   ]
  },
  {
   "cell_type": "code",
   "execution_count": 198,
   "metadata": {},
   "outputs": [],
   "source": [
    "cost_vectors = np.array([[ 28.86319184, -17.96608517],\n",
    " [-1.00790728,11.89721101],\n",
    " [3.90371043,-26.26883033],\n",
    " [ -0.42292976,  -1.62547499]])\n",
    "\n"
   ]
  },
  {
   "cell_type": "code",
   "execution_count": 200,
   "metadata": {},
   "outputs": [
    {
     "data": {
      "text/plain": [
       "array([[ -31.90047291],\n",
       "       [  94.84241796],\n",
       "       [ -81.54735322],\n",
       "       [-104.58432752]])"
      ]
     },
     "execution_count": 200,
     "metadata": {},
     "output_type": "execute_result"
    }
   ],
   "source": [
    "np.degrees(np.arctan2(cost_vectors[:,1], cost_vectors[:,0])).reshape(-1,1)"
   ]
  },
  {
   "cell_type": "code",
   "execution_count": null,
   "metadata": {},
   "outputs": [],
   "source": []
  }
 ],
 "metadata": {
  "kernelspec": {
   "display_name": "housing_proj",
   "language": "python",
   "name": "python3"
  },
  "language_info": {
   "codemirror_mode": {
    "name": "ipython",
    "version": 3
   },
   "file_extension": ".py",
   "mimetype": "text/x-python",
   "name": "python",
   "nbconvert_exporter": "python",
   "pygments_lexer": "ipython3",
   "version": "3.11.5"
  }
 },
 "nbformat": 4,
 "nbformat_minor": 2
}
