{
 "cells": [
  {
   "cell_type": "code",
   "execution_count": 1,
   "metadata": {},
   "outputs": [
    {
     "data": {
      "text/plain": [
       "True"
      ]
     },
     "execution_count": 1,
     "metadata": {},
     "output_type": "execute_result"
    }
   ],
   "source": [
    "import os\n",
    "import sys\n",
    "sys.path.append(os.path.join(os.getcwd(), os.pardir))\n",
    "\n",
    "import pandas as pd\n",
    "import numpy as np\n",
    "from onemap_client import OneMapClient\n",
    "# from scipy.optimize import minimize\n",
    "import time\n",
    "import pyproj\n",
    "import math\n",
    "\n",
    "from dotenv import load_dotenv\n",
    "load_dotenv()"
   ]
  },
  {
   "cell_type": "code",
   "execution_count": 3,
   "metadata": {},
   "outputs": [
    {
     "name": "stdout",
     "output_type": "stream",
     "text": [
      "<Response [200]>\n"
     ]
    }
   ],
   "source": [
    "email = os.environ['ONE_MAP_API_EMAIL']\n",
    "password = os.environ['ONE_MAP_API_PASSWORD']\n",
    "\n",
    "Client = OneMapClient(email, password)\n",
    "token = Client.get_token(email, password)"
   ]
  },
  {
   "cell_type": "code",
   "execution_count": 3,
   "metadata": {},
   "outputs": [],
   "source": [
    "def cost_fn(time, freq):\n",
    "    # We should change this to scale accordingly\n",
    "    return np.exp(time)*freq"
   ]
  },
  {
   "cell_type": "code",
   "execution_count": 4,
   "metadata": {},
   "outputs": [],
   "source": [
    "def get_travelling_time(start, end, client):\n",
    "    # status = 'progress'\n",
    "    # while status=='progress':\n",
    "    journey = client.get_route(start, end, route_type='drive')\n",
    "    if 'route_summary' not in journey:\n",
    "        print(journey)\n",
    "    # print(journey['route_summary']['total_time']/60/60)\n",
    "\n",
    "    return journey['route_summary']['total_time']/60/60, journey['route_summary']['total_distance']"
   ]
  },
  {
   "cell_type": "code",
   "execution_count": 5,
   "metadata": {},
   "outputs": [],
   "source": [
    "def get_mid_point(locations):\n",
    "    coors = np.array([x['coor'] for x in locations])\n",
    "    freq = np.array([x['freq'] for x in locations])\n",
    "    midpoint = np.average(coors, axis=0, weights=freq)\n",
    "    return midpoint"
   ]
  },
  {
   "cell_type": "code",
   "execution_count": 6,
   "metadata": {},
   "outputs": [],
   "source": [
    "def valid_location(coor):\n",
    "    locations = Client.reverse_geocode_WGS84(coor, buffer=0)\n",
    "    print(f'{coor}: {locations}')\n",
    "    return 1 if len(locations['GeocodeInfo'])==0 else 0"
   ]
  },
  {
   "cell_type": "code",
   "execution_count": 7,
   "metadata": {},
   "outputs": [],
   "source": [
    "def objective_func(locations, cur):\n",
    "    total_cost = 0\n",
    "    individual_costs = {}\n",
    "    for location in locations:\n",
    "        coor = location['coor']\n",
    "        freq = location['freq']\n",
    "        time, distance = get_travelling_time(coor, cur, Client)\n",
    "        cost = cost_fn(time,freq)\n",
    "        total_cost += cost\n",
    "        individual_costs[tuple(coor)] = cost\n",
    "        \n",
    "    print(f'Total Cost: {total_cost}')\n",
    "    return total_cost, individual_costs\n"
   ]
  },
  {
   "cell_type": "code",
   "execution_count": 8,
   "metadata": {},
   "outputs": [],
   "source": [
    "def get_direction(ind_costs, origin):\n",
    "    locations = list(ind_costs.keys())\n",
    "    costs = np.array([ind_costs[x] for x in locations]).reshape(3,1)\n",
    "    locations = np.array(locations)\n",
    "    origin = np.array(origin)\n",
    "\n",
    "    geodesic = pyproj.Geod(ellps='WGS84')\n",
    "    bearings = []\n",
    "    for location in locations:\n",
    "        fwd_azimuth,back_azimuth,distance = geodesic.inv(origin[1], origin[0], location[1], location[0])\n",
    "        bearings.append(fwd_azimuth)\n",
    "        # print(f'start:{origin}, end:{location}, bearing:{fwd_azimuth}')\n",
    "\n",
    "    bearings = np.array(bearings).reshape(3,1)\n",
    "    # print(bearings)\n",
    "    v_cost_vectors =  costs * np.cos(bearings*np.pi/180)\n",
    "    # print(v_cost_vectors)\n",
    "    h_cost_vectors = costs * np.sin(bearings*np.pi/180)\n",
    "    # print(h_cost_vectors)\n",
    "    cost_vectors = np.hstack([v_cost_vectors, h_cost_vectors])\n",
    "    # print(cost_vectors)\n",
    "    sum_cost_vectors = np.sum(cost_vectors, axis=0)\n",
    "    print(f'Resultant Cost:{sum_cost_vectors}')\n",
    "\n",
    "    resultant_bearing = np.arctan(abs(sum_cost_vectors[0] / sum_cost_vectors[1]))*180/np.pi\n",
    "\n",
    "    if sum_cost_vectors[0]>=0:\n",
    "        if sum_cost_vectors[1]>=0:\n",
    "            return resultant_bearing\n",
    "        else:\n",
    "            return 360-resultant_bearing\n",
    "    else:\n",
    "        if sum_cost_vectors[1]>=0:\n",
    "            return 90+resultant_bearing\n",
    "        else:\n",
    "            return 180+resultant_bearing"
   ]
  },
  {
   "cell_type": "code",
   "execution_count": 9,
   "metadata": {},
   "outputs": [],
   "source": [
    "from geographiclib.constants import Constants\n",
    "from geographiclib.geodesic import Geodesic\n",
    "\n",
    "def update_point(cur, bearings, distance_to_move_km=2):\n",
    "    geodesic = pyproj.Geod(ellps='WGS84')\n",
    "    long, lat, back_azimuth = geodesic.fwd(cur[1], cur[0], bearings, distance_to_move_km*1000)\n",
    "\n",
    "    return lat,long"
   ]
  },
  {
   "cell_type": "code",
   "execution_count": 10,
   "metadata": {},
   "outputs": [],
   "source": [
    "def optimise(locations, iterations=10):\n",
    "    point = get_mid_point(locations)\n",
    "    coors = np.array([x['coor'] for x in locations])\n",
    "    bounds = ((np.min(coors[:,0]), np.max(coors[:,0])), (np.min(coors[:,1]), np.max(coors[:,1])))\n",
    "\n",
    "    results = {'coor': [], 'total_cost': [], 'ind_costs': []}\n",
    "    early_stop_count = 0\n",
    "    lowest_cost = float('inf')\n",
    "    for iter in range(iterations):\n",
    "        results['coor'].append(point)\n",
    "        costs, ind_costs = objective_func(locations, point)\n",
    "        results['total_cost'].append(costs); results['ind_costs'].append(ind_costs)\n",
    "\n",
    "        if lowest_cost>costs:\n",
    "            early_stop_count = 0\n",
    "            lowest_cost = costs\n",
    "        else:\n",
    "            early_stop_count+=1\n",
    "        if early_stop_count==5:\n",
    "            break\n",
    "\n",
    "        update_bearings = get_direction(ind_costs, point)\n",
    "        point = update_point(point, update_bearings)\n",
    "        \n",
    "    lowest_cost_idx = np.argmin(results['total_cost'])\n",
    "    best_point = results['coor'][lowest_cost_idx]\n",
    "    return best_point, results"
   ]
  },
  {
   "cell_type": "code",
   "execution_count": 11,
   "metadata": {},
   "outputs": [],
   "source": [
    "locations = [\n",
    "    # Changi Airport\n",
    "    {'coor': [1.334961708552094, 103.96292017145929], 'freq': 1},\n",
    "    # Murai Camp\n",
    "    {'coor': [1.3869972483354562, 103.70085045003314], 'freq': 7},\n",
    "    # Clarke Quay\n",
    "    {'coor': [1.2929040296020744, 103.84729261914465], 'freq': 7}\n",
    "]"
   ]
  },
  {
   "cell_type": "code",
   "execution_count": 12,
   "metadata": {},
   "outputs": [
    {
     "name": "stdout",
     "output_type": "stream",
     "text": [
      "Total Cost: 22.34981046998006\n",
      "Resultant Cost:[-1.1246741   0.49908395]\n",
      "Total Cost: 22.661115881225456\n",
      "Resultant Cost:[1.7259388  0.78879763]\n"
     ]
    },
    {
     "ename": "KeyboardInterrupt",
     "evalue": "",
     "output_type": "error",
     "traceback": [
      "\u001b[0;31m---------------------------------------------------------------------------\u001b[0m",
      "\u001b[0;31mKeyboardInterrupt\u001b[0m                         Traceback (most recent call last)",
      "\u001b[1;32m/Users/shaojieee/Desktop/data_products/project/CZ4125---Data-Product/optimisation_algorithm/optimisation_workings_.ipynb Cell 12\u001b[0m line \u001b[0;36m1\n\u001b[0;32m----> <a href='vscode-notebook-cell:/Users/shaojieee/Desktop/data_products/project/CZ4125---Data-Product/optimisation_algorithm/optimisation_workings_.ipynb#X44sZmlsZQ%3D%3D?line=0'>1</a>\u001b[0m optimised, results \u001b[39m=\u001b[39m optimise(locations, iterations\u001b[39m=\u001b[39;49m\u001b[39m20\u001b[39;49m)\n",
      "\u001b[1;32m/Users/shaojieee/Desktop/data_products/project/CZ4125---Data-Product/optimisation_algorithm/optimisation_workings_.ipynb Cell 12\u001b[0m line \u001b[0;36m1\n\u001b[1;32m      <a href='vscode-notebook-cell:/Users/shaojieee/Desktop/data_products/project/CZ4125---Data-Product/optimisation_algorithm/optimisation_workings_.ipynb#X44sZmlsZQ%3D%3D?line=8'>9</a>\u001b[0m \u001b[39mfor\u001b[39;00m \u001b[39miter\u001b[39m \u001b[39min\u001b[39;00m \u001b[39mrange\u001b[39m(iterations):\n\u001b[1;32m     <a href='vscode-notebook-cell:/Users/shaojieee/Desktop/data_products/project/CZ4125---Data-Product/optimisation_algorithm/optimisation_workings_.ipynb#X44sZmlsZQ%3D%3D?line=9'>10</a>\u001b[0m     results[\u001b[39m'\u001b[39m\u001b[39mcoor\u001b[39m\u001b[39m'\u001b[39m]\u001b[39m.\u001b[39mappend(point)\n\u001b[0;32m---> <a href='vscode-notebook-cell:/Users/shaojieee/Desktop/data_products/project/CZ4125---Data-Product/optimisation_algorithm/optimisation_workings_.ipynb#X44sZmlsZQ%3D%3D?line=10'>11</a>\u001b[0m     costs, ind_costs \u001b[39m=\u001b[39m objective_func(locations, point)\n\u001b[1;32m     <a href='vscode-notebook-cell:/Users/shaojieee/Desktop/data_products/project/CZ4125---Data-Product/optimisation_algorithm/optimisation_workings_.ipynb#X44sZmlsZQ%3D%3D?line=11'>12</a>\u001b[0m     results[\u001b[39m'\u001b[39m\u001b[39mtotal_cost\u001b[39m\u001b[39m'\u001b[39m]\u001b[39m.\u001b[39mappend(costs); results[\u001b[39m'\u001b[39m\u001b[39mind_costs\u001b[39m\u001b[39m'\u001b[39m]\u001b[39m.\u001b[39mappend(ind_costs)\n\u001b[1;32m     <a href='vscode-notebook-cell:/Users/shaojieee/Desktop/data_products/project/CZ4125---Data-Product/optimisation_algorithm/optimisation_workings_.ipynb#X44sZmlsZQ%3D%3D?line=13'>14</a>\u001b[0m     \u001b[39mif\u001b[39;00m lowest_cost\u001b[39m>\u001b[39mcosts:\n",
      "\u001b[1;32m/Users/shaojieee/Desktop/data_products/project/CZ4125---Data-Product/optimisation_algorithm/optimisation_workings_.ipynb Cell 12\u001b[0m line \u001b[0;36m7\n\u001b[1;32m      <a href='vscode-notebook-cell:/Users/shaojieee/Desktop/data_products/project/CZ4125---Data-Product/optimisation_algorithm/optimisation_workings_.ipynb#X44sZmlsZQ%3D%3D?line=4'>5</a>\u001b[0m coor \u001b[39m=\u001b[39m location[\u001b[39m'\u001b[39m\u001b[39mcoor\u001b[39m\u001b[39m'\u001b[39m]\n\u001b[1;32m      <a href='vscode-notebook-cell:/Users/shaojieee/Desktop/data_products/project/CZ4125---Data-Product/optimisation_algorithm/optimisation_workings_.ipynb#X44sZmlsZQ%3D%3D?line=5'>6</a>\u001b[0m freq \u001b[39m=\u001b[39m location[\u001b[39m'\u001b[39m\u001b[39mfreq\u001b[39m\u001b[39m'\u001b[39m]\n\u001b[0;32m----> <a href='vscode-notebook-cell:/Users/shaojieee/Desktop/data_products/project/CZ4125---Data-Product/optimisation_algorithm/optimisation_workings_.ipynb#X44sZmlsZQ%3D%3D?line=6'>7</a>\u001b[0m time, distance \u001b[39m=\u001b[39m get_travelling_time(coor, cur, Client)\n\u001b[1;32m      <a href='vscode-notebook-cell:/Users/shaojieee/Desktop/data_products/project/CZ4125---Data-Product/optimisation_algorithm/optimisation_workings_.ipynb#X44sZmlsZQ%3D%3D?line=7'>8</a>\u001b[0m cost \u001b[39m=\u001b[39m cost_fn(time,freq)\n\u001b[1;32m      <a href='vscode-notebook-cell:/Users/shaojieee/Desktop/data_products/project/CZ4125---Data-Product/optimisation_algorithm/optimisation_workings_.ipynb#X44sZmlsZQ%3D%3D?line=8'>9</a>\u001b[0m total_cost \u001b[39m+\u001b[39m\u001b[39m=\u001b[39m cost\n",
      "\u001b[1;32m/Users/shaojieee/Desktop/data_products/project/CZ4125---Data-Product/optimisation_algorithm/optimisation_workings_.ipynb Cell 12\u001b[0m line \u001b[0;36m4\n\u001b[1;32m      <a href='vscode-notebook-cell:/Users/shaojieee/Desktop/data_products/project/CZ4125---Data-Product/optimisation_algorithm/optimisation_workings_.ipynb#X44sZmlsZQ%3D%3D?line=0'>1</a>\u001b[0m \u001b[39mdef\u001b[39;00m \u001b[39mget_travelling_time\u001b[39m(start, end, client):\n\u001b[1;32m      <a href='vscode-notebook-cell:/Users/shaojieee/Desktop/data_products/project/CZ4125---Data-Product/optimisation_algorithm/optimisation_workings_.ipynb#X44sZmlsZQ%3D%3D?line=1'>2</a>\u001b[0m     \u001b[39m# status = 'progress'\u001b[39;00m\n\u001b[1;32m      <a href='vscode-notebook-cell:/Users/shaojieee/Desktop/data_products/project/CZ4125---Data-Product/optimisation_algorithm/optimisation_workings_.ipynb#X44sZmlsZQ%3D%3D?line=2'>3</a>\u001b[0m     \u001b[39m# while status=='progress':\u001b[39;00m\n\u001b[0;32m----> <a href='vscode-notebook-cell:/Users/shaojieee/Desktop/data_products/project/CZ4125---Data-Product/optimisation_algorithm/optimisation_workings_.ipynb#X44sZmlsZQ%3D%3D?line=3'>4</a>\u001b[0m     journey \u001b[39m=\u001b[39m client\u001b[39m.\u001b[39;49mget_route(start, end, route_type\u001b[39m=\u001b[39;49m\u001b[39m'\u001b[39;49m\u001b[39mdrive\u001b[39;49m\u001b[39m'\u001b[39;49m)\n\u001b[1;32m      <a href='vscode-notebook-cell:/Users/shaojieee/Desktop/data_products/project/CZ4125---Data-Product/optimisation_algorithm/optimisation_workings_.ipynb#X44sZmlsZQ%3D%3D?line=4'>5</a>\u001b[0m     \u001b[39mif\u001b[39;00m \u001b[39m'\u001b[39m\u001b[39mroute_summary\u001b[39m\u001b[39m'\u001b[39m \u001b[39mnot\u001b[39;00m \u001b[39min\u001b[39;00m journey:\n\u001b[1;32m      <a href='vscode-notebook-cell:/Users/shaojieee/Desktop/data_products/project/CZ4125---Data-Product/optimisation_algorithm/optimisation_workings_.ipynb#X44sZmlsZQ%3D%3D?line=5'>6</a>\u001b[0m         \u001b[39mprint\u001b[39m(journey)\n",
      "File \u001b[0;32m~/Desktop/data_products/project/CZ4125---Data-Product/optimisation_algorithm/../onemap_client.py:574\u001b[0m, in \u001b[0;36mOneMapClient.get_route\u001b[0;34m(self, start_coordinates, end_coordinates, route_type)\u001b[0m\n\u001b[1;32m    571\u001b[0m     start_coordinates \u001b[39m=\u001b[39m \u001b[39m\"\u001b[39m\u001b[39m{}\u001b[39;00m\u001b[39m,\u001b[39m\u001b[39m{}\u001b[39;00m\u001b[39m\"\u001b[39m\u001b[39m.\u001b[39mformat(start_coordinates[\u001b[39m0\u001b[39m], start_coordinates[\u001b[39m1\u001b[39m])\n\u001b[1;32m    572\u001b[0m     end_coordinates \u001b[39m=\u001b[39m \u001b[39m\"\u001b[39m\u001b[39m{}\u001b[39;00m\u001b[39m,\u001b[39m\u001b[39m{}\u001b[39;00m\u001b[39m\"\u001b[39m\u001b[39m.\u001b[39mformat(end_coordinates[\u001b[39m0\u001b[39m], end_coordinates[\u001b[39m1\u001b[39m])\n\u001b[0;32m--> 574\u001b[0m     \u001b[39mreturn\u001b[39;00m json\u001b[39m.\u001b[39mloads(requests\u001b[39m.\u001b[39;49mget(\u001b[39mself\u001b[39;49m\u001b[39m.\u001b[39;49murl_base \u001b[39m+\u001b[39;49m \u001b[39m\"\u001b[39;49m\u001b[39m/api/public/routingsvc/route\u001b[39;49m\u001b[39m\"\u001b[39;49m,\n\u001b[1;32m    575\u001b[0m                                    params\u001b[39m=\u001b[39;49m{\u001b[39m'\u001b[39;49m\u001b[39mstart\u001b[39;49m\u001b[39m'\u001b[39;49m: start_coordinates,\n\u001b[1;32m    576\u001b[0m                                            \u001b[39m'\u001b[39;49m\u001b[39mend\u001b[39;49m\u001b[39m'\u001b[39;49m: end_coordinates,\n\u001b[1;32m    577\u001b[0m                                            \u001b[39m'\u001b[39;49m\u001b[39mrouteType\u001b[39;49m\u001b[39m'\u001b[39;49m: route_type},\n\u001b[1;32m    578\u001b[0m                                    headers\u001b[39m=\u001b[39;49m{\u001b[39m'\u001b[39;49m\u001b[39mAuthorization\u001b[39;49m\u001b[39m'\u001b[39;49m: \u001b[39mself\u001b[39;49m\u001b[39m.\u001b[39;49mtoken})\u001b[39m.\u001b[39mtext)\n\u001b[1;32m    579\u001b[0m \u001b[39mexcept\u001b[39;00m \u001b[39mException\u001b[39;00m \u001b[39mas\u001b[39;00m e:\n\u001b[1;32m    580\u001b[0m     \u001b[39mprint\u001b[39m(e)\n",
      "File \u001b[0;32m~/.pyenv/versions/3.11.5/envs/housing_proj/lib/python3.11/site-packages/requests/api.py:73\u001b[0m, in \u001b[0;36mget\u001b[0;34m(url, params, **kwargs)\u001b[0m\n\u001b[1;32m     62\u001b[0m \u001b[39mdef\u001b[39;00m \u001b[39mget\u001b[39m(url, params\u001b[39m=\u001b[39m\u001b[39mNone\u001b[39;00m, \u001b[39m*\u001b[39m\u001b[39m*\u001b[39mkwargs):\n\u001b[1;32m     63\u001b[0m \u001b[39m    \u001b[39m\u001b[39mr\u001b[39m\u001b[39m\"\"\"Sends a GET request.\u001b[39;00m\n\u001b[1;32m     64\u001b[0m \n\u001b[1;32m     65\u001b[0m \u001b[39m    :param url: URL for the new :class:`Request` object.\u001b[39;00m\n\u001b[0;32m   (...)\u001b[0m\n\u001b[1;32m     70\u001b[0m \u001b[39m    :rtype: requests.Response\u001b[39;00m\n\u001b[1;32m     71\u001b[0m \u001b[39m    \"\"\"\u001b[39;00m\n\u001b[0;32m---> 73\u001b[0m     \u001b[39mreturn\u001b[39;00m request(\u001b[39m\"\u001b[39;49m\u001b[39mget\u001b[39;49m\u001b[39m\"\u001b[39;49m, url, params\u001b[39m=\u001b[39;49mparams, \u001b[39m*\u001b[39;49m\u001b[39m*\u001b[39;49mkwargs)\n",
      "File \u001b[0;32m~/.pyenv/versions/3.11.5/envs/housing_proj/lib/python3.11/site-packages/requests/api.py:59\u001b[0m, in \u001b[0;36mrequest\u001b[0;34m(method, url, **kwargs)\u001b[0m\n\u001b[1;32m     55\u001b[0m \u001b[39m# By using the 'with' statement we are sure the session is closed, thus we\u001b[39;00m\n\u001b[1;32m     56\u001b[0m \u001b[39m# avoid leaving sockets open which can trigger a ResourceWarning in some\u001b[39;00m\n\u001b[1;32m     57\u001b[0m \u001b[39m# cases, and look like a memory leak in others.\u001b[39;00m\n\u001b[1;32m     58\u001b[0m \u001b[39mwith\u001b[39;00m sessions\u001b[39m.\u001b[39mSession() \u001b[39mas\u001b[39;00m session:\n\u001b[0;32m---> 59\u001b[0m     \u001b[39mreturn\u001b[39;00m session\u001b[39m.\u001b[39;49mrequest(method\u001b[39m=\u001b[39;49mmethod, url\u001b[39m=\u001b[39;49murl, \u001b[39m*\u001b[39;49m\u001b[39m*\u001b[39;49mkwargs)\n",
      "File \u001b[0;32m~/.pyenv/versions/3.11.5/envs/housing_proj/lib/python3.11/site-packages/requests/sessions.py:589\u001b[0m, in \u001b[0;36mSession.request\u001b[0;34m(self, method, url, params, data, headers, cookies, files, auth, timeout, allow_redirects, proxies, hooks, stream, verify, cert, json)\u001b[0m\n\u001b[1;32m    584\u001b[0m send_kwargs \u001b[39m=\u001b[39m {\n\u001b[1;32m    585\u001b[0m     \u001b[39m\"\u001b[39m\u001b[39mtimeout\u001b[39m\u001b[39m\"\u001b[39m: timeout,\n\u001b[1;32m    586\u001b[0m     \u001b[39m\"\u001b[39m\u001b[39mallow_redirects\u001b[39m\u001b[39m\"\u001b[39m: allow_redirects,\n\u001b[1;32m    587\u001b[0m }\n\u001b[1;32m    588\u001b[0m send_kwargs\u001b[39m.\u001b[39mupdate(settings)\n\u001b[0;32m--> 589\u001b[0m resp \u001b[39m=\u001b[39m \u001b[39mself\u001b[39;49m\u001b[39m.\u001b[39;49msend(prep, \u001b[39m*\u001b[39;49m\u001b[39m*\u001b[39;49msend_kwargs)\n\u001b[1;32m    591\u001b[0m \u001b[39mreturn\u001b[39;00m resp\n",
      "File \u001b[0;32m~/.pyenv/versions/3.11.5/envs/housing_proj/lib/python3.11/site-packages/requests/sessions.py:703\u001b[0m, in \u001b[0;36mSession.send\u001b[0;34m(self, request, **kwargs)\u001b[0m\n\u001b[1;32m    700\u001b[0m start \u001b[39m=\u001b[39m preferred_clock()\n\u001b[1;32m    702\u001b[0m \u001b[39m# Send the request\u001b[39;00m\n\u001b[0;32m--> 703\u001b[0m r \u001b[39m=\u001b[39m adapter\u001b[39m.\u001b[39;49msend(request, \u001b[39m*\u001b[39;49m\u001b[39m*\u001b[39;49mkwargs)\n\u001b[1;32m    705\u001b[0m \u001b[39m# Total elapsed time of the request (approximately)\u001b[39;00m\n\u001b[1;32m    706\u001b[0m elapsed \u001b[39m=\u001b[39m preferred_clock() \u001b[39m-\u001b[39m start\n",
      "File \u001b[0;32m~/.pyenv/versions/3.11.5/envs/housing_proj/lib/python3.11/site-packages/requests/adapters.py:486\u001b[0m, in \u001b[0;36mHTTPAdapter.send\u001b[0;34m(self, request, stream, timeout, verify, cert, proxies)\u001b[0m\n\u001b[1;32m    483\u001b[0m     timeout \u001b[39m=\u001b[39m TimeoutSauce(connect\u001b[39m=\u001b[39mtimeout, read\u001b[39m=\u001b[39mtimeout)\n\u001b[1;32m    485\u001b[0m \u001b[39mtry\u001b[39;00m:\n\u001b[0;32m--> 486\u001b[0m     resp \u001b[39m=\u001b[39m conn\u001b[39m.\u001b[39;49murlopen(\n\u001b[1;32m    487\u001b[0m         method\u001b[39m=\u001b[39;49mrequest\u001b[39m.\u001b[39;49mmethod,\n\u001b[1;32m    488\u001b[0m         url\u001b[39m=\u001b[39;49murl,\n\u001b[1;32m    489\u001b[0m         body\u001b[39m=\u001b[39;49mrequest\u001b[39m.\u001b[39;49mbody,\n\u001b[1;32m    490\u001b[0m         headers\u001b[39m=\u001b[39;49mrequest\u001b[39m.\u001b[39;49mheaders,\n\u001b[1;32m    491\u001b[0m         redirect\u001b[39m=\u001b[39;49m\u001b[39mFalse\u001b[39;49;00m,\n\u001b[1;32m    492\u001b[0m         assert_same_host\u001b[39m=\u001b[39;49m\u001b[39mFalse\u001b[39;49;00m,\n\u001b[1;32m    493\u001b[0m         preload_content\u001b[39m=\u001b[39;49m\u001b[39mFalse\u001b[39;49;00m,\n\u001b[1;32m    494\u001b[0m         decode_content\u001b[39m=\u001b[39;49m\u001b[39mFalse\u001b[39;49;00m,\n\u001b[1;32m    495\u001b[0m         retries\u001b[39m=\u001b[39;49m\u001b[39mself\u001b[39;49m\u001b[39m.\u001b[39;49mmax_retries,\n\u001b[1;32m    496\u001b[0m         timeout\u001b[39m=\u001b[39;49mtimeout,\n\u001b[1;32m    497\u001b[0m         chunked\u001b[39m=\u001b[39;49mchunked,\n\u001b[1;32m    498\u001b[0m     )\n\u001b[1;32m    500\u001b[0m \u001b[39mexcept\u001b[39;00m (ProtocolError, \u001b[39mOSError\u001b[39;00m) \u001b[39mas\u001b[39;00m err:\n\u001b[1;32m    501\u001b[0m     \u001b[39mraise\u001b[39;00m \u001b[39mConnectionError\u001b[39;00m(err, request\u001b[39m=\u001b[39mrequest)\n",
      "File \u001b[0;32m~/.pyenv/versions/3.11.5/envs/housing_proj/lib/python3.11/site-packages/urllib3/connectionpool.py:790\u001b[0m, in \u001b[0;36mHTTPConnectionPool.urlopen\u001b[0;34m(self, method, url, body, headers, retries, redirect, assert_same_host, timeout, pool_timeout, release_conn, chunked, body_pos, preload_content, decode_content, **response_kw)\u001b[0m\n\u001b[1;32m    787\u001b[0m response_conn \u001b[39m=\u001b[39m conn \u001b[39mif\u001b[39;00m \u001b[39mnot\u001b[39;00m release_conn \u001b[39melse\u001b[39;00m \u001b[39mNone\u001b[39;00m\n\u001b[1;32m    789\u001b[0m \u001b[39m# Make the request on the HTTPConnection object\u001b[39;00m\n\u001b[0;32m--> 790\u001b[0m response \u001b[39m=\u001b[39m \u001b[39mself\u001b[39;49m\u001b[39m.\u001b[39;49m_make_request(\n\u001b[1;32m    791\u001b[0m     conn,\n\u001b[1;32m    792\u001b[0m     method,\n\u001b[1;32m    793\u001b[0m     url,\n\u001b[1;32m    794\u001b[0m     timeout\u001b[39m=\u001b[39;49mtimeout_obj,\n\u001b[1;32m    795\u001b[0m     body\u001b[39m=\u001b[39;49mbody,\n\u001b[1;32m    796\u001b[0m     headers\u001b[39m=\u001b[39;49mheaders,\n\u001b[1;32m    797\u001b[0m     chunked\u001b[39m=\u001b[39;49mchunked,\n\u001b[1;32m    798\u001b[0m     retries\u001b[39m=\u001b[39;49mretries,\n\u001b[1;32m    799\u001b[0m     response_conn\u001b[39m=\u001b[39;49mresponse_conn,\n\u001b[1;32m    800\u001b[0m     preload_content\u001b[39m=\u001b[39;49mpreload_content,\n\u001b[1;32m    801\u001b[0m     decode_content\u001b[39m=\u001b[39;49mdecode_content,\n\u001b[1;32m    802\u001b[0m     \u001b[39m*\u001b[39;49m\u001b[39m*\u001b[39;49mresponse_kw,\n\u001b[1;32m    803\u001b[0m )\n\u001b[1;32m    805\u001b[0m \u001b[39m# Everything went great!\u001b[39;00m\n\u001b[1;32m    806\u001b[0m clean_exit \u001b[39m=\u001b[39m \u001b[39mTrue\u001b[39;00m\n",
      "File \u001b[0;32m~/.pyenv/versions/3.11.5/envs/housing_proj/lib/python3.11/site-packages/urllib3/connectionpool.py:536\u001b[0m, in \u001b[0;36mHTTPConnectionPool._make_request\u001b[0;34m(self, conn, method, url, body, headers, retries, timeout, chunked, response_conn, preload_content, decode_content, enforce_content_length)\u001b[0m\n\u001b[1;32m    534\u001b[0m \u001b[39m# Receive the response from the server\u001b[39;00m\n\u001b[1;32m    535\u001b[0m \u001b[39mtry\u001b[39;00m:\n\u001b[0;32m--> 536\u001b[0m     response \u001b[39m=\u001b[39m conn\u001b[39m.\u001b[39;49mgetresponse()\n\u001b[1;32m    537\u001b[0m \u001b[39mexcept\u001b[39;00m (BaseSSLError, \u001b[39mOSError\u001b[39;00m) \u001b[39mas\u001b[39;00m e:\n\u001b[1;32m    538\u001b[0m     \u001b[39mself\u001b[39m\u001b[39m.\u001b[39m_raise_timeout(err\u001b[39m=\u001b[39me, url\u001b[39m=\u001b[39murl, timeout_value\u001b[39m=\u001b[39mread_timeout)\n",
      "File \u001b[0;32m~/.pyenv/versions/3.11.5/envs/housing_proj/lib/python3.11/site-packages/urllib3/connection.py:461\u001b[0m, in \u001b[0;36mHTTPConnection.getresponse\u001b[0;34m(self)\u001b[0m\n\u001b[1;32m    458\u001b[0m \u001b[39mfrom\u001b[39;00m \u001b[39m.\u001b[39;00m\u001b[39mresponse\u001b[39;00m \u001b[39mimport\u001b[39;00m HTTPResponse\n\u001b[1;32m    460\u001b[0m \u001b[39m# Get the response from http.client.HTTPConnection\u001b[39;00m\n\u001b[0;32m--> 461\u001b[0m httplib_response \u001b[39m=\u001b[39m \u001b[39msuper\u001b[39;49m()\u001b[39m.\u001b[39;49mgetresponse()\n\u001b[1;32m    463\u001b[0m \u001b[39mtry\u001b[39;00m:\n\u001b[1;32m    464\u001b[0m     assert_header_parsing(httplib_response\u001b[39m.\u001b[39mmsg)\n",
      "File \u001b[0;32m~/.pyenv/versions/3.11.5/lib/python3.11/http/client.py:1378\u001b[0m, in \u001b[0;36mHTTPConnection.getresponse\u001b[0;34m(self)\u001b[0m\n\u001b[1;32m   1376\u001b[0m \u001b[39mtry\u001b[39;00m:\n\u001b[1;32m   1377\u001b[0m     \u001b[39mtry\u001b[39;00m:\n\u001b[0;32m-> 1378\u001b[0m         response\u001b[39m.\u001b[39;49mbegin()\n\u001b[1;32m   1379\u001b[0m     \u001b[39mexcept\u001b[39;00m \u001b[39mConnectionError\u001b[39;00m:\n\u001b[1;32m   1380\u001b[0m         \u001b[39mself\u001b[39m\u001b[39m.\u001b[39mclose()\n",
      "File \u001b[0;32m~/.pyenv/versions/3.11.5/lib/python3.11/http/client.py:318\u001b[0m, in \u001b[0;36mHTTPResponse.begin\u001b[0;34m(self)\u001b[0m\n\u001b[1;32m    316\u001b[0m \u001b[39m# read until we get a non-100 response\u001b[39;00m\n\u001b[1;32m    317\u001b[0m \u001b[39mwhile\u001b[39;00m \u001b[39mTrue\u001b[39;00m:\n\u001b[0;32m--> 318\u001b[0m     version, status, reason \u001b[39m=\u001b[39m \u001b[39mself\u001b[39;49m\u001b[39m.\u001b[39;49m_read_status()\n\u001b[1;32m    319\u001b[0m     \u001b[39mif\u001b[39;00m status \u001b[39m!=\u001b[39m CONTINUE:\n\u001b[1;32m    320\u001b[0m         \u001b[39mbreak\u001b[39;00m\n",
      "File \u001b[0;32m~/.pyenv/versions/3.11.5/lib/python3.11/http/client.py:279\u001b[0m, in \u001b[0;36mHTTPResponse._read_status\u001b[0;34m(self)\u001b[0m\n\u001b[1;32m    278\u001b[0m \u001b[39mdef\u001b[39;00m \u001b[39m_read_status\u001b[39m(\u001b[39mself\u001b[39m):\n\u001b[0;32m--> 279\u001b[0m     line \u001b[39m=\u001b[39m \u001b[39mstr\u001b[39m(\u001b[39mself\u001b[39m\u001b[39m.\u001b[39mfp\u001b[39m.\u001b[39mreadline(_MAXLINE \u001b[39m+\u001b[39m \u001b[39m1\u001b[39m), \u001b[39m\"\u001b[39m\u001b[39miso-8859-1\u001b[39m\u001b[39m\"\u001b[39m)\n\u001b[1;32m    280\u001b[0m     \u001b[39mif\u001b[39;00m \u001b[39mlen\u001b[39m(line) \u001b[39m>\u001b[39m _MAXLINE:\n\u001b[1;32m    281\u001b[0m         \u001b[39mraise\u001b[39;00m LineTooLong(\u001b[39m\"\u001b[39m\u001b[39mstatus line\u001b[39m\u001b[39m\"\u001b[39m)\n",
      "File \u001b[0;32m~/.pyenv/versions/3.11.5/lib/python3.11/socket.py:706\u001b[0m, in \u001b[0;36mSocketIO.readinto\u001b[0;34m(self, b)\u001b[0m\n\u001b[1;32m    704\u001b[0m \u001b[39mwhile\u001b[39;00m \u001b[39mTrue\u001b[39;00m:\n\u001b[1;32m    705\u001b[0m     \u001b[39mtry\u001b[39;00m:\n\u001b[0;32m--> 706\u001b[0m         \u001b[39mreturn\u001b[39;00m \u001b[39mself\u001b[39;49m\u001b[39m.\u001b[39;49m_sock\u001b[39m.\u001b[39;49mrecv_into(b)\n\u001b[1;32m    707\u001b[0m     \u001b[39mexcept\u001b[39;00m timeout:\n\u001b[1;32m    708\u001b[0m         \u001b[39mself\u001b[39m\u001b[39m.\u001b[39m_timeout_occurred \u001b[39m=\u001b[39m \u001b[39mTrue\u001b[39;00m\n",
      "File \u001b[0;32m~/.pyenv/versions/3.11.5/lib/python3.11/ssl.py:1311\u001b[0m, in \u001b[0;36mSSLSocket.recv_into\u001b[0;34m(self, buffer, nbytes, flags)\u001b[0m\n\u001b[1;32m   1307\u001b[0m     \u001b[39mif\u001b[39;00m flags \u001b[39m!=\u001b[39m \u001b[39m0\u001b[39m:\n\u001b[1;32m   1308\u001b[0m         \u001b[39mraise\u001b[39;00m \u001b[39mValueError\u001b[39;00m(\n\u001b[1;32m   1309\u001b[0m           \u001b[39m\"\u001b[39m\u001b[39mnon-zero flags not allowed in calls to recv_into() on \u001b[39m\u001b[39m%s\u001b[39;00m\u001b[39m\"\u001b[39m \u001b[39m%\u001b[39m\n\u001b[1;32m   1310\u001b[0m           \u001b[39mself\u001b[39m\u001b[39m.\u001b[39m\u001b[39m__class__\u001b[39m)\n\u001b[0;32m-> 1311\u001b[0m     \u001b[39mreturn\u001b[39;00m \u001b[39mself\u001b[39;49m\u001b[39m.\u001b[39;49mread(nbytes, buffer)\n\u001b[1;32m   1312\u001b[0m \u001b[39melse\u001b[39;00m:\n\u001b[1;32m   1313\u001b[0m     \u001b[39mreturn\u001b[39;00m \u001b[39msuper\u001b[39m()\u001b[39m.\u001b[39mrecv_into(buffer, nbytes, flags)\n",
      "File \u001b[0;32m~/.pyenv/versions/3.11.5/lib/python3.11/ssl.py:1167\u001b[0m, in \u001b[0;36mSSLSocket.read\u001b[0;34m(self, len, buffer)\u001b[0m\n\u001b[1;32m   1165\u001b[0m \u001b[39mtry\u001b[39;00m:\n\u001b[1;32m   1166\u001b[0m     \u001b[39mif\u001b[39;00m buffer \u001b[39mis\u001b[39;00m \u001b[39mnot\u001b[39;00m \u001b[39mNone\u001b[39;00m:\n\u001b[0;32m-> 1167\u001b[0m         \u001b[39mreturn\u001b[39;00m \u001b[39mself\u001b[39;49m\u001b[39m.\u001b[39;49m_sslobj\u001b[39m.\u001b[39;49mread(\u001b[39mlen\u001b[39;49m, buffer)\n\u001b[1;32m   1168\u001b[0m     \u001b[39melse\u001b[39;00m:\n\u001b[1;32m   1169\u001b[0m         \u001b[39mreturn\u001b[39;00m \u001b[39mself\u001b[39m\u001b[39m.\u001b[39m_sslobj\u001b[39m.\u001b[39mread(\u001b[39mlen\u001b[39m)\n",
      "\u001b[0;31mKeyboardInterrupt\u001b[0m: "
     ]
    }
   ],
   "source": [
    "optimised, results = optimise(locations, iterations=20)"
   ]
  },
  {
   "cell_type": "code",
   "execution_count": 30,
   "metadata": {},
   "outputs": [
    {
     "data": {
      "image/png": "[encoded data removed]",
      "text/plain": [
       "<Figure size 640x480 with 1 Axes>"
      ]
     },
     "metadata": {},
     "output_type": "display_data"
    }
   ],
   "source": [
    "import matplotlib.pyplot as plt\n",
    "fig, ax = plt.subplots()\n",
    "ax.plot([x['coor'][1] for x in locations],[x['coor'][0] for x in locations], linestyle='None', marker='x', color='r')\n",
    "for i in range(len(results['coor'])):\n",
    "    ax.plot(results['coor'][i][1], results['coor'][i][0], linestyle='None', marker='o')\n",
    "    ax.annotate(i, (results['coor'][i][1], results['coor'][i][0]))\n",
    "plt.show()"
   ]
  },
  {
   "cell_type": "code",
   "execution_count": 20,
   "metadata": {},
   "outputs": [
    {
     "data": {
      "text/plain": [
       "[{(1.334961708552094, 103.96292017145929): 1.705078432444398,\n",
       "  (1.3869972483354562, 103.70085045003314): 10.533085047071848,\n",
       "  (1.2929040296020744, 103.84729261914465): 10.111646990463814},\n",
       " {(1.334961708552094, 103.96292017145929): 1.665753840086666,\n",
       "  (1.3869972483354562, 103.70085045003314): 11.293682317100641,\n",
       "  (1.2929040296020744, 103.84729261914465): 9.701679724038149},\n",
       " {(1.334961708552094, 103.96292017145929): 1.6834299236066137,\n",
       "  (1.3869972483354562, 103.70085045003314): 11.464364467708386,\n",
       "  (1.2929040296020744, 103.84729261914465): 9.772001043365586},\n",
       " {(1.334961708552094, 103.96292017145929): 1.6932786289574784,\n",
       "  (1.3869972483354562, 103.70085045003314): 11.67323994417567,\n",
       "  (1.2929040296020744, 103.84729261914465): 9.241349519038842},\n",
       " {(1.334961708552094, 103.96292017145929): 1.5818754093795897,\n",
       "  (1.3869972483354562, 103.70085045003314): 11.942181729928256,\n",
       "  (1.2929040296020744, 103.84729261914465): 9.040762176308759},\n",
       " {(1.334961708552094, 103.96292017145929): 1.6332233142471047,\n",
       "  (1.3869972483354562, 103.70085045003314): 11.218641515587038,\n",
       "  (1.2929040296020744, 103.84729261914465): 9.583825326951498},\n",
       " {(1.334961708552094, 103.96292017145929): 1.6165233741033809,\n",
       "  (1.3869972483354562, 103.70085045003314): 11.246723206864221,\n",
       "  (1.2929040296020744, 103.84729261914465): 9.38362083080952},\n",
       " {(1.334961708552094, 103.96292017145929): 1.6885816038765258,\n",
       "  (1.3869972483354562, 103.70085045003314): 10.30732279396118,\n",
       "  (1.2929040296020744, 103.84729261914465): 10.013815650997874},\n",
       " {(1.334961708552094, 103.96292017145929): 1.6057823946555605,\n",
       "  (1.3869972483354562, 103.70085045003314): 10.975136226016836,\n",
       "  (1.2929040296020744, 103.84729261914465): 9.32386102260569},\n",
       " {(1.334961708552094, 103.96292017145929): 1.5198491873866677,\n",
       "  (1.3869972483354562, 103.70085045003314): 11.46754945573283,\n",
       "  (1.2929040296020744, 103.84729261914465): 9.243916917138469},\n",
       " {(1.334961708552094, 103.96292017145929): 1.671779936189858,\n",
       "  (1.3869972483354562, 103.70085045003314): 11.048548235659627,\n",
       "  (1.2929040296020744, 103.84729261914465): 9.914176520465263},\n",
       " {(1.334961708552094, 103.96292017145929): 1.5223843814405065,\n",
       "  (1.3869972483354562, 103.70085045003314): 11.483487673399308,\n",
       "  (1.2929040296020744, 103.84729261914465): 9.259336291242821},\n",
       " {(1.334961708552094, 103.96292017145929): 1.6708514275016029,\n",
       "  (1.3869972483354562, 103.70085045003314): 11.039344947365965,\n",
       "  (1.2929040296020744, 103.84729261914465): 9.905918148164583},\n",
       " {(1.334961708552094, 103.96292017145929): 1.5261951038123216,\n",
       "  (1.3869972483354562, 103.70085045003314): 11.512232308405402,\n",
       "  (1.2929040296020744, 103.84729261914465): 9.282513591524772},\n",
       " {(1.334961708552094, 103.96292017145929): 1.6708514275016029,\n",
       "  (1.3869972483354562, 103.70085045003314): 11.039344947365965,\n",
       "  (1.2929040296020744, 103.84729261914465): 9.905918148164583},\n",
       " {(1.334961708552094, 103.96292017145929): 1.5334191796683978,\n",
       "  (1.3869972483354562, 103.70085045003314): 11.569937612989554,\n",
       "  (1.2929040296020744, 103.84729261914465): 9.326451343751028},\n",
       " {(1.334961708552094, 103.96292017145929): 1.681560484683226,\n",
       "  (1.3869972483354562, 103.70085045003314): 11.113186445187651,\n",
       "  (1.2929040296020744, 103.84729261914465): 9.972178223997616},\n",
       " {(1.334961708552094, 103.96292017145929): 1.7279650499335895,\n",
       "  (1.3869972483354562, 103.70085045003314): 9.991587434494742,\n",
       "  (1.2929040296020744, 103.84729261914465): 10.509704179774886},\n",
       " {(1.334961708552094, 103.96292017145929): 1.7356619862329987,\n",
       "  (1.3869972483354562, 103.70085045003314): 10.498033215755864,\n",
       "  (1.2929040296020744, 103.84729261914465): 10.556517929625018},\n",
       " {(1.334961708552094, 103.96292017145929): 1.7046048653227532,\n",
       "  (1.3869972483354562, 103.70085045003314): 11.265483374672872,\n",
       "  (1.2929040296020744, 103.84729261914465): 10.106030968952865}]"
      ]
     },
     "execution_count": 20,
     "metadata": {},
     "output_type": "execute_result"
    }
   ],
   "source": [
    "results['ind_costs']"
   ]
  },
  {
   "cell_type": "code",
   "execution_count": null,
   "metadata": {},
   "outputs": [],
   "source": []
  }
 ],
 "metadata": {
  "kernelspec": {
   "display_name": "data_product",
   "language": "python",
   "name": "python3"
  },
  "language_info": {
   "codemirror_mode": {
    "name": "ipython",
    "version": 3
   },
   "file_extension": ".py",
   "mimetype": "text/x-python",
   "name": "python",
   "nbconvert_exporter": "python",
   "pygments_lexer": "ipython3",
   "version": "3.11.5"
  },
  "orig_nbformat": 4
 },
 "nbformat": 4,
 "nbformat_minor": 2
}
