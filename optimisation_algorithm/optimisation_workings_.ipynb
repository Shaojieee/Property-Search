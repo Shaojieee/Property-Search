{
 "cells": [
  {
   "cell_type": "code",
   "execution_count": 1,
   "metadata": {},
   "outputs": [
    {
     "data": {
      "text/plain": [
       "True"
      ]
     },
     "execution_count": 1,
     "metadata": {},
     "output_type": "execute_result"
    }
   ],
   "source": [
    "import os\n",
    "import sys\n",
    "sys.path.append(os.path.join(os.getcwd(), os.pardir))\n",
    "\n",
    "import pandas as pd\n",
    "import numpy as np\n",
    "from onemap_client import OneMapClient\n",
    "# from scipy.optimize import minimize\n",
    "import time\n",
    "import pyproj\n",
    "import math\n",
    "\n",
    "from dotenv import load_dotenv\n",
    "load_dotenv()"
   ]
  },
  {
   "cell_type": "code",
   "execution_count": 2,
   "metadata": {},
   "outputs": [],
   "source": [
    "email = os.environ['ONE_MAP_API_EMAIL']\n",
    "password = os.environ['ONE_MAP_API_PASSWORD']\n",
    "\n",
    "Client = OneMapClient(email, password)\n",
    "token = Client.get_token(email, password)"
   ]
  },
  {
   "cell_type": "code",
   "execution_count": 3,
   "metadata": {},
   "outputs": [],
   "source": [
    "def cost_fn(time, freq):\n",
    "    # We should change this to scale accordingly\n",
    "    return np.exp(time)*freq"
   ]
  },
  {
   "cell_type": "code",
   "execution_count": 4,
   "metadata": {},
   "outputs": [],
   "source": [
    "def get_travelling_time(start, end, client):\n",
    "    # status = 'progress'\n",
    "    # while status=='progress':\n",
    "    journey = client.get_route(start, end, route_type='drive')\n",
    "    if 'route_summary' not in journey:\n",
    "        print(journey)\n",
    "    # print(journey['route_summary']['total_time']/60/60)\n",
    "\n",
    "    return journey['route_summary']['total_time']/60/60, journey['route_summary']['total_distance']"
   ]
  },
  {
   "cell_type": "code",
   "execution_count": 5,
   "metadata": {},
   "outputs": [],
   "source": [
    "def get_mid_point(locations):\n",
    "    coors = np.array([x['coor'] for x in locations])\n",
    "    freq = np.array([x['freq'] for x in locations])\n",
    "    midpoint = np.average(coors, axis=0, weights=freq)\n",
    "    return midpoint"
   ]
  },
  {
   "cell_type": "code",
   "execution_count": 6,
   "metadata": {},
   "outputs": [],
   "source": [
    "def valid_location(coor):\n",
    "    locations = Client.reverse_geocode_WGS84(coor, buffer=0)\n",
    "    print(f'{coor}: {locations}')\n",
    "    return 1 if len(locations['GeocodeInfo'])==0 else 0"
   ]
  },
  {
   "cell_type": "code",
   "execution_count": 7,
   "metadata": {},
   "outputs": [],
   "source": [
    "def objective_func(locations, cur):\n",
    "    total_cost = 0\n",
    "    individual_costs = {}\n",
    "    for location in locations:\n",
    "        coor = location['coor']\n",
    "        freq = location['freq']\n",
    "        time, distance = get_travelling_time(coor, cur, Client)\n",
    "        cost = cost_fn(time,freq)\n",
    "        total_cost += cost\n",
    "        individual_costs[tuple(coor)] = cost\n",
    "        \n",
    "    print(f'Total Cost: {total_cost}')\n",
    "    return total_cost, individual_costs\n"
   ]
  },
  {
   "cell_type": "code",
   "execution_count": 8,
   "metadata": {},
   "outputs": [],
   "source": [
    "def get_direction(ind_costs, origin):\n",
    "    locations = list(ind_costs.keys())\n",
    "    costs = np.array([ind_costs[x] for x in locations]).reshape(3,1)\n",
    "    locations = np.array(locations)\n",
    "    origin = np.array(origin)\n",
    "\n",
    "    geodesic = pyproj.Geod(ellps='WGS84')\n",
    "    bearings = []\n",
    "    for location in locations:\n",
    "        fwd_azimuth,back_azimuth,distance = geodesic.inv(origin[1], origin[0], location[1], location[0])\n",
    "        bearings.append(fwd_azimuth)\n",
    "        # print(f'start:{origin}, end:{location}, bearing:{fwd_azimuth}')\n",
    "\n",
    "    bearings = np.array(bearings).reshape(3,1)\n",
    "    # print(bearings)\n",
    "    v_cost_vectors =  costs * np.cos(bearings*np.pi/180)\n",
    "    # print(v_cost_vectors)\n",
    "    h_cost_vectors = costs * np.sin(bearings*np.pi/180)\n",
    "    # print(h_cost_vectors)\n",
    "    cost_vectors = np.hstack([v_cost_vectors, h_cost_vectors])\n",
    "    # print(cost_vectors)\n",
    "    sum_cost_vectors = np.sum(cost_vectors, axis=0)\n",
    "    print(f'Resultant Cost:{sum_cost_vectors}')\n",
    "\n",
    "    resultant_bearing = np.arctan(abs(sum_cost_vectors[0] / sum_cost_vectors[1]))*180/np.pi\n",
    "\n",
    "    if sum_cost_vectors[0]>=0:\n",
    "        if sum_cost_vectors[1]>=0:\n",
    "            return resultant_bearing\n",
    "        else:\n",
    "            return 360-resultant_bearing\n",
    "    else:\n",
    "        if sum_cost_vectors[1]>=0:\n",
    "            return 90+resultant_bearing\n",
    "        else:\n",
    "            return 180+resultant_bearing"
   ]
  },
  {
   "cell_type": "code",
   "execution_count": 21,
   "metadata": {},
   "outputs": [],
   "source": [
    "from geographiclib.constants import Constants\n",
    "from geographiclib.geodesic import Geodesic\n",
    "\n",
    "def update_point(cur, bearings, distance_to_move_km=2):\n",
    "    geodesic = pyproj.Geod(ellps='WGS84')\n",
    "    long, lat, back_azimuth = geodesic.fwd(cur[1], cur[0], bearings, distance_to_move_km*1000)\n",
    "\n",
    "    return lat,long"
   ]
  },
  {
   "cell_type": "code",
   "execution_count": 36,
   "metadata": {},
   "outputs": [],
   "source": [
    "def optimise(locations, iterations=10):\n",
    "    point = get_mid_point(locations)\n",
    "    coors = np.array([x['coor'] for x in locations])\n",
    "    bounds = ((np.min(coors[:,0]), np.max(coors[:,0])), (np.min(coors[:,1]), np.max(coors[:,1])))\n",
    "\n",
    "    results = {'coor': [], 'total_cost': [], 'ind_costs': []}\n",
    "    early_stop_count = 0\n",
    "    lowest_cost = float('inf')\n",
    "    for iter in range(iterations):\n",
    "        results['coor'].append(point)\n",
    "        costs, ind_costs = objective_func(locations, point)\n",
    "        results['total_cost'].append(costs); results['ind_costs'].append(ind_costs)\n",
    "\n",
    "        if lowest_cost>costs:\n",
    "            early_stop_count = 0\n",
    "            lowest_cost = costs\n",
    "        else:\n",
    "            early_stop_count+=1\n",
    "        if early_stop_count==5:\n",
    "            break\n",
    "\n",
    "        update_bearings = get_direction(ind_costs, point)\n",
    "        point = update_point(point, update_bearings)\n",
    "        \n",
    "    lowest_cost_idx = np.argmin(results['total_cost'])\n",
    "    best_point = results['coor'][lowest_cost_idx]\n",
    "    return best_point, results"
   ]
  },
  {
   "cell_type": "code",
   "execution_count": 37,
   "metadata": {},
   "outputs": [],
   "source": [
    "locations = [\n",
    "    # Changi Airport\n",
    "    {'coor': [1.334961708552094, 103.96292017145929], 'freq': 1},\n",
    "    # Murai Camp\n",
    "    {'coor': [1.3869972483354562, 103.70085045003314], 'freq': 7},\n",
    "    # Clarke Quay\n",
    "    {'coor': [1.2929040296020744, 103.84729261914465], 'freq': 7}\n",
    "]"
   ]
  },
  {
   "cell_type": "code",
   "execution_count": 38,
   "metadata": {},
   "outputs": [
    {
     "name": "stdout",
     "output_type": "stream",
     "text": [
      "Total Cost: 22.34981046998006\n",
      "Resultant Cost:[-1.1246741   0.49908395]\n",
      "103.79395077732403, 103.79395077732403\n",
      "1.3230854521954651, 1.3230854521954651\n",
      "Total Cost: 22.661115881225456\n",
      "Resultant Cost:[1.7259388  0.78879763]\n",
      "103.81029577818956, 103.81029577818956\n",
      "1.3306037660058188, 1.3306037660058185\n",
      "Total Cost: 22.919795434680587\n",
      "Resultant Cost:[-1.67992876 -1.65484054]\n",
      "103.79749310409271, 103.79749310409271\n",
      "1.3179106640760383, 1.3179106640760383\n",
      "Total Cost: 22.60786809217199\n",
      "Resultant Cost:[2.80682505 0.43703726]\n",
      "103.81525018854389, 103.81525018854389\n",
      "1.3206933552936384, 1.3206933552936384\n",
      "Total Cost: 22.564819315616603\n",
      "Resultant Cost:[ 0.20947764 -1.92522474]\n",
      "103.81330627437359, 103.81330627437359\n",
      "1.338674520549589, 1.3386745205495891\n",
      "Total Cost: 22.43569015678564\n"
     ]
    }
   ],
   "source": [
    "optimised, results = optimise(locations, iterations=20)"
   ]
  },
  {
   "cell_type": "code",
   "execution_count": 30,
   "metadata": {},
   "outputs": [
    {
     "data": {
      "image/png": "[encoded data removed]",
      "text/plain": [
       "<Figure size 640x480 with 1 Axes>"
      ]
     },
     "metadata": {},
     "output_type": "display_data"
    }
   ],
   "source": [
    "import matplotlib.pyplot as plt\n",
    "fig, ax = plt.subplots()\n",
    "ax.plot([x['coor'][1] for x in locations],[x['coor'][0] for x in locations], linestyle='None', marker='x', color='r')\n",
    "for i in range(len(results['coor'])):\n",
    "    ax.plot(results['coor'][i][1], results['coor'][i][0], linestyle='None', marker='o')\n",
    "    ax.annotate(i, (results['coor'][i][1], results['coor'][i][0]))\n",
    "plt.show()"
   ]
  },
  {
   "cell_type": "code",
   "execution_count": 20,
   "metadata": {},
   "outputs": [
    {
     "data": {
      "text/plain": [
       "[{(1.334961708552094, 103.96292017145929): 1.705078432444398,\n",
       "  (1.3869972483354562, 103.70085045003314): 10.533085047071848,\n",
       "  (1.2929040296020744, 103.84729261914465): 10.111646990463814},\n",
       " {(1.334961708552094, 103.96292017145929): 1.665753840086666,\n",
       "  (1.3869972483354562, 103.70085045003314): 11.293682317100641,\n",
       "  (1.2929040296020744, 103.84729261914465): 9.701679724038149},\n",
       " {(1.334961708552094, 103.96292017145929): 1.6834299236066137,\n",
       "  (1.3869972483354562, 103.70085045003314): 11.464364467708386,\n",
       "  (1.2929040296020744, 103.84729261914465): 9.772001043365586},\n",
       " {(1.334961708552094, 103.96292017145929): 1.6932786289574784,\n",
       "  (1.3869972483354562, 103.70085045003314): 11.67323994417567,\n",
       "  (1.2929040296020744, 103.84729261914465): 9.241349519038842},\n",
       " {(1.334961708552094, 103.96292017145929): 1.5818754093795897,\n",
       "  (1.3869972483354562, 103.70085045003314): 11.942181729928256,\n",
       "  (1.2929040296020744, 103.84729261914465): 9.040762176308759},\n",
       " {(1.334961708552094, 103.96292017145929): 1.6332233142471047,\n",
       "  (1.3869972483354562, 103.70085045003314): 11.218641515587038,\n",
       "  (1.2929040296020744, 103.84729261914465): 9.583825326951498},\n",
       " {(1.334961708552094, 103.96292017145929): 1.6165233741033809,\n",
       "  (1.3869972483354562, 103.70085045003314): 11.246723206864221,\n",
       "  (1.2929040296020744, 103.84729261914465): 9.38362083080952},\n",
       " {(1.334961708552094, 103.96292017145929): 1.6885816038765258,\n",
       "  (1.3869972483354562, 103.70085045003314): 10.30732279396118,\n",
       "  (1.2929040296020744, 103.84729261914465): 10.013815650997874},\n",
       " {(1.334961708552094, 103.96292017145929): 1.6057823946555605,\n",
       "  (1.3869972483354562, 103.70085045003314): 10.975136226016836,\n",
       "  (1.2929040296020744, 103.84729261914465): 9.32386102260569},\n",
       " {(1.334961708552094, 103.96292017145929): 1.5198491873866677,\n",
       "  (1.3869972483354562, 103.70085045003314): 11.46754945573283,\n",
       "  (1.2929040296020744, 103.84729261914465): 9.243916917138469},\n",
       " {(1.334961708552094, 103.96292017145929): 1.671779936189858,\n",
       "  (1.3869972483354562, 103.70085045003314): 11.048548235659627,\n",
       "  (1.2929040296020744, 103.84729261914465): 9.914176520465263},\n",
       " {(1.334961708552094, 103.96292017145929): 1.5223843814405065,\n",
       "  (1.3869972483354562, 103.70085045003314): 11.483487673399308,\n",
       "  (1.2929040296020744, 103.84729261914465): 9.259336291242821},\n",
       " {(1.334961708552094, 103.96292017145929): 1.6708514275016029,\n",
       "  (1.3869972483354562, 103.70085045003314): 11.039344947365965,\n",
       "  (1.2929040296020744, 103.84729261914465): 9.905918148164583},\n",
       " {(1.334961708552094, 103.96292017145929): 1.5261951038123216,\n",
       "  (1.3869972483354562, 103.70085045003314): 11.512232308405402,\n",
       "  (1.2929040296020744, 103.84729261914465): 9.282513591524772},\n",
       " {(1.334961708552094, 103.96292017145929): 1.6708514275016029,\n",
       "  (1.3869972483354562, 103.70085045003314): 11.039344947365965,\n",
       "  (1.2929040296020744, 103.84729261914465): 9.905918148164583},\n",
       " {(1.334961708552094, 103.96292017145929): 1.5334191796683978,\n",
       "  (1.3869972483354562, 103.70085045003314): 11.569937612989554,\n",
       "  (1.2929040296020744, 103.84729261914465): 9.326451343751028},\n",
       " {(1.334961708552094, 103.96292017145929): 1.681560484683226,\n",
       "  (1.3869972483354562, 103.70085045003314): 11.113186445187651,\n",
       "  (1.2929040296020744, 103.84729261914465): 9.972178223997616},\n",
       " {(1.334961708552094, 103.96292017145929): 1.7279650499335895,\n",
       "  (1.3869972483354562, 103.70085045003314): 9.991587434494742,\n",
       "  (1.2929040296020744, 103.84729261914465): 10.509704179774886},\n",
       " {(1.334961708552094, 103.96292017145929): 1.7356619862329987,\n",
       "  (1.3869972483354562, 103.70085045003314): 10.498033215755864,\n",
       "  (1.2929040296020744, 103.84729261914465): 10.556517929625018},\n",
       " {(1.334961708552094, 103.96292017145929): 1.7046048653227532,\n",
       "  (1.3869972483354562, 103.70085045003314): 11.265483374672872,\n",
       "  (1.2929040296020744, 103.84729261914465): 10.106030968952865}]"
      ]
     },
     "execution_count": 20,
     "metadata": {},
     "output_type": "execute_result"
    }
   ],
   "source": [
    "results['ind_costs']"
   ]
  },
  {
   "cell_type": "code",
   "execution_count": null,
   "metadata": {},
   "outputs": [],
   "source": []
  }
 ],
 "metadata": {
  "kernelspec": {
   "display_name": "data_product",
   "language": "python",
   "name": "python3"
  },
  "language_info": {
   "codemirror_mode": {
    "name": "ipython",
    "version": 3
   },
   "file_extension": ".py",
   "mimetype": "text/x-python",
   "name": "python",
   "nbconvert_exporter": "python",
   "pygments_lexer": "ipython3",
   "version": "3.11.5"
  },
  "orig_nbformat": 4
 },
 "nbformat": 4,
 "nbformat_minor": 2
}
